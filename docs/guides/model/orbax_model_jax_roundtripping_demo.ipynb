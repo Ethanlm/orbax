{
  "cells": [
    {
      "metadata": {
        "id": "Lt1qTOUy0g6o"
      },
      "cell_type": "markdown",
      "source": [
        "### Set up notebook"
      ]
    },
    {
      "metadata": {
        "id": "vHW38inKfblL"
      },
      "cell_type": "code",
      "source": [
        "import os\n",
        "import re\n",
        "import absl.flags as flags\n",
        "import flax.linen as nn\n",
        "import jax\n",
        "from jax.experimental import mesh_utils\n",
        "import jax.numpy as jnp\n",
        "from jax.sharding import NamedSharding\n",
        "from jax.sharding import PartitionSpec\n",
        "import orbax.checkpoint as ocp"
      ],
      "outputs": [],
      "execution_count": 324
    },
    {
      "metadata": {
        "id": "doXWsyK6QZcI"
      },
      "cell_type": "code",
      "source": [
        "# This needs to be run first before any JAX code, to force JAX to use CPU in our demo for training.\n",
        "num_cpu_devices = 8\n",
        "xla_flags = os.getenv('XLA_FLAGS', '')\n",
        "xla_flags = re.sub(\n",
        "    r'--xla_force_host_platform_device_count=\\S+', '', xla_flags\n",
        ").split()\n",
        "os.environ['XLA_FLAGS'] = ' '.join(\n",
        "    [f'--xla_force_host_platform_device_count={num_cpu_devices}'] + xla_flags\n",
        ")\n",
        "jax.config.update('jax_platforms', 'cpu')\n",
        "flags.FLAGS.jax_allow_unused_tpus = True\n",
        "jax.devices()"
      ],
      "outputs": [],
      "execution_count": 325
    },
    {
      "metadata": {
        "id": "AwVLBD4GNolG"
      },
      "cell_type": "code",
      "source": [
        "assert len(jax.devices()) == 8\n",
        "\n",
        "jax.config.update('jax_enable_x64', True)"
      ],
      "outputs": [],
      "execution_count": 326
    },
    {
      "metadata": {
        "id": "-cA6K73ggC-_"
      },
      "cell_type": "code",
      "source": [
        "from orbax.experimental.model import core as obm\n",
        "from orbax.experimental.model import jax2obm\n",
        "from orbax.experimental.model.jax2obm import jax_supplemental_pb2\n",
        "from orbax.experimental.model.jax2obm import obm_to_jax\n",
        "from orbax.export import oex_orchestration\n",
        "from orbax.export.protos import oex_orchestration_pb2"
      ],
      "outputs": [],
      "execution_count": 327
    },
    {
      "metadata": {
        "id": "RXCuvoXuPz4u"
      },
      "cell_type": "markdown",
      "source": [
        "## Demo JAX roundtripping"
      ]
    },
    {
      "metadata": {
        "id": "CSyZurZAPE_u"
      },
      "cell_type": "code",
      "source": [
        "# Create the model.\n",
        "class Mnist(nn.Module):\n",
        "  \"\"\"Flax MNIST model.\"\"\"\n",
        "\n",
        "  @nn.compact\n",
        "  def __call__(self, x):\n",
        "    \"\"\"See base class.\"\"\"\n",
        "    x = nn.Conv(features=32, kernel_size=(4, 4))(x)\n",
        "    x = nn.relu(x)\n",
        "    x = nn.avg_pool(x, window_shape=(2, 2), strides=(2, 2))\n",
        "    x = nn.Conv(features=64, kernel_size=(4, 4))(x)\n",
        "    x = nn.relu(x)\n",
        "    x = nn.avg_pool(x, window_shape=(2, 2), strides=(2, 2))\n",
        "    x = x.reshape((x.shape[0], -1))  # flatten\n",
        "    x = nn.Dense(features=256)(x)\n",
        "    x = nn.relu(x)\n",
        "    x = nn.Dense(features=10)(x)\n",
        "    x = nn.log_softmax(x)\n",
        "    return x\n",
        "\n",
        "\n",
        "model = Mnist()"
      ],
      "outputs": [],
      "execution_count": 328
    },
    {
      "metadata": {
        "id": "ybjjDcg9RfX-"
      },
      "cell_type": "code",
      "source": [
        "# Initiate the model parameters.\n",
        "input_args_spec = jax.ShapeDtypeStruct((4, 28, 28, 1), jnp.float64)\n",
        "params = model.init(\n",
        "    jax.random.PRNGKey(666),\n",
        "    jnp.ones(shape=input_args_spec.shape, dtype=input_args_spec.dtype),\n",
        ")"
      ],
      "outputs": [],
      "execution_count": 329
    },
    {
      "metadata": {
        "id": "D561f6YeYBox"
      },
      "cell_type": "markdown",
      "source": [
        "Here we shard the model (2x2x2) across 8 devices."
      ]
    },
    {
      "metadata": {
        "id": "eZkWYMzZUpmc"
      },
      "cell_type": "code",
      "source": [
        "# Shard the model.\n",
        "def get_mesh():\n",
        "  devices = mesh_utils.create_device_mesh((2, 2, 2))\n",
        "  return jax.sharding.Mesh(devices, ('b', 'x', 'y'))\n",
        "\n",
        "\n",
        "mesh = get_mesh()\n",
        "\n",
        "params_sharding_spec = jax.tree_util.tree_map(\n",
        "    lambda _: NamedSharding(mesh, jax.sharding.PartitionSpec('y')), params\n",
        ")\n",
        "input_sharding_spec = NamedSharding(mesh, PartitionSpec('b', 'x', None, None))\n",
        "\n",
        "model_apply_fn = jax.jit(\n",
        "    model.apply,\n",
        "    in_shardings=(\n",
        "        params_sharding_spec,\n",
        "        input_sharding_spec,\n",
        "    ),\n",
        "    out_shardings=NamedSharding(mesh, PartitionSpec('b', 'y')),\n",
        ")\n",
        "\n",
        "params_args_spec = jax2obm.get_shape_dtype_struct(params)"
      ],
      "outputs": [],
      "execution_count": 330
    },
    {
      "metadata": {
        "id": "jYALKtxSVJfd"
      },
      "cell_type": "code",
      "source": [
        "# Convert the JAX function to SHLO.\n",
        "obm_shlo_fn = jax2obm.convert(\n",
        "    model_apply_fn,\n",
        "    (params_args_spec, input_args_spec),\n",
        "    {},\n",
        ")\n",
        "\n",
        "# Add to the OBM module.\n",
        "obm_module = dict()\n",
        "model_function_name = 'mnist_forward_fn'\n",
        "obm_module[model_function_name] = obm_shlo_fn"
      ],
      "outputs": [],
      "execution_count": 331
    },
    {
      "metadata": {
        "id": "fJJMr9n3VQVz"
      },
      "cell_type": "code",
      "source": [
        "save_dir_path = \"/tmp/model\"\n",
        "!mkdir /tmp/model"
      ],
      "outputs": [],
      "execution_count": 332
    },
    {
      "metadata": {
        "id": "1EA2Ap-cVR1o"
      },
      "cell_type": "code",
      "source": [
        "# Saves the params to Orbax Checkpoint, which will be loaded later.\n",
        "!rm -r  /tmp/model/my_checkpoint\n",
        "checkpoint_path = 'my_checkpoint'\n",
        "checkpoint_abs_path = os.path.join(save_dir_path, checkpoint_path)\n",
        "checkpointer = ocp.Checkpointer(ocp.StandardCheckpointHandler())\n",
        "checkpointer.save(checkpoint_abs_path, params)\n",
        "weights_name = 'my_weights'\n",
        "obm_module[weights_name] = jax2obm.main_lib.convert_path_to_value(\n",
        "    checkpoint_path,\n",
        "    mime_type='orbax_checkpoint',\n",
        ")"
      ],
      "outputs": [],
      "execution_count": 333
    },
    {
      "metadata": {
        "id": "DEy8AUP5VWHc"
      },
      "cell_type": "code",
      "source": [
        "!ls /tmp/model/my_checkpoint/"
      ],
      "outputs": [],
      "execution_count": 334
    },
    {
      "metadata": {
        "id": "5wXmiVyRVX3x"
      },
      "cell_type": "code",
      "source": [
        "# Save the OBM module.\n",
        "obm.save(\n",
        "    obm_module,\n",
        "    save_dir_path,\n",
        "    obm.SaveOptions(\n",
        "        version=2,\n",
        "        supplemental_info=obm.GlobalSupplemental(\n",
        "            oex_orchestration.create(\n",
        "                signature=oex_orchestration.calculate_signature(\n",
        "                    model_function_signature=obm_shlo_fn.signature\n",
        "                ),\n",
        "                model_function_name=model_function_name,\n",
        "                weights_name=weights_name,\n",
        "            ),\n",
        "            'my_orchestration.pb',\n",
        "        ),\n",
        "    ),\n",
        ")"
      ],
      "outputs": [],
      "execution_count": 335
    },
    {
      "metadata": {
        "id": "XrVtdYktVaj9"
      },
      "cell_type": "code",
      "source": [
        "# All of those information will be provided by the manifest at load time.\n",
        "del model_function_name\n",
        "del weights_name\n",
        "del checkpoint_path\n",
        "del checkpoint_abs_path"
      ],
      "outputs": [],
      "execution_count": 308
    },
    {
      "metadata": {
        "id": "QeRub_jYVclI"
      },
      "cell_type": "code",
      "source": [
        "!ls /tmp/model"
      ],
      "outputs": [],
      "execution_count": 309
    },
    {
      "metadata": {
        "id": "ktFrEr1tYKuA"
      },
      "cell_type": "markdown",
      "source": [
        "## Load the model from disk."
      ]
    },
    {
      "metadata": {
        "id": "9EnJ5SbXVhjW"
      },
      "cell_type": "code",
      "source": [
        "# Load the manifest.\n",
        "manifest_proto = obm.manifest_pb2.Manifest()\n",
        "with open(os.path.join(save_dir_path, obm.MANIFEST_FILENAME), 'rb') as f:\n",
        "  manifest_proto.ParseFromString(f.read())"
      ],
      "outputs": [],
      "execution_count": 310
    },
    {
      "metadata": {
        "collapsed": true,
        "id": "YSUoBWuN5dHN"
      },
      "cell_type": "code",
      "source": [
        "manifest_proto"
      ],
      "outputs": [],
      "execution_count": 311
    },
    {
      "metadata": {
        "id": "5JT1-Og6VjiC"
      },
      "cell_type": "code",
      "source": [
        "# Load the orchestration.\n",
        "orch_filename = (\n",
        "    manifest_proto.supplemental_info.single.file_system_location.string_path\n",
        ")\n",
        "orch_proto = oex_orchestration_pb2.Pipeline()\n",
        "with open(os.path.join(save_dir_path, orch_filename), 'rb') as f:\n",
        "  orch_proto.ParseFromString(f.read())"
      ],
      "outputs": [],
      "execution_count": 312
    },
    {
      "metadata": {
        "collapsed": true,
        "id": "nws0ypP7Vlg3"
      },
      "cell_type": "code",
      "source": [
        "orch_proto"
      ],
      "outputs": [],
      "execution_count": 313
    },
    {
      "metadata": {
        "id": "gHZ1zpNuVmeT"
      },
      "cell_type": "code",
      "source": [
        "# Load the model function.\n",
        "\n",
        "loaded_model_function_name = orch_proto.model_function_name\n",
        "loaded_obm_function = manifest_proto.objects[\n",
        "    loaded_model_function_name\n",
        "].function"
      ],
      "outputs": [],
      "execution_count": 314
    },
    {
      "metadata": {
        "collapsed": true,
        "id": "rGypRmqm5NNH"
      },
      "cell_type": "code",
      "source": [
        "loaded_obm_function"
      ],
      "outputs": [],
      "execution_count": 315
    },
    {
      "metadata": {
        "id": "ScHjbmHAVouN"
      },
      "cell_type": "code",
      "source": [
        "# Load the supplemental information.\n",
        "jax_supplemental_filename = (\n",
        "    loaded_obm_function.body.stable_hlo_body.supplemental_info.file_system_location.string_path\n",
        ")\n",
        "jax_supplemental_proto = jax_supplemental_pb2.Function()\n",
        "with open(os.path.join(save_dir_path, jax_supplemental_filename), 'rb') as f:\n",
        "  jax_supplemental_proto.ParseFromString(f.read())"
      ],
      "outputs": [],
      "execution_count": 316
    },
    {
      "metadata": {
        "id": "MmyPv7_NVqus"
      },
      "cell_type": "code",
      "source": [
        "jax_supplemental_proto"
      ],
      "outputs": [],
      "execution_count": 317
    },
    {
      "metadata": {
        "id": "Kisz5K1wVrrd"
      },
      "cell_type": "code",
      "source": [
        "# Deserializes into a JAX function.\n",
        "deserialized_jax_exported = obm_to_jax.obm_functions_to_jax_function(\n",
        "    loaded_obm_function,\n",
        "    jax_supplemental_proto,\n",
        ")"
      ],
      "outputs": [],
      "execution_count": 318
    },
    {
      "metadata": {
        "id": "A_6EV8wOVvxE"
      },
      "cell_type": "code",
      "source": [
        "# Restore/load the params from the saved Orbax Checkpoint.\n",
        "\n",
        "loaded_weights_name = orch_proto.weights_name\n",
        "loaded_checkpoint_path = manifest_proto.objects[\n",
        "    loaded_weights_name\n",
        "].value.external.data.file_system_location.string_path\n",
        "restored_params = checkpointer.restore(\n",
        "    os.path.join(save_dir_path, loaded_checkpoint_path)\n",
        ")"
      ],
      "outputs": [],
      "execution_count": 319
    },
    {
      "metadata": {
        "id": "JOijKd2oYRPt"
      },
      "cell_type": "markdown",
      "source": [
        "## Test that loaded and original model match."
      ]
    },
    {
      "metadata": {
        "id": "WRcW4O0bVyca"
      },
      "cell_type": "code",
      "source": [
        "test_input_data = jax.device_put(\n",
        "    jax.random.uniform(\n",
        "        jax.random.PRNGKey(999), (4, 28, 28, 1), dtype=jnp.float64\n",
        "    ),\n",
        "    input_sharding_spec,\n",
        ")"
      ],
      "outputs": [],
      "execution_count": 320
    },
    {
      "metadata": {
        "id": "7Tia2sV7V0W9"
      },
      "cell_type": "code",
      "source": [
        "# Compare results of loaded function with loaded weights against the original JAX function with original weights."
      ],
      "outputs": [],
      "execution_count": 321
    },
    {
      "metadata": {
        "id": "dNX5LefOV2qk"
      },
      "cell_type": "code",
      "source": [
        "result_from_original_jax_call = model_apply_fn(params, test_input_data)\n",
        "result_from_deserialized_jax_call = deserialized_jax_exported.call(\n",
        "    jax.device_put(restored_params, params_sharding_spec),\n",
        "    test_input_data,\n",
        ")"
      ],
      "outputs": [],
      "execution_count": 322
    },
    {
      "metadata": {
        "id": "5LraN9QPV5eY"
      },
      "cell_type": "code",
      "source": [
        "assert jnp.array_equal(\n",
        "    result_from_deserialized_jax_call, result_from_original_jax_call\n",
        ")"
      ],
      "outputs": [],
      "execution_count": 323
    },
    {
      "metadata": {
        "id": "swXOhYN3YKMV"
      },
      "cell_type": "code",
      "source": [],
      "outputs": [],
      "execution_count": 323
    }
  ],
  "metadata": {
    "colab": {
      "last_runtime": {
        "build_target": "//learning/deepmind/dm_python:dm_notebook3",
        "kind": "private"
      },
      "private_outputs": true,
      "provenance": [
        {
          "file_id": "1WkUzmqOiui52enI9wwI0OBcH3BK2suxP",
          "timestamp": 1743643863199
        },
        {
          "file_id": "1Jvey9exrVyOOTNavIsEhqtdiHnYKvTwy",
          "timestamp": 1743643188338
        },
        {
          "file_id": "1afHI2yxPZFr8hskJgbfM4O8hbTddRFx0",
          "timestamp": 1743023747302
        },
        {
          "file_id": "1WfG0iizR0eKM4MjO12Lbd0wmnE9O8hWe",
          "timestamp": 1730337798608
        },
        {
          "file_id": "1ntJGV-kTFvciCr3M6yjtCfde0wxFYhdG",
          "timestamp": 1730306037059
        }
      ]
    },
    "kernelspec": {
      "display_name": "Python 3",
      "name": "python3"
    },
    "language_info": {
      "name": "python"
    }
  },
  "nbformat": 4,
  "nbformat_minor": 0
}
