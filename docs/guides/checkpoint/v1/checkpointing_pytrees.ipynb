{
  "cells": [
    {
      "metadata": {
        "id": "GYCcRRZas1PS"
      },
      "cell_type": "markdown",
      "source": [
        "# Working with PyTree Checkpoints"
      ]
    },
    {
      "metadata": {
        "id": "iJwUDQVA7GIV"
      },
      "cell_type": "markdown",
      "source": [
        "A [PyTree](https://jax.readthedocs.io/en/latest/pytrees.html) is the most common way of representing a training state in JAX. While Orbax is designed to be as generic as possible, and provides customization options for all manner of checkpointable objects, PyTrees naturally have pride of place. Furthermore, the standard object used to represent large, sharded arrays is the `jax.Array`. This, too, has extensive first-class support."
      ]
    },
    {
      "metadata": {
        "id": "Vfj9mDHsb7QF"
      },
      "cell_type": "markdown",
      "source": [
        "## Exclusive APIs to checkpoint PyTrees"
      ]
    },
    {
      "metadata": {
        "id": "e3JtbxFhVq_6"
      },
      "cell_type": "markdown",
      "source": [
        "The following APIs can be used to checkpoint PyTrees exclusively.\n",
        "\n",
        "To save:\n",
        "\n",
        "* `ocp.save_pytree(...)`\n",
        "* `ocp.save_pytree_async(...)`\n",
        "* `training.Checkpointer.save_pytree(...)`\n",
        "* `training.Checkpointer.save_pytree_async(...)`\n",
        "\n",
        "To load:\n",
        "* `ocp.load_pytree(...)`\n",
        "* `ocp.load_pytree_async(...)`\n",
        "* `training.Checkpointer.load_pytree(...)`\n",
        "* `training.Checkpointer.load_pytree_async(...)`\n",
        "\n",
        "Of course, the `save_checkpointables(...)` and `load_checkpointables(...)`\n",
        "flavor APIs can be used to save a PyTree too."
      ]
    },
    {
      "metadata": {
        "id": "ej99peApVq_7"
      },
      "cell_type": "markdown",
      "source": [
        "Let's setup a PyTree of jax.Array to play with these APIs."
      ]
    },
    {
      "metadata": {
        "id": "6NknwqBeVq_7"
      },
      "cell_type": "code",
      "source": [
        "from etils import epath\n",
        "import jax\n",
        "import numpy as np\n",
        "from orbax import checkpoint as ocp_v0\n",
        "import orbax.checkpoint.experimental.v1 as ocp"
      ],
      "outputs": [],
      "execution_count": null
    },
    {
      "metadata": {
        "id": "b0j19QxuVq_7"
      },
      "cell_type": "code",
      "source": [
        "sharding = jax.sharding.NamedSharding(\n",
        "    jax.sharding.Mesh(jax.devices(), ('model',)),\n",
        "    jax.sharding.PartitionSpec(\n",
        "        'model',\n",
        "    ),\n",
        ")\n",
        "create_sharded_array = lambda x: jax.device_put(x, sharding)\n",
        "pytree = {\n",
        "    'a': np.arange(16),\n",
        "    'b': np.ones(16),\n",
        "}\n",
        "pytree = jax.tree_util.tree_map(create_sharded_array, pytree)\n",
        "pytree"
      ],
      "outputs": [],
      "execution_count": null
    },
    {
      "metadata": {
        "id": "u5JJaHrYVq_7"
      },
      "cell_type": "code",
      "source": [
        "abstract_pytree = jax.tree_util.tree_map(\n",
        "    ocp_v0.utils.to_shape_dtype_struct, pytree\n",
        ")\n",
        "abstract_pytree"
      ],
      "outputs": [],
      "execution_count": null
    },
    {
      "metadata": {
        "id": "Kf_OCzGbVq_8"
      },
      "cell_type": "markdown",
      "source": [
        "## Basic Checkpointing"
      ]
    },
    {
      "metadata": {
        "id": "sU2YIn10Vq_8"
      },
      "cell_type": "markdown",
      "source": [
        "Let's use `ocp.save_*`/`ocp.load_*` to work with the pytree created earlier."
      ]
    },
    {
      "metadata": {
        "id": "Szq9yBPhVq_8"
      },
      "cell_type": "code",
      "source": [
        "path = epath.Path('/tmp/basic/')\n",
        "path.rmtree(missing_ok=True)\n",
        "\n",
        "# Simple save using default options:\n",
        "ocp.save_pytree(path, pytree)\n",
        "\n",
        "loaded = ocp.load_pytree(path)\n",
        "loaded"
      ],
      "outputs": [],
      "execution_count": null
    },
    {
      "metadata": {
        "id": "tQ6L_wtnVq_8"
      },
      "cell_type": "markdown",
      "source": [
        "We use the pytree metadata to load the pytree."
      ]
    },
    {
      "metadata": {
        "id": "_sJOi2I3Vq_8"
      },
      "cell_type": "code",
      "source": [
        "pytree_metadata = ocp.pytree_metadata(path).metadata\n",
        "pytree_metadata"
      ],
      "outputs": [],
      "execution_count": null
    },
    {
      "metadata": {
        "id": "1SQMyU44Vq_8"
      },
      "cell_type": "code",
      "source": [
        "loaded = ocp.load_pytree(path, pytree_metadata)\n",
        "loaded"
      ],
      "outputs": [],
      "execution_count": null
    },
    {
      "metadata": {
        "id": "jGTdk0tVVq_8"
      },
      "cell_type": "code",
      "source": [
        "(loaded['a'].sharding, loaded['b'].sharding)"
      ],
      "outputs": [],
      "execution_count": null
    },
    {
      "metadata": {
        "id": "t2bJYvwYVq_8"
      },
      "cell_type": "markdown",
      "source": [
        "We specify the `abstract_pytree` in order to load with the given dtypes, shapes, and shardings for each leaf."
      ]
    },
    {
      "metadata": {
        "id": "0GCij-iuVq_8"
      },
      "cell_type": "code",
      "source": [
        "# Load using abstract_pytree.\n",
        "loaded = ocp.load_pytree(path, abstract_pytree)\n",
        "loaded"
      ],
      "outputs": [],
      "execution_count": null
    },
    {
      "metadata": {
        "id": "TjOlZAkTVq_8"
      },
      "cell_type": "code",
      "source": [
        "(loaded['a'].sharding, loaded['b'].sharding)"
      ],
      "outputs": [],
      "execution_count": null
    },
    {
      "metadata": {
        "id": "U7URSieWVq_8"
      },
      "cell_type": "markdown",
      "source": [
        "You can do the exact same with a \"concrete\" target rather than an \"abstract\" target. However, this requires that you fully initialize the target train state\n",
        "before loading from the checkpoint, which is inefficient. It is better practice to only initialize metadata (either by manually creating `jax.ShapeDtypeStruct`s or using `jax.eval_shape`)."
      ]
    },
    {
      "metadata": {
        "id": "3JfwbnA_Vq_8"
      },
      "cell_type": "code",
      "source": [
        "ocp.load_pytree(path, pytree)"
      ],
      "outputs": [],
      "execution_count": null
    },
    {
      "metadata": {
        "id": "UR34KTImVq_8"
      },
      "cell_type": "markdown",
      "source": [
        "### Customizing Loaded Properties"
      ]
    },
    {
      "metadata": {
        "id": "TErvR-zDVq_8"
      },
      "cell_type": "markdown",
      "source": [
        "#### Array dtype"
      ]
    },
    {
      "metadata": {
        "id": "ZDSJhefZVq_8"
      },
      "cell_type": "code",
      "source": [
        "def set_loading_dtype(x: jax.ShapeDtypeStruct) -\u003e jax.ShapeDtypeStruct:\n",
        "  return x.update(dtype=np.int16)\n",
        "\n",
        "\n",
        "cast_dtype_abstract_pytree = jax.tree_util.tree_map(\n",
        "    set_loading_dtype, abstract_pytree\n",
        ")"
      ],
      "outputs": [],
      "execution_count": null
    },
    {
      "metadata": {
        "id": "scZbqSQ4Vq_8"
      },
      "cell_type": "code",
      "source": [
        "ocp.load_pytree(path, cast_dtype_abstract_pytree)"
      ],
      "outputs": [],
      "execution_count": null
    },
    {
      "metadata": {
        "id": "rhkTT9wMVq_8"
      },
      "cell_type": "markdown",
      "source": [
        "#### Change sharding"
      ]
    },
    {
      "metadata": {
        "id": "NLjuYubRVq_8"
      },
      "cell_type": "markdown",
      "source": [
        "**NOTE: This can often be a particularly sharp edge.**\n",
        "\n",
        "Sharding commonly needs to be changed when loading a checkpoint saved on one topology to a different topology.\n",
        "\n",
        "**If changing topologies, you MUST specify sharding when loading.**\n",
        "\n",
        "Unless you are loading on the exact same topology, Orbax does not make any decisions about shardings on your behalf. If you have the exact same topology,\n",
        "however, it is possible to avoid specifying the sharding when loading. This is demonstrated below:"
      ]
    },
    {
      "metadata": {
        "id": "atPqix9IVq_8"
      },
      "cell_type": "code",
      "source": [
        "loaded = ocp.load_pytree(path)"
      ],
      "outputs": [],
      "execution_count": null
    },
    {
      "metadata": {
        "id": "Pap_vpN9Vq_8"
      },
      "cell_type": "code",
      "source": [
        "(loaded['a'].sharding, loaded['b'].sharding)"
      ],
      "outputs": [],
      "execution_count": null
    },
    {
      "metadata": {
        "id": "T_T3QjRLVq_8"
      },
      "cell_type": "markdown",
      "source": [
        "In the example below, we alter the sharding while loading."
      ]
    },
    {
      "metadata": {
        "id": "J0tvS901Vq_8"
      },
      "cell_type": "code",
      "source": [
        "sharding = jax.sharding.NamedSharding(\n",
        "    jax.sharding.Mesh(jax.devices(), ('x',)),\n",
        "    jax.sharding.PartitionSpec(),\n",
        ")\n",
        "\n",
        "\n",
        "def set_sharding(x: jax.ShapeDtypeStruct) -\u003e jax.ShapeDtypeStruct:\n",
        "  return x.update(sharding=sharding)\n",
        "\n",
        "\n",
        "change_sharding_abstract_pytree = jax.tree_util.tree_map(\n",
        "    set_sharding, abstract_pytree\n",
        ")\n",
        "loaded = ocp.load_pytree(path, change_sharding_abstract_pytree)"
      ],
      "outputs": [],
      "execution_count": null
    },
    {
      "metadata": {
        "id": "M84bx2smVq_8"
      },
      "cell_type": "code",
      "source": [
        "(loaded['a'].sharding, loaded['b'].sharding)"
      ],
      "outputs": [],
      "execution_count": null
    },
    {
      "metadata": {
        "id": "zA_Vdck2Vq_8"
      },
      "cell_type": "markdown",
      "source": [
        "We can use pytree metadata instead of the abstract pytree."
      ]
    },
    {
      "metadata": {
        "id": "cAN_1Xj_Vq_8"
      },
      "cell_type": "code",
      "source": [
        "pytree_metadata = ocp.pytree_metadata(path).metadata\n",
        "change_sharding_pytree_metadata = jax.tree_util.tree_map(\n",
        "    lambda x: jax.ShapeDtypeStruct(shape=x.shape, dtype=x.dtype, sharding=sharding), pytree_metadata\n",
        ")\n",
        "loaded = ocp.load_pytree(path, change_sharding_pytree_metadata)\n",
        "(loaded['a'].sharding, loaded['b'].sharding)"
      ],
      "outputs": [],
      "execution_count": null
    },
    {
      "metadata": {
        "id": "LBSbal0hVq_8"
      },
      "cell_type": "markdown",
      "source": [
        "### Partial Loading\n",
        "\n",
        "You may wish to load part of a PyTree contained within a saved checkpoint. For example, consider the following item:"
      ]
    },
    {
      "metadata": {
        "id": "96Zk1nrzVq_8"
      },
      "cell_type": "code",
      "source": [
        "original_item = {\n",
        "    'params': {\n",
        "        'layer1': {\n",
        "            'kernel': np.arange(8),\n",
        "            'bias': np.arange(8),\n",
        "        },\n",
        "        'layer2': {\n",
        "            'kernel': np.arange(8),\n",
        "            'bias': np.arange(8),\n",
        "        },\n",
        "    },\n",
        "    'opt_state': [np.arange(8), np.arange(8)],\n",
        "    'step': 101,\n",
        "}\n",
        "\n",
        "path = epath.Path('/tmp/partial/')\n",
        "path.rmtree(missing_ok=True)\n",
        "\n",
        "ocp.save_pytree(path / '1', original_item)"
      ],
      "outputs": [],
      "execution_count": null
    },
    {
      "metadata": {
        "id": "g9q0W8GoVq_8"
      },
      "cell_type": "markdown",
      "source": [
        "If we want to load only a subset of PyTree nodes (`params.layer2` and `step`, for example), we can use Placeholder values."
      ]
    },
    {
      "metadata": {
        "id": "s9WFY0vuVq_8"
      },
      "cell_type": "markdown",
      "source": [
        "#### Placeholder\n",
        "\n",
        "To load part of a PyTree item, we can specify which nodes to ignore during loading by using `...` (`ocp.PLACEHOLDER`)."
      ]
    },
    {
      "metadata": {
        "id": "NHreKKn8Vq_9"
      },
      "cell_type": "code",
      "source": [
        "reference_item = {\n",
        "    'params': {\n",
        "        'layer1': {\n",
        "            'kernel': ...,\n",
        "            'bias': ...,\n",
        "        },\n",
        "        'layer2': {\n",
        "            'kernel': np.arange(8),\n",
        "            'bias': np.arange(8),\n",
        "        },\n",
        "    },\n",
        "    'opt_state': [..., ...],\n",
        "    'step': 101,\n",
        "}\n",
        "\n",
        "ocp.load_pytree(path / '1', reference_item)"
      ],
      "outputs": [],
      "execution_count": null
    },
    {
      "metadata": {
        "id": "MH3hBSxPVq_9"
      },
      "cell_type": "markdown",
      "source": [
        "## Advanced Customizations"
      ]
    },
    {
      "metadata": {
        "id": "nZcttkVHVq_9"
      },
      "cell_type": "markdown",
      "source": [
        "`ocp.Context` enables more customizations.\n",
        "\n",
        "For customized save/load behavior, these APIs should be invoked within a `ocp.Context`\n",
        "instance, which in turn can be configured with a number of options like Saving, Loading,\n",
        "FileOptions etc.\n",
        "\n",
        "The usage pattern is as follows:\n",
        "```\n",
        "with ocp.Context(\n",
        "  pytree_options=PyTreeOptions(...),\n",
        "  file_options=FileOptions(...),\n",
        "):\n",
        "  ocp.save_pytree(path, pytree)\n",
        "```\n",
        "\n",
        "Let's explore few examples. Please also take a look at API Reference for specific option details."
      ]
    },
    {
      "metadata": {
        "id": "CY0cRK32Vq_9"
      },
      "cell_type": "markdown",
      "source": [
        "### Saving"
      ]
    },
    {
      "metadata": {
        "id": "DpuH7FMHVq_9"
      },
      "cell_type": "markdown",
      "source": [
        "#### Customizing Array dtype"
      ]
    },
    {
      "metadata": {
        "id": "bq3Hj3-aVq_9"
      },
      "cell_type": "markdown",
      "source": [
        "we can customize the on-disk type used to save individual arrays. First, let's save and load as normal."
      ]
    },
    {
      "metadata": {
        "id": "FZt44Li_Vq_9"
      },
      "cell_type": "code",
      "source": [
        "path = epath.Path('/tmp/advanced/')\n",
        "path.rmtree(missing_ok=True)"
      ],
      "outputs": [],
      "execution_count": null
    },
    {
      "metadata": {
        "id": "68BXPuRcVq_9"
      },
      "cell_type": "code",
      "source": [
        "ocp.save_pytree(path / '1', pytree)"
      ],
      "outputs": [],
      "execution_count": null
    },
    {
      "metadata": {
        "id": "LcXASaTWVq_9"
      },
      "cell_type": "code",
      "source": [
        "loaded = ocp.load_pytree(path / '1')"
      ],
      "outputs": [],
      "execution_count": null
    },
    {
      "metadata": {
        "id": "WnCRCzlOVq_9"
      },
      "cell_type": "code",
      "source": [
        "(loaded['a'].dtype, loaded['b'].dtype)"
      ],
      "outputs": [],
      "execution_count": null
    },
    {
      "metadata": {
        "id": "yhb3Py_9Vq_9"
      },
      "cell_type": "markdown",
      "source": [
        "Now, let's set the dtype of selective array when saving."
      ]
    },
    {
      "metadata": {
        "id": "9VpoTnHmVq_9"
      },
      "cell_type": "code",
      "source": [
        "def create_array_storage_options_fn(keypath, value):\n",
        "  del value\n",
        "  last_key = keypath[-1]\n",
        "  if isinstance(last_key, jax.tree_util.GetAttrKey) and last_key.name == 'a':\n",
        "    return ocp.options.ArrayOptions.Saving.StorageOptions(\n",
        "        dtype=np.dtype(np.int16)\n",
        "    )\n",
        "  else:\n",
        "    return ocp.options.ArrayOptions.Saving.StorageOptions()\n",
        "\n",
        "\n",
        "with ocp.Context(\n",
        "    pytree_options=ocp.options.PyTreeOptions(\n",
        "        saving=ocp.options.PyTreeOptions.Saving(\n",
        "            create_array_storage_options_fn=create_array_storage_options_fn,\n",
        "        )\n",
        "    )\n",
        "):\n",
        "  ocp.save_pytree(path / '2', pytree, overwrite=True)"
      ],
      "outputs": [],
      "execution_count": null
    },
    {
      "metadata": {
        "id": "mHh_ucu_Vq_9"
      },
      "cell_type": "code",
      "source": [
        "loaded = ocp.load_pytree(path / '2')"
      ],
      "outputs": [],
      "execution_count": null
    },
    {
      "metadata": {
        "id": "sDHCc2s4Vq_9"
      },
      "cell_type": "code",
      "source": [
        "(loaded['a'].dtype, loaded['b'].dtype)"
      ],
      "outputs": [],
      "execution_count": null
    },
    {
      "metadata": {
        "id": "P58IxTVHVq_9"
      },
      "cell_type": "markdown",
      "source": [
        "Now, let's set the dtype of all arrays when saving."
      ]
    },
    {
      "metadata": {
        "id": "W-k7jRWFVq_9"
      },
      "cell_type": "code",
      "source": [
        "create_array_storage_options_fn = (\n",
        "    lambda k, v: ocp.options.ArrayOptions.Saving.StorageOptions(\n",
        "        dtype=np.dtype(np.int16)\n",
        "    )\n",
        ")\n",
        "with ocp.Context(\n",
        "    pytree_options=ocp.options.PyTreeOptions(\n",
        "        saving=ocp.options.PyTreeOptions.Saving(\n",
        "            create_array_storage_options_fn=create_array_storage_options_fn\n",
        "        )\n",
        "    )\n",
        "):\n",
        "  ocp.save_pytree(path / '3', pytree, overwrite=True)"
      ],
      "outputs": [],
      "execution_count": null
    },
    {
      "metadata": {
        "id": "Cgs_vBOWVq_9"
      },
      "cell_type": "code",
      "source": [
        "loaded = ocp.load_pytree(path / '3')"
      ],
      "outputs": [],
      "execution_count": null
    },
    {
      "metadata": {
        "id": "9acbLs7CVq_9"
      },
      "cell_type": "code",
      "source": [
        "(loaded['a'].dtype, loaded['b'].dtype)"
      ],
      "outputs": [],
      "execution_count": null
    },
    {
      "metadata": {
        "id": "XZZq8Nxelxwn"
      },
      "cell_type": "markdown",
      "source": [
        "#### High Throughput with `ocdbt` option"
      ]
    },
    {
      "metadata": {
        "id": "GhMBAVqDn1s2"
      },
      "cell_type": "markdown",
      "source": [
        "For high throughput and avoid creating separate subdirectories for each leaf, enable `use_ocdbt`. Please note that it is enabled by default."
      ]
    },
    {
      "metadata": {
        "id": "W_FD_od_mb8z"
      },
      "cell_type": "code",
      "source": [
        "with ocp.Context(\n",
        "    array_options=ocp.options.ArrayOptions(\n",
        "        saving=ocp.options.ArrayOptions.Saving(\n",
        "            use_ocdbt=True,\n",
        "        )\n",
        "    )\n",
        "):\n",
        "  ocp.save_pytree(path / '4', pytree, overwrite=True)"
      ],
      "outputs": [],
      "execution_count": null
    },
    {
      "metadata": {
        "id": "G6Cm0PYcoIF4"
      },
      "cell_type": "markdown",
      "source": [
        "A checkpoint created with this option enabled can be identified by presence of files `manifest.ocdbt` and subdirs like `ocdbt.process_*`."
      ]
    },
    {
      "metadata": {
        "id": "IA4tTKDGoGlf"
      },
      "cell_type": "code",
      "source": [
        "!ls /tmp/advanced/4/pytree"
      ],
      "outputs": [],
      "execution_count": null
    },
    {
      "metadata": {
        "id": "GqA8Kdk6orZc"
      },
      "cell_type": "markdown",
      "source": [
        "However, for use cases like large stacked models, disabling this option may be more efficient."
      ]
    },
    {
      "metadata": {
        "id": "qJvm7QxCpUOT"
      },
      "cell_type": "code",
      "source": [
        "with ocp.Context(\n",
        "    array_options=ocp.options.ArrayOptions(\n",
        "        saving=ocp.options.ArrayOptions.Saving(\n",
        "            use_ocdbt=False,\n",
        "        )\n",
        "    )\n",
        "):\n",
        "  ocp.save_pytree(path / '5', pytree, overwrite=True)\n",
        "\n",
        "!ls /tmp/advanced/5/pytree"
      ],
      "outputs": [],
      "execution_count": null
    },
    {
      "metadata": {
        "id": "-OZF-uwBpb8y"
      },
      "cell_type": "markdown",
      "source": [
        "Please note how each leaf is written in its own subdir when `use_ocdbt=False`."
      ]
    },
    {
      "metadata": {
        "id": "_AnAJYT8Vq_9"
      },
      "cell_type": "markdown",
      "source": [
        "### Loading"
      ]
    },
    {
      "metadata": {
        "id": "5aTJ6eUJVq_9"
      },
      "cell_type": "markdown",
      "source": [
        "#### Pad / truncate shape"
      ]
    },
    {
      "metadata": {
        "id": "2Qg0HbH3Vq_9"
      },
      "cell_type": "markdown",
      "source": [
        "Ordinarily, specifying a target array with a different shape than in the\n",
        "checkpoint results in an error."
      ]
    },
    {
      "metadata": {
        "id": "p1I0sfNEVq_9"
      },
      "cell_type": "code",
      "source": [
        "# Original shape.\n",
        "loaded = ocp.load_pytree(path / '1')\n",
        "\n",
        "(loaded['a'].shape, loaded['b'].shape)"
      ],
      "outputs": [],
      "execution_count": null
    },
    {
      "metadata": {
        "id": "2X8mMPBkVq_9"
      },
      "cell_type": "code",
      "source": [
        "different_shape_abstract_pytree = {\n",
        "    'a': jax.ShapeDtypeStruct(\n",
        "        shape=(8,),\n",
        "        dtype=abstract_pytree['a'].dtype,\n",
        "        sharding=abstract_pytree['a'].sharding,\n",
        "    ),\n",
        "    'b': jax.ShapeDtypeStruct(\n",
        "        shape=(32,),\n",
        "        dtype=abstract_pytree['b'].dtype,\n",
        "        sharding=abstract_pytree['b'].sharding,\n",
        "    ),\n",
        "}\n",
        "\n",
        "try:\n",
        "  ocp.load_pytree(path / '1', different_shape_abstract_pytree)\n",
        "except BaseException as e:\n",
        "  print(e)"
      ],
      "outputs": [],
      "execution_count": null
    },
    {
      "metadata": {
        "id": "HMPpVIiLVq_9"
      },
      "cell_type": "markdown",
      "source": [
        "We can pad or truncate arrays as they are loaded by specifying `enable_padding_and_truncation=True`."
      ]
    },
    {
      "metadata": {
        "id": "Rbu-q1upVq_9"
      },
      "cell_type": "code",
      "source": [
        "with ocp.Context(\n",
        "    array_options=ocp.options.ArrayOptions(\n",
        "        loading=ocp.options.ArrayOptions.Loading(\n",
        "            enable_padding_and_truncation=True\n",
        "        )\n",
        "    )\n",
        "):\n",
        "  loaded = ocp.load_pytree(path / '1', different_shape_abstract_pytree)"
      ],
      "outputs": [],
      "execution_count": null
    },
    {
      "metadata": {
        "id": "HP6gm2HEVq_9"
      },
      "cell_type": "code",
      "source": [
        "(loaded['a'].shape, loaded['b'].shape)"
      ],
      "outputs": [],
      "execution_count": null
    }
  ],
  "metadata": {
    "colab": {
      "last_runtime": {
        "build_target": "//learning/deepmind/dm_python:dm_notebook3_tpu",
        "kind": "private"
      },
      "private_outputs": true,
      "provenance": [
        {
          "file_id": "1QNxBBBN16Br9Xj-a7LvtJzJWjOBhjFps",
          "timestamp": 1686159333109
        }
      ],
      "toc_visible": true
    },
    "kernelspec": {
      "display_name": "Python 3",
      "name": "python3"
    },
    "language_info": {
      "name": "python"
    }
  },
  "nbformat": 4,
  "nbformat_minor": 0
}
