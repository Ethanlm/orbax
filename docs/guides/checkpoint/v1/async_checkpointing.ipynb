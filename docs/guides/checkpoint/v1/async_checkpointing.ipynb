{
  "cells": [
    {
      "cell_type": "markdown",
      "metadata": {
        "id": "Tws9Wohz0wq1"
      },
      "source": [
        "# Asynchronous Checkpointing"
      ]
    },
    {
      "cell_type": "markdown",
      "metadata": {
        "id": "lAzUxFhj8GEZ"
      },
      "source": [
        "## What is this?"
      ]
    },
    {
      "cell_type": "markdown",
      "metadata": {
        "id": "tlQs0KnN8Vjm"
      },
      "source": [
        "Orbax supports async checkpointing. This means that checkpoints can be saved in a background thread while training proceeds concurrently, leaving a minimum amount of time required for performing the blocking portion of the save."
      ]
    },
    {
      "cell_type": "markdown",
      "metadata": {
        "id": "LWfVErw68XJw"
      },
      "source": [
        "## Why should I care?"
      ]
    },
    {
      "cell_type": "markdown",
      "metadata": {
        "id": "Udg-yOXN015v"
      },
      "source": [
        "Training jobs that would ordinarily spend time blocking for arrays to be written to disk, often via slow network connections, can proceed without waiting. This typically results in faster training progress. Furthermore, expensive devices like TPUs or GPUs which would have previously been left idle for the entire duration of the save are put to productive use for a higher proportion of the time during the training run."
      ]
    },
    {
      "cell_type": "markdown",
      "metadata": {
        "id": "fUexYhsm8c-N"
      },
      "source": [
        "Because the we only need to worry about the blocking portion of the save, checkpointing becomes significantly faster. Consider some concrete numbers:\n",
        "\n",
        "*   On a **300M** parameter model, saving time decreased by **~40%**\n",
        "*   On an **8B** parameter model, saving time decreased by **~85%**\n",
        "*   On a **340B** parameter model, saving time decreased by **~97%**"
      ]
    },
    {
      "cell_type": "markdown",
      "metadata": {
        "id": "qa9Y6f3w2TW_"
      },
      "source": [
        "In short, **async checkpointing adoption is highly encouraged**. It can result in improved training throughput and substantial resource savings."
      ]
    },
    {
      "cell_type": "markdown",
      "metadata": {
        "id": "rINNC57Y5Z6W"
      },
      "source": [
        "## Usage"
      ]
    },
    {
      "cell_type": "markdown",
      "metadata": {
        "id": "XnwgKVRP7pXx"
      },
      "source": [
        "Some setup first:"
      ]
    },
    {
      "metadata": {
        "id": "9a8QvZR_w5iE"
      },
      "cell_type": "code",
      "source": [
        "import numpy as np\n",
        "import orbax.checkpoint.experimental.v1 as ocp\n",
        "from etils import epath\n",
        "\n",
        "train_state = {\n",
        "    'layer0': {\n",
        "        'kernel': np.ones((8, 8), dtype=np.float32),\n",
        "        'bias': np.ones((8,), dtype=np.float32),\n",
        "    }\n",
        "}"
      ],
      "outputs": [],
      "execution_count": 1
    },
    {
      "metadata": {
        "id": "DPVeLZ6Ww5iF"
      },
      "cell_type": "markdown",
      "source": [
        "Using async checkpointing is quite simple in Orbax. For blocking save, do something like this:"
      ]
    },
    {
      "metadata": {
        "id": "8HQ3uQXiw5iF"
      },
      "cell_type": "code",
      "source": [
        "### PREFER NOT TO USE THIS. ###\n",
        "### PREFER TO USE ASYNC CHECKPOINTING INSTEAD (SEE BELOW). ###\n",
        "\n",
        "path = epath.Path('/tmp/sync_checkpoint')\n",
        "path.rmtree(missing_ok=True)\n",
        "\n",
        "ocp.save_pytree(path, train_state)"
      ],
      "outputs": [],
      "execution_count": 6
    },
    {
      "metadata": {
        "id": "9DmN2YJlw5iF"
      },
      "cell_type": "code",
      "source": [
        "!ls /tmp/sync_checkpoint"
      ],
      "outputs": [],
      "execution_count": 9
    },
    {
      "metadata": {
        "id": "nVg0xWV9w5iF"
      },
      "cell_type": "markdown",
      "source": [
        "For async save, simply use `save_pytree_async(...)` instead of `save_pytree(...)`. Calling it will kick off the checkpoint save in a background thread, and return a `response` object without waiting for completion. At this point, other work can be performed in the main thread, and `response.result()` can be called to block until completion."
      ]
    },
    {
      "metadata": {
        "id": "fOdPgIuPw5iF"
      },
      "cell_type": "code",
      "source": [
        "path = epath.Path('/tmp/async_checkpoint')\n",
        "path.rmtree(missing_ok=True)\n",
        "\n",
        "response = ocp.save_pytree_async(path, train_state)\n",
        "### Do some other work...\n",
        "response.result()"
      ],
      "outputs": [],
      "execution_count": 10
    },
    {
      "metadata": {
        "id": "yhkmqb2Dw5iF"
      },
      "cell_type": "code",
      "source": [
        "!ls /tmp/async_checkpoint"
      ],
      "outputs": [],
      "execution_count": 11
    },
    {
      "cell_type": "markdown",
      "metadata": {
        "id": "wRJdoYEL59yu"
      },
      "source": [
        "To save multiple checkpointables together, Orbax provides free functions in both blocking and async flavors: `save_checkpointables(...)` and `save_checkpointables_async(...)`.\n",
        "\n",
        "And the same goes with `training.Checkpointer` class:\n",
        "* `training.Checkpointer.save_pytree(...)`\n",
        "* `training.Checkpointer.save_pytree_async(...)`\n",
        "* `training.Checkpointer.save_checkpointables(...)`\n",
        "* `training.Checkpointer.save_checkpointables_async(...)`\n"
      ]
    },
    {
      "cell_type": "markdown",
      "metadata": {
        "id": "meEzmMLQ69EZ"
      },
      "source": [
        "## Additional Details"
      ]
    },
    {
      "cell_type": "markdown",
      "metadata": {
        "id": "8x8ZNQpb6-Sk"
      },
      "source": [
        "From start to finish, async checkpointing for a train state of arrays works by first performing a blocking copy of the arrays from device to host. (If the array is already in memory, a copy will also be created in this case.) This step is necessary because the values cannot be written directly from device to storage. It also needs to be blocking because if training proceeds on the main thread, updates to the train state will result in the checkpoint being corrupted.\n"
      ]
    },
    {
      "cell_type": "markdown",
      "metadata": {
        "id": "Zz8SYpQBEJ7n"
      },
      "source": [
        "The examples shown above works well for PyTrees of `jax.Array`s present on TPUs or GPUs. However, Orbax provides a more generalizable API allowing you to save any object asynchronously. In practice, custom async checkpointing logic can be implemented with `CheckpointableHandler`."
      ]
    }
  ],
  "metadata": {
    "colab": {
      "last_runtime": {
        "build_target": "//learning/gemini/cms:notebook",
        "kind": "private"
      },
      "private_outputs": true,
      "provenance": [
        {
          "file_id": "1s_hpHOT8LDCwJIs2F_RLjydShsohIUDM",
          "timestamp": 1698191324810
        }
      ],
      "toc_visible": true
    },
    "kernelspec": {
      "display_name": "Python 3",
      "name": "python3"
    },
    "language_info": {
      "name": "python"
    }
  },
  "nbformat": 4,
  "nbformat_minor": 0
}
