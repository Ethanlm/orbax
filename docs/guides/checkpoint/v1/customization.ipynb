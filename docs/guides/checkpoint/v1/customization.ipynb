{
  "cells": [
    {
      "metadata": {
        "id": "t5ckEX0K3SkM"
      },
      "cell_type": "markdown",
      "source": [
        "# Customizing Checkpointing Behavior"
      ]
    },
    {
      "metadata": {
        "id": "8qDeybEg3kM4"
      },
      "cell_type": "markdown",
      "source": [
        "Orbax allows users to specify their own logic for dealing with custom objects.\n",
        "Customization can occur at two levels - the level of a \"checkpointable\", and the\n",
        "level of a \"PyTree leaf\"."
      ]
    },
    {
      "metadata": {
        "id": "Md2_H9f73aXJ"
      },
      "cell_type": "markdown",
      "source": [
        "## Custom Checkpointables"
      ]
    },
    {
      "metadata": {
        "id": "UvwFOZTN3eRW"
      },
      "cell_type": "markdown",
      "source": [
        "First, ensure that you are familiar with the documentation on \"checkpointables\".\n",
        "To recap, a \"checkpointable\" is a distinct unit of an entire checkpoint. For\n",
        "example, the model state is a checkpointable distinct from the dataset iterator.\n",
        "Embeddings, if used, may also be represented as a separate checkpointable."
      ]
    },
    {
      "metadata": {
        "id": "ThMsmaty4cCi"
      },
      "cell_type": "markdown",
      "source": [
        "Let us consider a toy example. Let's say that in addition to our PyTree state\n",
        "(represented as a dictionary of arrays, containing the parameters and optimizer\n",
        "state) and our dataset iteration (represented using PyGrain), we also have an\n",
        "object called `Point`, which has integer properties `x` and `y`. (Obviously,\n",
        "since this object is a dataclass, it would be easy to just convert this to a\n",
        "PyTree, and save it in the same way as the primary model state. So this example\n",
        "is a bit contrived, but demonstrates the point well enough.)\n",
        "\n",
        "Our `Point` class is defined as follows."
      ]
    },
    {
      "metadata": {
        "executionInfo": {
          "elapsed": 53,
          "status": "ok",
          "timestamp": 1750968352657,
          "user": {
            "displayName": "",
            "userId": ""
          },
          "user_tz": 420
        },
        "id": "CE4_g-yp7KGn"
      },
      "cell_type": "code",
      "source": [
        "import dataclasses\n",
        "import json\n",
        "from typing import Any, Awaitable\n",
        "import aiofiles\n",
        "import jax\n",
        "import numpy as np\n",
        "import orbax.checkpoint.experimental.v1 as ocp\n",
        "\n",
        "\n",
        "@dataclasses.dataclass\n",
        "class Point:\n",
        "  x: int\n",
        "  y: int\n",
        "\n",
        "\n",
        "model_state = {\n",
        "    'params': np.arange(16),\n",
        "    'opt_state': np.ones(16),\n",
        "}"
      ],
      "outputs": [],
      "execution_count": null
    },
    {
      "metadata": {
        "id": "2wsBrg3D7vEj"
      },
      "cell_type": "markdown",
      "source": [
        "If we just try to save the `Point` (along with our other checkpointables), it\n",
        "will fail because the object type is not recognized."
      ]
    },
    {
      "metadata": {
        "executionInfo": {
          "elapsed": 2,
          "status": "ok",
          "timestamp": 1750968352853,
          "user": {
            "displayName": "",
            "userId": ""
          },
          "user_tz": 420
        },
        "id": "GiO6a-k-7ugV",
        "outputId": "86f0445d-5d4d-497e-d4c7-a01364d87c97"
      },
      "cell_type": "code",
      "source": [
        "try:\n",
        "  ocp.save_checkpointables(\n",
        "      '/tmp/ckpt1',\n",
        "      dict(model_state=model_state, point=Point(1, 2)),\n",
        "  )\n",
        "except BaseException as e:\n",
        "  print(e)"
      ],
      "outputs": [],
      "execution_count": null
    },
    {
      "metadata": {
        "id": "C_T-lUTeCu_Q"
      },
      "cell_type": "markdown",
      "source": [
        "There are two possible approaches for implementing support for `Point` in Orbax.\n",
        "We will start with the simpler of the two."
      ]
    },
    {
      "metadata": {
        "id": "RP_ANoBbCmu2"
      },
      "cell_type": "markdown",
      "source": [
        "### Implementing `Point` as a `StatefulCheckpointable`"
      ]
    },
    {
      "metadata": {
        "id": "9lH0ozZm7Vv-"
      },
      "cell_type": "markdown",
      "source": [
        "The `Point` object must implement the methods of the `StatefulCheckpointable`\n",
        "Protocol. We need to implement `save` and `load` methods so that Orbax will know\n",
        "how to deal with the `Point` object."
      ]
    },
    {
      "metadata": {
        "executionInfo": {
          "elapsed": 1,
          "status": "ok",
          "timestamp": 1750968353081,
          "user": {
            "displayName": "",
            "userId": ""
          },
          "user_tz": 420
        },
        "id": "aQhswjmF5YQI"
      },
      "cell_type": "code",
      "source": [
        "from __future__ import annotations\n",
        "\n",
        "del Point\n",
        "\n",
        "\n",
        "@dataclasses.dataclass\n",
        "class Point(ocp.StatefulCheckpointable):\n",
        "\n",
        "  x: int\n",
        "  y: int\n",
        "\n",
        "  async def save(\n",
        "      self, directory: ocp.path.PathAwaitingCreation\n",
        "  ) -\u003e Awaitable[None]:\n",
        "    return self._background_save(\n",
        "        directory,\n",
        "        # If the object could be modified by the main thread while being\n",
        "        # written, it is important to make a copy to prevent race conditions.\n",
        "        dataclasses.asdict(self),\n",
        "    )\n",
        "\n",
        "  async def load(self, directory: ocp.path.Path) -\u003e Awaitable[None]:\n",
        "    return self._background_load(directory)\n",
        "\n",
        "  async def _background_save(\n",
        "      self,\n",
        "      directory: ocp.path.PathAwaitingCreation,\n",
        "      value: dict[str, int],\n",
        "  ):\n",
        "    # In a multiprocess setting, prevent multiple processes from writing the\n",
        "    # same thing.\n",
        "    if jax.process_index() == 0:\n",
        "      directory = await directory.await_creation()\n",
        "      async with aiofiles.open(directory / 'point.txt', 'w') as f:\n",
        "        contents = json.dumps(value)\n",
        "        await f.write(contents)\n",
        "\n",
        "  async def _background_load(\n",
        "      self,\n",
        "      directory: ocp.path.Path,\n",
        "  ):\n",
        "    async with aiofiles.open(directory / 'point.txt', 'r') as f:\n",
        "      contents = json.loads(await f.read())\n",
        "      self.x = contents['x']\n",
        "      self.y = contents['y']"
      ],
      "outputs": [],
      "execution_count": null
    },
    {
      "metadata": {
        "id": "HoVDn46C-4HQ"
      },
      "cell_type": "markdown",
      "source": [
        "Let's break this down.\n",
        "\n",
        "Both `save` and `load` methods consist of two phases: blocking and non-blocking.\n",
        "Blocking operations must execute *now*, before returning control to the caller.\n",
        "Non-blocking operations may occur in a background thread, and are represented by\n",
        "an `Awaitable` function returned back to the caller without being executed\n",
        "(yet).\n",
        "\n",
        "When saving, in the case of `Point`, we make a copy of the properties to prevent\n",
        "them from being concurrently modified by the main thread while we are writing\n",
        "them in the background thread. For a `jax.Array`, we would similarly need to\n",
        "perform a transfer from device memory to host memory. When the blocking\n",
        "operations complete, we can construct an awaitable function that writes the\n",
        "values to a file. Note also that we must wait for the parent directory to be\n",
        "created, since upper layers of Orbax have already scheduled this execution\n",
        "asynchronously.\n",
        "\n",
        "Loading is similar. Typically there are fewer operations that need to happen\n",
        "synchronously, as the caller should know they cannot do anything with the object\n",
        "until it is fully loaded. Again, the awaitable function that is run in the\n",
        "background should return nothing, and instead set relevant properties in `self`\n",
        "after loading from disk."
      ]
    },
    {
      "metadata": {
        "id": "DxDWDbqIB-o0"
      },
      "cell_type": "markdown",
      "source": [
        "Now we can successfully save the `Point`."
      ]
    },
    {
      "metadata": {
        "colab": {
          "height": 373
        },
        "executionInfo": {
          "elapsed": 389,
          "status": "error",
          "timestamp": 1750968353687,
          "user": {
            "displayName": "",
            "userId": ""
          },
          "user_tz": 420
        },
        "id": "P1j7NaWPB9lI",
        "outputId": "2e622d2a-75fe-4bb2-d8f9-461ce1974a51"
      },
      "cell_type": "code",
      "source": [
        "ocp.save_checkpointables(\n",
        "    '/tmp/ckpt1',\n",
        "    dict(model_state=model_state, point=Point(1, 2)),\n",
        ")"
      ],
      "outputs": [],
      "execution_count": null
    },
    {
      "metadata": {
        "id": "gBeWl-y9isWL"
      },
      "cell_type": "markdown",
      "source": [
        "It is important to note that because `Point` is a stateful checkpointable, we\n",
        "have to provide a `Point` object in order to restore it. In typical usage, we\n",
        "should construct a `Point` object with \"uninitialized\" values. Calling\n",
        "`load_checkpointables` then updates the provided object as a side effect (it\n",
        "also returns it)."
      ]
    },
    {
      "metadata": {
        "executionInfo": {
          "elapsed": 53,
          "status": "ok",
          "timestamp": 1750968321125,
          "user": {
            "displayName": "",
            "userId": ""
          },
          "user_tz": 420
        },
        "id": "D5tyzM5tijCM",
        "outputId": "ccb52185-9776-497c-9749-9f2e8f13adb4"
      },
      "cell_type": "code",
      "source": [
        "uninitialized_point = Point(0, 0)\n",
        "ocp.load_checkpointables(\n",
        "    '/tmp/ckpt1',\n",
        "    dict(point=uninitialized_point),\n",
        ")\n",
        "uninitialized_point"
      ],
      "outputs": [],
      "execution_count": null
    },
    {
      "metadata": {
        "id": "cmnK2vsPC6A6"
      },
      "cell_type": "markdown",
      "source": [
        "### Supporting `Point` with `CheckpointableHandler`"
      ]
    },
    {
      "metadata": {
        "id": "ZqPLWv5LDCgj"
      },
      "cell_type": "markdown",
      "source": [
        "While `StatefulCheckpointable` has a simple and powerful interface, it may not\n",
        "be the right fit in every case. `StatefulCheckpointable` may be insufficient in\n",
        "cases such as:\n",
        "\n",
        "*   `Point` may be defined in some third-party library that we cannot easily\n",
        "    control, and thus could not directly add `save` and `load` methods to the\n",
        "    class itself.\n",
        "*   When loading, users might need to customize loading behavior in a more\n",
        "    dynamic way. For a `jax.Array`, resharding, casting, and reshaping are\n",
        "    common operations. For a `Point`, users might want to cast `x` and `y`\n",
        "    between `int` and `float` more dynamically.\n",
        "*   We may have multiple different ways to save and load `Point` that users want\n",
        "    to enable in different contexts. In such cases, placing all that different\n",
        "    logic within the single `Point` class may add too much complexity.\n",
        "\n",
        "For such cases (and others), Orbax provides an interface called\n",
        "`CheckpointableHandler`."
      ]
    },
    {
      "metadata": {
        "id": "rb6WSt9odJut"
      },
      "cell_type": "markdown",
      "source": [
        "First, let's redefine our `Point` class and also introduce an `AbstractPoint`\n",
        "class. This allows us to specify the type of `x` or `y` that should be used for\n",
        "loading."
      ]
    },
    {
      "metadata": {
        "executionInfo": {
          "elapsed": 1,
          "status": "ok",
          "timestamp": 1750968321356,
          "user": {
            "displayName": "",
            "userId": ""
          },
          "user_tz": 420
        },
        "id": "QwDZQu6FdJT7"
      },
      "cell_type": "code",
      "source": [
        "del Point\n",
        "import asyncio\n",
        "from typing import Type\n",
        "\n",
        "Scalar = int | float\n",
        "\n",
        "\n",
        "@dataclasses.dataclass\n",
        "class Point:\n",
        "  x: Scalar\n",
        "  y: Scalar\n",
        "\n",
        "\n",
        "@dataclasses.dataclass\n",
        "class AbstractPoint:\n",
        "  x: Type[Scalar]\n",
        "  y: Type[Scalar]"
      ],
      "outputs": [],
      "execution_count": null
    },
    {
      "metadata": {
        "executionInfo": {
          "elapsed": 51,
          "status": "ok",
          "timestamp": 1750968321623,
          "user": {
            "displayName": "",
            "userId": ""
          },
          "user_tz": 420
        },
        "id": "cJD4Zjj-dB-h"
      },
      "cell_type": "code",
      "source": [
        "async def _write_point(\n",
        "    directory: ocp.path.Path, checkpointable: dict[str, Scalar]\n",
        "):\n",
        "  async with aiofiles.open(directory / 'point.txt', 'w') as f:\n",
        "    contents = json.dumps(checkpointable)\n",
        "    await f.write(contents)\n",
        "\n",
        "\n",
        "async def _write_point_metadata(\n",
        "    directory: ocp.path.Path, checkpointable: dict[str, Scalar]\n",
        "):\n",
        "  async with aiofiles.open(directory / 'point_metadata.txt', 'w') as f:\n",
        "    contents = json.dumps(\n",
        "        {k: type(v).__name__ for k, v in checkpointable.items()}\n",
        "    )\n",
        "    await f.write(contents)\n",
        "\n",
        "\n",
        "class PointHandler(ocp.CheckpointableHandler[Point, AbstractPoint]):\n",
        "\n",
        "  async def _background_save(\n",
        "      self,\n",
        "      directory: ocp.path.PathAwaitingCreation,\n",
        "      checkpointable: dict[str, Scalar],\n",
        "  ):\n",
        "    if jax.process_index() == 0:\n",
        "      directory = await directory.await_creation()\n",
        "      await asyncio.gather(\n",
        "          _write_point(directory, checkpointable),\n",
        "          _write_point_metadata(directory, checkpointable),\n",
        "      )\n",
        "\n",
        "  async def _background_load(\n",
        "      self,\n",
        "      directory: ocp.path.Path,\n",
        "      abstract_checkpointable: AbstractPoint | None = None,\n",
        "  ) -\u003e Point:\n",
        "    async with aiofiles.open(directory / 'point.txt', 'r') as f:\n",
        "      contents = json.loads(await f.read())\n",
        "      if abstract_checkpointable is None:\n",
        "        return Point(**contents)\n",
        "      else:\n",
        "        return Point(\n",
        "            abstract_checkpointable.x(contents['x']),\n",
        "            abstract_checkpointable.y(contents['y']),\n",
        "        )\n",
        "\n",
        "  async def save(\n",
        "      self,\n",
        "      directory: ocp.path.PathAwaitingCreation,\n",
        "      checkpointable: Point,\n",
        "  ) -\u003e Awaitable[None]:\n",
        "    return self._background_save(directory, dataclasses.asdict(checkpointable))\n",
        "\n",
        "  async def load(\n",
        "      self,\n",
        "      directory: ocp.path.Path,\n",
        "      abstract_checkpointable: AbstractPoint | None = None,\n",
        "  ) -\u003e Awaitable[Point]:\n",
        "    return self._background_load(directory, abstract_checkpointable)\n",
        "\n",
        "  async def metadata(self, directory: ocp.path.Path) -\u003e AbstractPoint:\n",
        "    async with aiofiles.open(directory / 'point_metadata.txt', 'r') as f:\n",
        "      contents = json.loads(await f.read())\n",
        "      return AbstractPoint(\n",
        "          **{k: getattr(__builtins__, v) for k, v in contents.items()}\n",
        "      )\n",
        "\n",
        "  def is_handleable(self, checkpointable: Any) -\u003e bool:\n",
        "    return isinstance(checkpointable, Point)\n",
        "\n",
        "  def is_abstract_handleable(self, abstract_checkpointable: Any) -\u003e bool:\n",
        "    return isinstance(abstract_checkpointable, AbstractPoint)"
      ],
      "outputs": [],
      "execution_count": null
    },
    {
      "metadata": {
        "id": "Jz1MK4mah4Eg"
      },
      "cell_type": "markdown",
      "source": [
        "This class associates itself with two types, the `Checkpointable` and the\n",
        "`AbstractCheckpointable` (`Point` and `AbstractPoint` in this case). `Point` is\n",
        "the input for saving, and `AbstractPoint` (or `None`) is the input for loading\n",
        "(as well as the parent directory in both cases).\n",
        "\n",
        "Saving logic in this class is essentially the same as in our\n",
        "`StatefulCheckpointable` definition above.\n",
        "\n",
        "Loading is different because loading is no longer stateful - it instead accepts\n",
        "an optional `AbstractPoint` and returns a newly constructed `Point`. Providing\n",
        "`None` as the input indicates that the object should simply be restored exactly\n",
        "as it was saved. (Note that for some objects, this may not be possible, and it\n",
        "may be necessary to raise an error if some input from the user is required to\n",
        "know how to load.) Otherwise, the provided `AbstractCheckpointable` serves as\n",
        "the guide describing how the concrete loaded object (`Point` in this case)\n",
        "should be constructed.\n",
        "\n",
        "We also have the capability of defining a `metadata` method in this class. In\n",
        "the case of `Point`, the object is obviously quite lightweight already. For real\n",
        "use cases, the checkpoint itself may be expensive to load fully, and some\n",
        "metadata describing important properties that can be loaded cheaply is\n",
        "essential. The `metadata` method should return an instance of\n",
        "`AbstractCheckpointable`.\n",
        "\n",
        "Finally, two additional methods, `is_handleable` and `is_abstract_handleable`\n",
        "should be defined. These methods accept any object, and decide whether the given\n",
        "object is an acceptable input for saving or loading, respectively. In most\n",
        "cases, a simple `isinstance` check will suffice, but for more generic\n",
        "constructs, like `PyTree`s, more involved logic is necessary."
      ]
    },
    {
      "metadata": {
        "id": "W-bw-DgSlooP"
      },
      "cell_type": "markdown",
      "source": [
        "We can now register `PointHandler` in order to deal with `Point` objects."
      ]
    },
    {
      "metadata": {
        "colab": {
          "height": 186
        },
        "executionInfo": {
          "elapsed": 54,
          "status": "ok",
          "timestamp": 1750968321836,
          "user": {
            "displayName": "",
            "userId": ""
          },
          "user_tz": 420
        },
        "id": "3SppTLm3loCA",
        "outputId": "09d7600a-e7b8-41ee-ba8e-30e2625f2bc4"
      },
      "cell_type": "code",
      "source": [
        "ocp.handlers.register_handler(PointHandler)"
      ],
      "outputs": [],
      "execution_count": null
    },
    {
      "metadata": {
        "executionInfo": {
          "elapsed": 53,
          "status": "ok",
          "timestamp": 1750968322148,
          "user": {
            "displayName": "",
            "userId": ""
          },
          "user_tz": 420
        },
        "id": "zycxEIDUl0r_"
      },
      "cell_type": "code",
      "source": [
        "ocp.save_checkpointables(\n",
        "    '/tmp/ckpt2',\n",
        "    dict(model_state=model_state, point=Point(1, 2.4)),\n",
        ")"
      ],
      "outputs": [],
      "execution_count": null
    },
    {
      "metadata": {
        "id": "H9myCOBUl8_Z"
      },
      "cell_type": "markdown",
      "source": [
        "Since the `AbstractPoint` is optional, we do not need to specify any arguments\n",
        "to load everything successfully."
      ]
    },
    {
      "metadata": {
        "executionInfo": {
          "elapsed": 52,
          "status": "ok",
          "timestamp": 1750968322354,
          "user": {
            "displayName": "",
            "userId": ""
          },
          "user_tz": 420
        },
        "id": "BG8uFJYgl6LB",
        "outputId": "393c8093-e370-4dc6-c971-fefc5d1e41e2"
      },
      "cell_type": "code",
      "source": [
        "ocp.load_checkpointables('/tmp/ckpt2')"
      ],
      "outputs": [],
      "execution_count": null
    },
    {
      "metadata": {
        "id": "9sNqzsBOmdom"
      },
      "cell_type": "markdown",
      "source": [
        "However, if desired, we can specify an abstract checkpointable to customize the\n",
        "dtypes of the restored values."
      ]
    },
    {
      "metadata": {
        "executionInfo": {
          "elapsed": 52,
          "status": "ok",
          "timestamp": 1750968322554,
          "user": {
            "displayName": "",
            "userId": ""
          },
          "user_tz": 420
        },
        "id": "t5vxFp19mnKQ",
        "outputId": "d93c6808-e2a9-4260-e249-352cfa5f32f9"
      },
      "cell_type": "code",
      "source": [
        "ocp.load_checkpointables(\n",
        "    '/tmp/ckpt2', dict(point=AbstractPoint(x=float, y=int))\n",
        ")"
      ],
      "outputs": [],
      "execution_count": null
    },
    {
      "metadata": {
        "id": "SBbGu5152Oz_"
      },
      "cell_type": "markdown",
      "source": [
        "We can use `checkpointables_metadata` to load the metadata, in the form of an\n",
        "`AbstractPoint`."
      ]
    },
    {
      "metadata": {
        "executionInfo": {
          "elapsed": 52,
          "status": "ok",
          "timestamp": 1750968322790,
          "user": {
            "displayName": "",
            "userId": ""
          },
          "user_tz": 420
        },
        "id": "jUrsVdO4yeM6",
        "outputId": "b0deb356-579d-4d0e-c9e9-683d270fff5e"
      },
      "cell_type": "code",
      "source": [
        "ocp.checkpointables_metadata('/tmp/ckpt2').metadata['point']"
      ],
      "outputs": [],
      "execution_count": null
    },
    {
      "metadata": {
        "id": "ZhYZ06MS7Vg_"
      },
      "cell_type": "markdown",
      "source": []
    },
    {
      "metadata": {
        "id": "rpeAEZuE7cqv"
      },
      "cell_type": "markdown",
      "source": [
        "## Custom Leaf Handler"
      ]
    },
    {
      "metadata": {
        "id": "Z2V5i7qB7fxZ"
      },
      "cell_type": "markdown",
      "source": [
        "This is an advanced topic.  Make sure you are familar with [the guide on checkpointing PyTrees](checkpointing_pytrees.ipynb) before reading this notebook.\n",
        "\n",
        "PyTrees are a common tree structure used to represent training states. LeafHandlers are responsible for serializing and deserializing each leaf node. Different leaf object types require specific LeafHandlers. Orbax includes standard LeafHandlers for common types including jax.Array, np.ndarray, int, float, and str. Before creating a custom LeafHandler, always check the options available in ocp.options.PytreeOptions and ocp.ption.ArrayOptions to ensure no existing options can meet your needs."
      ]
    },
    {
      "metadata": {
        "id": "BlmvH1qR6pVf"
      },
      "cell_type": "markdown",
      "source": [
        "One of common reasons to have a custom LeafHandler is to support a custom type that is not supported by Orbax.  I will use the `Point` class from above as the example.  Let's say you need to checkpoint many Point objects in a nested tree structure.  It might make sense to store it within a Pytree along with your train state.  Then you would need to write a PointLeafHandler and register it with the LeafHandlerRegistry."
      ]
    },
    {
      "metadata": {
        "id": "fdx96Jt06pVf"
      },
      "cell_type": "code",
      "source": [
        "import dataclasses\n",
        "import json\n",
        "from typing import Awaitable, Type\n",
        "from etils import epath\n",
        "import numpy as np\n",
        "from orbax.checkpoint import multihost\n",
        "import orbax.checkpoint.experimental.v1 as ocp\n",
        "from orbax.checkpoint.experimental.v1 import serialization\n",
        "\n",
        "\n",
        "@dataclasses.dataclass\n",
        "class Point:\n",
        "  x: int | float\n",
        "  y: int | float"
      ],
      "outputs": [],
      "execution_count": null
    },
    {
      "metadata": {
        "id": "NzNJmUiZ6pVf"
      },
      "cell_type": "markdown",
      "source": [
        "For LeafHandler, we need to define a AbtractPoint class as well.  This is required for two reasons:\n",
        "1. The AbstractPoint class is used during restoration to indicate what type of a leaf object will be restored as.\n",
        "2. In addition, metadata of a leaf node will be returned as AbstractPoint, avoid the need to restore the actual leaf object.\n",
        "\n",
        "In following example of AbstractPoint, we just define it as the type of data members without actual values."
      ]
    },
    {
      "metadata": {
        "id": "gk9azkLt6pVf"
      },
      "cell_type": "code",
      "source": [
        "@dataclasses.dataclass\n",
        "class AbstractPoint:\n",
        "  x: Type[int|float]\n",
        "  y: Type[int|float]\n",
        "\n",
        "  @classmethod\n",
        "  def from_point(cls, point):\n",
        "    return cls(x=type(point.x), y=type(point.y))\n"
      ],
      "outputs": [],
      "execution_count": null
    },
    {
      "metadata": {
        "id": "5hNKzRSx6pVg"
      },
      "cell_type": "markdown",
      "source": [
        "Next we will define the actual PointLeafHandler.  See the comments below which explain what functions are required."
      ]
    },
    {
      "metadata": {
        "id": "X-pq0VT06pVg"
      },
      "cell_type": "code",
      "source": [
        "from typing import Sequence\n",
        "import asyncio\n",
        "import aiofiles"
      ],
      "outputs": [],
      "execution_count": null
    },
    {
      "metadata": {
        "id": "A9r2nGmW6pVg"
      },
      "cell_type": "code",
      "source": [
        "class PointLeafHandler(serialization.LeafHandler[Point, AbstractPoint]):\n",
        "  \"\"\"A custom leaf handler for testing.\"\"\"\n",
        "\n",
        "  def __init__(self, context: ocp.Context | None = None):\n",
        "    \"\"\"Required Initializer.\n",
        "\n",
        "    This initializer is initialized lazily during checkpoint operations.  If the\n",
        "    signature is not matched, an exception will be raised during initialization.\n",
        "\n",
        "    Args:\n",
        "      context: The context for the leaf handler.  The leaf handler can\n",
        "        initialize and operate according to the context.  In this example, we do\n",
        "        not utilize it though.  For more examples, see ArrayLeafHandler.\n",
        "    \"\"\"\n",
        "    del context\n",
        "\n",
        "  async def serialize(\n",
        "      self,\n",
        "      params: Sequence[serialization.SerializationParam[Point]],\n",
        "      serialization_context: serialization.SerializationContext,\n",
        "  ) -\u003e Awaitable[None]:\n",
        "    \"\"\"Required Serialize function.\n",
        "\n",
        "    This function writes the specified leaves of a checkpointable to a storage\n",
        "    location.  A couple of notes here:\n",
        "    1. This function is called on all hosts, but in this example, only the\n",
        "    primary host will write.\n",
        "    2. we use `await await_creation()` to ensure the parent directory is created\n",
        "    before writing.\n",
        "    \"\"\"\n",
        "\n",
        "    async def _background_serialize(params, serialization_context):\n",
        "      # make sure the parent directory is created\n",
        "      await serialization_context.parent_dir.await_creation()\n",
        "\n",
        "      # only the primary host writes\n",
        "      if multihost.is_primary_host(0):\n",
        "        for param in params:\n",
        "          # save the value\n",
        "          async with aiofiles.open(\n",
        "              serialization_context.parent_dir.path / f'{param.name}.txt',\n",
        "              'w',\n",
        "          ) as f:\n",
        "            await f.write(json.dumps(dataclasses.asdict(param.value)))\n",
        "\n",
        "          # save the metadata\n",
        "          async with aiofiles.open(\n",
        "              serialization_context.parent_dir.path\n",
        "              / f'{param.name}.metadata.txt',\n",
        "              'w',\n",
        "          ) as abstract_f:\n",
        "            contents = json.dumps({\n",
        "                k: type(v).__name__\n",
        "                for k, v in dataclasses.asdict(param.value).items()\n",
        "            })\n",
        "            await abstract_f.write(contents)\n",
        "\n",
        "    return _background_serialize(params, serialization_context)\n",
        "\n",
        "  async def deserialize(\n",
        "      self,\n",
        "      params: Sequence[serialization.DeserializationParam[AbstractPoint]],\n",
        "      deserialization_context: serialization.DeserializationContext,\n",
        "  ) -\u003e Awaitable[Sequence[Point]]:\n",
        "    \"\"\"Required Deserialize function.\n",
        "\n",
        "    Returns sequence of leaves from a stored checkpointable location. Note that\n",
        "    we use asyncio.to_thread to ensure the deserialization is performed in a\n",
        "    background thread immediately before returning this call.\n",
        "    \"\"\"\n",
        "\n",
        "    async def _deserialize_impl():\n",
        "      ret = []\n",
        "      for param in params:\n",
        "        async with aiofiles.open(\n",
        "            deserialization_context.parent_dir / f'{param.name}.txt',\n",
        "            'r',\n",
        "        ) as f:\n",
        "          ret.append(Point(**json.loads(await f.read())))\n",
        "\n",
        "      return ret\n",
        "\n",
        "    return _deserialize_impl()\n",
        "\n",
        "  async def metadata(\n",
        "      self,\n",
        "      params: Sequence[serialization.DeserializationParam[None]],\n",
        "      deserialization_context: serialization.DeserializationContext,\n",
        "  ) -\u003e Sequence[AbstractPoint]:\n",
        "    \"\"\"Required Metadata function.\n",
        "\n",
        "    Returns a sequence of metadata that helps to describe the available leaves\n",
        "    in this checkpoint location.\n",
        "    \"\"\"\n",
        "\n",
        "    ret = []\n",
        "    for param in params:\n",
        "      async with aiofiles.open(\n",
        "          deserialization_context.parent_dir / f'{param.name}.metadata.txt', 'r'\n",
        "      ) as f:\n",
        "        contents = json.loads(await f.read())\n",
        "        ret.append(\n",
        "            AbstractPoint(\n",
        "                **{k: getattr(__builtins__, v) for k, v in contents.items()}\n",
        "            )\n",
        "        )\n",
        "    return ret"
      ],
      "outputs": [],
      "execution_count": null
    },
    {
      "metadata": {
        "id": "_Pd9zWTE6pVg"
      },
      "cell_type": "markdown",
      "source": [
        "Next, we will define a train_state for demostration purpose.  In this train_state, it has some common types as well as some Points that are nested inside the PyTree."
      ]
    },
    {
      "metadata": {
        "id": "E0NwLMXD6pVg"
      },
      "cell_type": "code",
      "source": [
        "# define a PyTree Train State\n",
        "\n",
        "train_state = {\n",
        "    'a': np.arange(16),\n",
        "    'b': np.ones(16),\n",
        "    'scalar': 123.0,\n",
        "    'mixed': {\n",
        "        'a': np.arange(16),\n",
        "        'b': np.ones(16),\n",
        "        'scalar': 123.0,\n",
        "        'Point': Point(0, 0.5),\n",
        "    },\n",
        "    'Points': {\n",
        "        'level1': {\n",
        "            'point_int': Point(1, 2),\n",
        "            'point_float': Point(3.0, 4.0),\n",
        "            'level2': {\n",
        "                'point_mixed1': Point(5, 6.0),\n",
        "                'point_mixed2': Point(7.0, 8),\n",
        "                'point_int': Point(9, 10),\n",
        "                'point_float': Point(11.0, 12.0),\n",
        "            },\n",
        "        }\n",
        "    },\n",
        "}"
      ],
      "outputs": [],
      "execution_count": null
    },
    {
      "metadata": {
        "id": "CSF-iSZI6pVg"
      },
      "cell_type": "markdown",
      "source": [
        "Next, we will prepare a LeafHandlerRegistry.  In this registry, the type and its abstract type will map with a LeafHandler.  In the following example, we create a `StandardLeafHandler` first.  This is the same as the registry used by default.  Then PointLeafHandler is added along its type Point and abstract type AbstractPoint.  Note that only the `PointLeafHandler` type is registered, not the handler instance.  The instance will be created lazily depending on checkpoint operations."
      ]
    },
    {
      "metadata": {
        "id": "nQk4Iqh_6pVg"
      },
      "cell_type": "code",
      "source": [
        "# Create LeafHandlerRegistry\n",
        "registry = serialization.StandardLeafHandlerRegistry() # with standard handlers\n",
        "registry.add(Point, AbstractPoint, PointLeafHandler) # add custom handler"
      ],
      "outputs": [],
      "execution_count": null
    },
    {
      "metadata": {
        "id": "qFimu0XB6pVg"
      },
      "cell_type": "code",
      "source": [
        "# prepare the checkpoint directory\n",
        "path = epath.Path('/tmp/with_points')\n",
        "path.rmtree(missing_ok=True)"
      ],
      "outputs": [],
      "execution_count": null
    },
    {
      "metadata": {
        "id": "d1MEggBk6pVg"
      },
      "cell_type": "markdown",
      "source": [
        "Now, we are ready to save the `train_state`.  To customize context and pass the custom registry, you can use the `ocp.Context` as below."
      ]
    },
    {
      "metadata": {
        "id": "yGbwDdpC6pVg"
      },
      "cell_type": "code",
      "source": [
        "with ocp.Context(\n",
        "    pytree_options=ocp.options.PyTreeOptions(\n",
        "            leaf_handler_registry=registry\n",
        "    )\n",
        "):\n",
        "  ocp.save_pytree(path, train_state)"
      ],
      "outputs": [],
      "execution_count": null
    },
    {
      "metadata": {
        "id": "GHarzRaB6pVg"
      },
      "cell_type": "markdown",
      "source": [
        "After saving, let's load the checkpoint back to see if we can get back the expected Point objects.  We will again create a ocp.Context with our custom registry."
      ]
    },
    {
      "metadata": {
        "id": "HMgdqu7U6pVg"
      },
      "cell_type": "code",
      "source": [
        "with ocp.Context(\n",
        "    pytree_options=ocp.options.PyTreeOptions(\n",
        "            leaf_handler_registry=registry\n",
        "    )\n",
        "):\n",
        "  restored_train_state = ocp.load_pytree(path)"
      ],
      "outputs": [],
      "execution_count": null
    },
    {
      "metadata": {
        "id": "d4hTdQBu6pVg"
      },
      "cell_type": "code",
      "source": [
        "import pprint\n",
        "pprint.pprint(restored_train_state)"
      ],
      "outputs": [],
      "execution_count": null
    },
    {
      "metadata": {
        "id": "nh_huXzr6pVg"
      },
      "cell_type": "markdown",
      "source": [
        "We can see the restored_train_state looks exactly the same as the original train_state.\n",
        "\n",
        "Finally, we also want to see if we can read the expected metadata.  Similarly, we will use ocp.Context to use our registry with the custom PointLeafHandler."
      ]
    },
    {
      "metadata": {
        "id": "B8GnatTB6pVg"
      },
      "cell_type": "code",
      "source": [
        "with ocp.Context(\n",
        "    pytree_options=ocp.options.PyTreeOptions(\n",
        "            leaf_handler_registry=registry\n",
        "    )\n",
        "):\n",
        "  restored_metadata = ocp.pytree_metadata(path)"
      ],
      "outputs": [],
      "execution_count": null
    },
    {
      "metadata": {
        "id": "BtB3Sqzc6pVg"
      },
      "cell_type": "markdown",
      "source": [
        "We can see the AbstractPoints are returned for Point leaves."
      ]
    },
    {
      "metadata": {
        "id": "VjlZgYk76pVg"
      },
      "cell_type": "code",
      "source": [
        "pprint.pprint(restored_metadata.metadata)"
      ],
      "outputs": [],
      "execution_count": null
    }
  ],
  "metadata": {
    "colab": {
      "last_runtime": {
        "build_target": "//experimental/users/cpgaffney/colab:orbax_colab",
        "kind": "private"
      },
      "provenance": []
    },
    "kernelspec": {
      "display_name": "Python 3",
      "name": "python3"
    },
    "language_info": {
      "name": "python"
    }
  },
  "nbformat": 4,
  "nbformat_minor": 0
}
