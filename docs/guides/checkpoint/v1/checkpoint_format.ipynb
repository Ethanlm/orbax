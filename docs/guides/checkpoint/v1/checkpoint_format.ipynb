{
  "cells": [
    {
      "cell_type": "markdown",
      "metadata": {
        "id": "91nkq8cAXf95"
      },
      "source": [
        "# Checkpoint Format Guide TODO(b/411456584) Add links."
      ]
    },
    {
      "cell_type": "markdown",
      "metadata": {
        "id": "DTAVWh8WyTW5"
      },
      "source": [
        "## Overview"
      ]
    },
    {
      "cell_type": "markdown",
      "metadata": {
        "id": "a4gEQ7efyUrR"
      },
      "source": [
        "Consider the following directory tree:\n",
        "\n",
        "```\n",
        "/path/to/my/checkpoints/\n",
        "  0/\n",
        "    pytree/\n",
        "      ...\n",
        "    dataset/\n",
        "      ...\n",
        "  100/\n",
        "    ...\n",
        "  200/\n",
        "    ...\n",
        "```\n",
        "\n",
        "What does each level represent?\n",
        "\n",
        "The top-level directory is called a **root directory**.\n",
        "\n",
        "Within the root directory is a sequence of individual **checkpoints**. In a\n",
        "training context, each of these checkpoints corresponds to an integer step.\n",
        "\n",
        "Within each checkpoint are a set of **checkpointables** corresponding to\n",
        "individual elements like the PyTree train state, the dataset iterator, and so\n",
        "on.\n",
        "\n",
        "Let's take a closer look at these elements."
      ]
    },
    {
      "cell_type": "markdown",
      "metadata": {
        "id": "yQqtHF8Vx7bi"
      },
      "source": [
        "### Singular Checkpoints"
      ]
    },
    {
      "cell_type": "markdown",
      "metadata": {
        "id": "sh_KT2m5wcHI"
      },
      "source": [
        "A checkpoint is a persistent representation of an ML model present in a storage\n",
        "location, typically on disk. When a model is saved using Orbax, it becomes a\n",
        "checkpoint. When a checkpoint is loaded using Orbax, it becomes a model.\n",
        "\n",
        "Concretely, in Orbax, a checkpoint is composed of a collection of\n",
        "**checkpointables**. That means if we save using the following:\n",
        "\n",
        "```\n",
        "ocp.save_checkpointables(\n",
        "  '/path/to/my/checkpoint/',\n",
        "  dict(pytree=..., dataset=..., other_checkpointable=...),\n",
        ")\n",
        "```\n",
        "\n",
        "We get a checkpoint on disk with a structure similar to the following:\n",
        "\n",
        "```\n",
        "/path/to/my/checkpoint/  # The checkpoint path.\n",
        "  pytree/  # A directory containing the PyTree piece of the checkpoint.\n",
        "  dataset/  # A directory containing the dataset piece of the checkpoint.\n",
        "  other_checkpointable/  # Another checkpointable\n",
        "```\n",
        "\n",
        "Each checkpointable is represented by a subdirectory."
      ]
    },
    {
      "cell_type": "markdown",
      "metadata": {
        "id": "7ic71bvfztnV"
      },
      "source": [
        "Similarly, we can use a different API:\n",
        "\n",
        "```\n",
        "ocp.save_pytree(\n",
        "  '/path/to/my/checkpoint/',\n",
        "  pytree_of_arrays,\n",
        ")\n",
        "```\n",
        "\n",
        "This produces a checkpoint where `pytree` is the only subdirectory.\n",
        "\n",
        "```\n",
        "/path/to/my/checkpoint/  # The checkpoint path.\n",
        "  pytree/  # A directory containing the PyTree piece of the checkpoint.\n",
        "```"
      ]
    },
    {
      "cell_type": "markdown",
      "metadata": {
        "id": "-7rPq5j2yAkP"
      },
      "source": [
        "### Sequence of Checkpoints"
      ]
    },
    {
      "cell_type": "markdown",
      "metadata": {
        "id": "FsKlDvRU1xv1"
      },
      "source": [
        "Make sure not to confuse a \"checkpoint\" with a \"sequence of checkpoints\". For\n",
        "example, when using `training.Checkpointer`, multiple checkpoints representing\n",
        "steps will saved to a **root directory**.\n",
        "\n",
        "For example, if we save a sequence of steps using the following:\n",
        "\n",
        "```\n",
        "with ocp.training.Checkpointer('/path/to/my/root_directory/') as ckptr:\n",
        "  for step in range(start_step, num_steps):\n",
        "    ckptr.save_checkpointables(step, ...)\n",
        "```\n",
        "\n",
        "Our root directory will look like the following, where each integer-numbered\n",
        "subdirectory represents a single checkpoint, corresponding to a step.\n",
        "\n",
        "```\n",
        "/path/to/my/root_directory/\n",
        "  0/\n",
        "  100/\n",
        "  200/\n",
        "  ...\n",
        "```"
      ]
    },
    {
      "cell_type": "markdown",
      "metadata": {
        "id": "s8AzoXEt00Vw"
      },
      "source": [
        "## Format Details"
      ]
    },
    {
      "cell_type": "markdown",
      "metadata": {
        "id": "mWI0QCNw06eo"
      },
      "source": [
        "Now that we understand the checkpoint format abstractly, let's get to some\n",
        "concrete details."
      ]
    },
    {
      "cell_type": "markdown",
      "metadata": {
        "id": "0-UNQoMmbBy5"
      },
      "source": [
        "First, some setup:"
      ]
    },
    {
      "cell_type": "code",
      "execution_count": null,
      "metadata": {
        "id": "skQfDEX7Xlg5"
      },
      "outputs": [],
      "source": [
        "import json\n",
        "import pprint\n",
        "from etils import epath\n",
        "import jax\n",
        "import numpy as np\n",
        "from orbax.checkpoint import v1 as ocp"
      ]
    },
    {
      "cell_type": "code",
      "execution_count": null,
      "metadata": {
        "id": "rGoHzSn6XryA"
      },
      "outputs": [],
      "source": [
        "directory = epath.Path('/tmp/my-checkpoints')\n",
        "mesh = jax.sharding.Mesh(jax.devices(), ('x',))\n",
        "sharding = jax.sharding.NamedSharding(mesh, jax.sharding.PartitionSpec(None))\n",
        "\n",
        "pytree = {\n",
        "    'params': {\n",
        "        'layer0': {\n",
        "            'kernel': np.random.uniform(size=(2, 2)),\n",
        "            'bias': np.ones(2),\n",
        "        }\n",
        "    },\n",
        "    'opt_state': {'0': np.random.random(size=(2,))},\n",
        "}\n",
        "pytree = jax.device_put(pytree, sharding)"
      ]
    },
    {
      "cell_type": "code",
      "execution_count": null,
      "metadata": {
        "id": "HOz6zJHEZSzZ"
      },
      "outputs": [],
      "source": [
        "def print_directory(directory: epath.PathLike, level: int = 0):\n",
        "  \"\"\"Prints a directory tree for debugging purposes.\"\"\"\n",
        "  directory = epath.Path(directory)\n",
        "  assert directory.is_dir()\n",
        "  level_str = '..' * level\n",
        "  if level == 0:\n",
        "    print(f'{directory}/')\n",
        "  else:\n",
        "    print(f'{level_str}{directory.name}/')\n",
        "\n",
        "  level_str = '..' * (level + 1)\n",
        "  for p in directory.iterdir():\n",
        "    if p.is_dir():\n",
        "      print_directory(p, level=level + 1)\n",
        "    else:\n",
        "      print(f'{level_str}{p.name}')"
      ]
    },
    {
      "cell_type": "markdown",
      "metadata": {
        "id": "q6Y0sZTzBx29"
      },
      "source": [
        "### Generic Checkpoints"
      ]
    },
    {
      "cell_type": "markdown",
      "metadata": {
        "id": "ts3DMIf7DTEx"
      },
      "source": [
        "Let's create a checkpoint with two checkpointables, `pytree` and\n",
        "`extra_properties`. Let's also pass some custom metadata, which allows users to\n",
        "provide JSON-serializable properties. For demonstration purposes, let's save\n",
        "`extra_properties` as a JSON checkpointable."
      ]
    },
    {
      "cell_type": "code",
      "execution_count": null,
      "metadata": {
        "id": "7D7Yj7NFB2yT"
      },
      "outputs": [],
      "source": [
        "# Note that the example would work even without the extra step of forcing\n",
        "# `extra_properties` to be handled by `JsonHandler`. We just want to ensure it\n",
        "# gets JSON-encoded for demonstration purposes.\n",
        "with ocp.Context(\n",
        "    checkpointables_options=ocp.options.CheckpointablesOptions.create_with_handlers(\n",
        "        extra_properties=ocp.handlers.JsonHandler\n",
        "    )\n",
        "):\n",
        "  ocp.save_checkpointables(\n",
        "      directory / 'ckpt-0',\n",
        "      dict(pytree=pytree, extra_properties={'foo': 'bar'}),\n",
        "      custom_metadata={'version': 1.0},\n",
        "  )"
      ]
    },
    {
      "cell_type": "code",
      "execution_count": null,
      "metadata": {
        "id": "_NQ105dhGI5X"
      },
      "outputs": [],
      "source": [
        "!ls {directory / 'ckpt-0'}"
      ]
    },
    {
      "cell_type": "markdown",
      "metadata": {
        "id": "uhri8bF6GWNw"
      },
      "source": [
        "As we expected, each checkpointable gets its own subdirectory. There is also a\n",
        "`_CHECKPOINT_METADATA` file created, which contains JSON-encoded metadata."
      ]
    },
    {
      "cell_type": "code",
      "execution_count": null,
      "metadata": {
        "id": "6xxAgX-tGjtm"
      },
      "outputs": [],
      "source": [
        "pprint.pp(\n",
        "    json.loads((directory / 'ckpt-0' / '_CHECKPOINT_METADATA').read_text())\n",
        ")"
      ]
    },
    {
      "cell_type": "markdown",
      "metadata": {
        "id": "T3f3EOJSGtiC"
      },
      "source": [
        "This file contains a number of internal properties recorded by Orbax. The most\n",
        "important of these is `item_handlers`, which records the handler used to save\n",
        "each checkpointable, to facilitate later loading.\n",
        "\n",
        "Notice that our `custom_metadata` is also stored in this file."
      ]
    },
    {
      "cell_type": "markdown",
      "metadata": {
        "id": "UueAkpOIiaJ9"
      },
      "source": [
        "### PyTree Checkpointables"
      ]
    },
    {
      "cell_type": "markdown",
      "metadata": {
        "id": "fNhJM2kUBs_c"
      },
      "source": [
        "Using the same checkpoint, let's dig into the `pytree` subdirectory."
      ]
    },
    {
      "cell_type": "code",
      "execution_count": null,
      "metadata": {
        "id": "bTD6Y2_NisRp"
      },
      "outputs": [],
      "source": [
        "print_directory(directory / 'ckpt-0' / 'pytree')"
      ]
    },
    {
      "cell_type": "markdown",
      "metadata": {
        "id": "3mr2dzvli5i9"
      },
      "source": [
        "The `_METADATA` file provides a complete description of the PyTree structure,\n",
        "including custom and empty nodes.\n",
        "\n",
        "The tree is represented as a flattened dictionary, where each key is represented\n",
        "as a tuple, where successive elements denote successive levels of nesting. For\n",
        "example, for the dict `{'a': {'b': [1, 2]}}` the metadata file would contain two\n",
        "entries with keys `('a', 'b', '0')` and `('a', 'b', '1')`.\n",
        "\n",
        "Keys at each level of nesting also encode what type they are: i.e. whether they\n",
        "are a dict key or a sequential key.\n",
        "\n",
        "Finally, metadata about the value type is stored (e.g. `jax.Array`,\n",
        "`np.ndarray`, etc.) in order to allow for later reconstruction without\n",
        "explicitly requiring the object type to be provided."
      ]
    },
    {
      "cell_type": "code",
      "execution_count": null,
      "metadata": {
        "id": "nAZ2LDB5jZjN"
      },
      "outputs": [],
      "source": [
        "pprint.pp(\n",
        "    json.loads((directory / 'ckpt-0' / 'pytree' / '_METADATA').read_text())\n",
        ")"
      ]
    },
    {
      "cell_type": "markdown",
      "metadata": {
        "id": "QuboIcJ3HsKS"
      },
      "source": [
        "While the exact structure of the metadata is an internal implementation detail\n",
        "and is subject to change, it can still be useful to manually inspect the tree\n",
        "structure. In most cases, however, it is still preferable to rely on public\n",
        "methods intended for obtaining metadata."
      ]
    },
    {
      "cell_type": "code",
      "execution_count": null,
      "metadata": {
        "id": "F7ZlZWncH-9y"
      },
      "outputs": [],
      "source": [
        "pprint.pp(ocp.pytree_metadata(directory / 'ckpt-0').metadata)"
      ]
    },
    {
      "cell_type": "code",
      "execution_count": null,
      "metadata": {
        "id": "AYw_03bPhtOP"
      },
      "outputs": [],
      "source": [
        "print_directory(directory / 'ckpt-0' / 'pytree')"
      ]
    },
    {
      "cell_type": "markdown",
      "metadata": {
        "id": "9tVtuKNchutk"
      },
      "source": [
        "Aside from the `_METADATA` file, most other files are not human-readable."
      ]
    },
    {
      "cell_type": "markdown",
      "metadata": {
        "id": "0A-A6Qx2m580"
      },
      "source": [
        "The `_sharding` file stores information about the shardings used when saving\n",
        "`jax.Array`s in the tree. Similarly `array_metadatas` records array properties\n",
        "separately on each process, so that these properties may be later compared and\n",
        "validated."
      ]
    },
    {
      "cell_type": "markdown",
      "metadata": {
        "id": "5WKt4_A-nL_U"
      },
      "source": [
        "Orbax uses the [TensorStore](https://google.github.io/tensorstore/) library to\n",
        "save individual arrays. Actual array data is stored within the `d/` subdirectory\n",
        "while directly managed by Orbax, while TensorStore metadata is recorded by the\n",
        "`manifest.ocdbt` file. These files are not human-readable and require\n",
        "TensorStore APIs to parse (see below)."
      ]
    },
    {
      "cell_type": "markdown",
      "metadata": {
        "id": "F7S1iZMRn_oA"
      },
      "source": [
        "Finally, you'll notice the presence of the directory `ocdbt.process_0/`, which\n",
        "also has a `manifest.ocdbt` and its own `d/` subdirectory. One such folder\n",
        "exists for every process on which the checkpoint was saved. This exists because\n",
        "each process first writes its own data independently to its corresponding\n",
        "subdirectory.\n",
        "\n",
        "When all processes have finished, Orbax runs a finalization pass to cheaply\n",
        "merge the metadatas from all per-process subdirectories into a global view (note\n",
        "that this still references data in the original subdirectories). This allows for\n",
        "scalability in checkpoint saving as the number of concurrent processes\n",
        "increases."
      ]
    },
    {
      "cell_type": "markdown",
      "metadata": {
        "id": "CL2i8L2hjdUF"
      },
      "source": [
        "#### Working with TensorStore"
      ]
    },
    {
      "cell_type": "markdown",
      "metadata": {
        "id": "C676mXpXjjRa"
      },
      "source": [
        "Sometimes, it is helpful to work directly with the\n",
        "[TensorStore](https://google.github.io/tensorstore/) API to debug individual\n",
        "parameters in a checkpoint."
      ]
    },
    {
      "cell_type": "code",
      "execution_count": null,
      "metadata": {
        "id": "nWkKbJTgKmCV"
      },
      "outputs": [],
      "source": [
        "import tensorstore as ts\n",
        "\n",
        "pytree_path = directory / 'ckpt-0' / 'pytree'"
      ]
    },
    {
      "cell_type": "markdown",
      "metadata": {
        "id": "G68gjMJFj80I"
      },
      "source": [
        "We can verify which keys are present in the checkpoint, which matches\n",
        "information we gathered earlier from the Orbax `metadata` API."
      ]
    },
    {
      "cell_type": "code",
      "execution_count": null,
      "metadata": {
        "id": "FDFbWablo-QE"
      },
      "outputs": [],
      "source": [
        "ts.KvStore.open(\n",
        "    {\"driver\": \"ocdbt\", \"base\": f\"file://{pytree_path.as_posix()}\"}\n",
        ").result().list().result()"
      ]
    },
    {
      "cell_type": "markdown",
      "metadata": {
        "id": "axweQWhpjsSM"
      },
      "source": [
        "To read using TensorStore, we need to construct a TensorStore Spec. For this, we\n",
        "can use Orbax APIs. The spec points to a base path, as well as a particular\n",
        "parameter name (`a` in this case). It contains further options related to the\n",
        "checkpoint format."
      ]
    },
    {
      "cell_type": "code",
      "execution_count": null,
      "metadata": {
        "id": "SWCCkHnkmNoI"
      },
      "outputs": [],
      "source": [
        "tspec = {\n",
        "    'driver': 'zarr3',\n",
        "    'kvstore': {\n",
        "        'driver': 'ocdbt',\n",
        "        'base': {'driver': 'file', 'path': pytree_path.as_posix()},\n",
        "        'path': 'params.layer0.kernel',\n",
        "    },\n",
        "}"
      ]
    },
    {
      "cell_type": "markdown",
      "metadata": {
        "id": "wRvlthGUkNKz"
      },
      "source": [
        "Finally, we can directly restore the array using TensorStore."
      ]
    },
    {
      "cell_type": "code",
      "execution_count": null,
      "metadata": {
        "id": "QO6hZh3Kmj0n"
      },
      "outputs": [],
      "source": [
        "t = ts.open(ts.Spec(tspec), open=True).result()\n",
        "result = t.read().result()\n",
        "result"
      ]
    },
    {
      "cell_type": "markdown",
      "metadata": {
        "id": "Aa-pn_oKir2U"
      },
      "source": [
        "### Other Checkpointables"
      ]
    },
    {
      "cell_type": "markdown",
      "metadata": {
        "id": "wLls1RSUixkd"
      },
      "source": [
        "Finally, let's return to the other checkpointable in our example, called\n",
        "`extra_properties`. Since we explicitly required the use of `JsonHandler` to save this object, this piece of the checkpoint is easily human-readable."
      ]
    },
    {
      "cell_type": "code",
      "execution_count": null,
      "metadata": {
        "id": "2RkeEIVRi9fh"
      },
      "outputs": [],
      "source": [
        "print_directory(directory / 'ckpt-0' / 'extra_properties')"
      ]
    },
    {
      "cell_type": "code",
      "execution_count": null,
      "metadata": {
        "id": "KbP1QyASi6Ml"
      },
      "outputs": [],
      "source": [
        "pprint.pp(\n",
        "    json.loads(\n",
        "        (directory / 'ckpt-0' / 'extra_properties' / 'data.json').read_text()\n",
        "    )\n",
        ")"
      ]
    }
  ],
  "metadata": {
    "colab": {
      "last_runtime": {
        "build_target": "//experimental/users/cpgaffney/colab:orbax_colab",
        "kind": "private"
      },
      "private_outputs": true,
      "provenance": [
        {
          "file_id": "1nsDaQ-zrakGrtG2u__0oHJh7t42o8Zzj",
          "timestamp": 1745597751498
        }
      ],
      "toc_visible": true
    },
    "kernelspec": {
      "display_name": "Python 3",
      "name": "python3"
    },
    "language_info": {
      "name": "python"
    }
  },
  "nbformat": 4,
  "nbformat_minor": 0
}
