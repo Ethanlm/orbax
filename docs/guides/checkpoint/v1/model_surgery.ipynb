{
  "cells": [
    {
      "metadata": {
        "id": "wKwPYpX3QC-n"
      },
      "cell_type": "markdown",
      "source": [
        "# Model Surgery"
      ]
    },
    {
      "metadata": {
        "id": "sE5cMQgVQNI4"
      },
      "cell_type": "markdown",
      "source": [
        "Oftentimes, the model we saved to disk isn't exactly the model we wish to work with in memory. Some examples of this are:\n",
        "\n",
        " - Stacking/unstacking layers to match your training setup\n",
        " - Fine-tuning a multi-modal model from multiple uni-modal models\n",
        " - Using a frozen teacher model at each iteration of the training loop for a student model\n",
        " - Loading only the weights section of the PyTree, and ignoring things like optimizer state, when doing model evaluation\n",
        "\n",
        "Model surgery is a toolset designed precisely for this kind of task.\n",
        "\n",
        "Orbax Checkpointing currently exposes a Partial Loading API, which allows for a subset of PyTree leaves (or, a \"strict subtree\") to be loaded from the full model on disk. More arbitrary manipulation of leaves and trees is planned to be added in the future, such as loading multiple trees and merging them into one.\n",
        "\n",
        "Let's first take a look at what it's like to restore part of a PyTree, then touch on the planned Advanced Model Surgery API."
      ]
    },
    {
      "metadata": {
        "id": "94YH4uw-NAKd"
      },
      "cell_type": "code",
      "source": [
        "import jax\n",
        "import numpy as np\n",
        "from orbax.checkpoint import v1 as ocp\n",
        "from etils import epath\n",
        "\n",
        "path = epath.Path('/tmp/my-checkpoints/ckpt-1')\n",
        "pytree = {\n",
        "  'params': {\n",
        "    'layer0': {\n",
        "      'kernel': np.random.uniform(size=(2, 2)),\n",
        "      'bias': np.ones(2),\n",
        "    },\n",
        "  },\n",
        "  'opt_state': {\n",
        "    '0': np.random.random(size=(2,)),\n",
        "    '1': [np.ones(2), np.ones(2)],\n",
        "  },\n",
        "  'step': np.asarray(0),\n",
        "}\n",
        "mesh = jax.sharding.Mesh(jax.devices(), ('x',))\n",
        "sharding = jax.sharding.NamedSharding(mesh, jax.sharding.PartitionSpec(None))\n",
        "pytree = jax.tree.map(\n",
        "    lambda arr: jax.make_array_from_callback(\n",
        "        arr.shape,\n",
        "        sharding,\n",
        "        lambda idx: arr[idx],\n",
        "    ),\n",
        "    pytree,\n",
        ")\n",
        "ocp.save_pytree(path, pytree, force=True)"
      ],
      "outputs": [],
      "execution_count": 15
    },
    {
      "metadata": {
        "id": "zVDqy24bNAKe"
      },
      "cell_type": "markdown",
      "source": [
        "## Partial Loading"
      ]
    },
    {
      "metadata": {
        "id": "CnnAu7pVNAKe"
      },
      "cell_type": "markdown",
      "source": [
        "Partial loading is a way to solve the most common use case of loading a different tree than is present in the checkpoint - where leaves or subtrees can be omitted. The canonical example is to skip loading the optimizer state when you're doing evaluation. There are a couple of ways to do this with the Partial Loading API. Let's take a look at both."
      ]
    },
    {
      "metadata": {
        "id": "fxMiFWraNAKe"
      },
      "cell_type": "markdown",
      "source": [
        "### Placeholder"
      ]
    },
    {
      "metadata": {
        "id": "ARscwVOZNAKe"
      },
      "cell_type": "markdown",
      "source": [
        "Since we don't need the optimizer state (`opt_state`) during model evaluation, we can signal to Orbax to skip loading the leaves with that node by using the `ocp.PLACEHOLDER` (`...`) value."
      ]
    },
    {
      "metadata": {
        "id": "FMb-DDowNAKe"
      },
      "cell_type": "code",
      "source": [
        "abstract_tree = {\n",
        "  'params': {\n",
        "    'layer0': {\n",
        "      'kernel': np.array([]),\n",
        "      'bias': np.array([]),\n",
        "    },\n",
        "  },\n",
        "  # Skip loading 'opt_state'\n",
        "  'opt_state': {\n",
        "    '0': ...,\n",
        "    '1': [..., ...],\n",
        "  },\n",
        "  'step': np.array([]),\n",
        "}\n",
        "\n",
        "ocp.load_pytree(path, abstract_tree)"
      ],
      "outputs": [],
      "execution_count": 16
    },
    {
      "metadata": {
        "id": "oEmjmI5vNAKe"
      },
      "cell_type": "markdown",
      "source": [
        "Note that `ocp.PLACEHOLDER` can only be used for leaves, so `opt_state: ocp.PLACEHOLDER` would not work. Keeping the structure consistent in this way is important for use cases like merging the original state with the restored state."
      ]
    },
    {
      "metadata": {
        "id": "GHpi140UNAKe"
      },
      "cell_type": "code",
      "source": [
        "bad_abstract_tree = {\n",
        "  'params': {\n",
        "    'layer0': {\n",
        "      'kernel': np.array([]),\n",
        "      'bias': np.array([]),\n",
        "    },\n",
        "  },\n",
        "  # Skip loading 'opt_state'\n",
        "  'opt_state': ...,\n",
        "  'step': np.array([]),\n",
        "}\n",
        "\n",
        "try:\n",
        "  ocp.load_pytree(path, bad_abstract_tree)\n",
        "except Exception as e:\n",
        "  print(e)"
      ],
      "outputs": [],
      "execution_count": 17
    },
    {
      "metadata": {
        "id": "MAPPk4mmNAKe"
      },
      "cell_type": "markdown",
      "source": [
        "Creating an abstract tree by hand is tedious. A more natural way to do this is by using something like JAX's `tree_map_with_path`."
      ]
    },
    {
      "metadata": {
        "id": "d9km3IL6NAKe"
      },
      "cell_type": "code",
      "source": [
        "def _create_abstract_leaf_for_partial_load(leaf_path, _):\n",
        "  leaf_path = jax.tree_util.keystr(leaf_path, simple=True, separator='/')\n",
        "  if (leaf_path.split('/')[0] == 'opt_state'):\n",
        "    return ocp.PLACEHOLDER \n",
        "  else:\n",
        "    return np.array([])\n",
        "\n",
        "easy_abstract_tree = jax.tree.map_with_path(\n",
        "  _create_abstract_leaf_for_partial_load,\n",
        "  pytree\n",
        ")\n",
        "\n",
        "ocp.load_pytree(path, easy_abstract_tree)"
      ],
      "outputs": [],
      "execution_count": 18
    },
    {
      "metadata": {
        "id": "5BlmcRrPNAKe"
      },
      "cell_type": "markdown",
      "source": [
        "We may not have direct access to the original PyTree when creating the abstract counterpart, and in that case, we'll need to use the on-disk `pytree_metadata`."
      ]
    },
    {
      "metadata": {
        "id": "c-8wzf_rNAKe"
      },
      "cell_type": "code",
      "source": [
        "on_disk_pytree_structure = ocp.pytree_metadata(path).metadata\n",
        "\n",
        "abstract_tree_from_metadata = jax.tree.map_with_path(\n",
        "  _create_abstract_leaf_for_partial_load,\n",
        "  on_disk_pytree_structure\n",
        ")\n",
        "\n",
        "ocp.load_pytree(path, abstract_tree_from_metadata)"
      ],
      "outputs": [],
      "execution_count": 19
    },
    {
      "metadata": {
        "id": "u5kKXsr1XjDq"
      },
      "cell_type": "markdown",
      "source": [
        "### Omission TODO(b/411457893): add omission mode"
      ]
    },
    {
      "metadata": {
        "id": "By5aAqe3w1kx"
      },
      "cell_type": "markdown",
      "source": [
        "### Model Surgery TODO(b/411457893): add future model surgery api"
      ]
    }
  ],
  "metadata": {
    "colab": {
      "private_outputs": true
    }
  },
  "nbformat": 4,
  "nbformat_minor": 0
}
