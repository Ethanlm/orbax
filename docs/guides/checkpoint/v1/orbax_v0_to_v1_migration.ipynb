{
  "cells": [
    {
      "metadata": {
        "id": "cqxCJj3zlK4Q"
      },
      "cell_type": "markdown",
      "source": [
        "# Orbax v0 to v1 Migration Guide"
      ]
    },
    {
      "metadata": {
        "id": "P52zJZ0ei194"
      },
      "cell_type": "markdown",
      "source": [
        "## How to use v1 API to load checkpoints saved with v0 API"
      ]
    },
    {
      "metadata": {
        "id": "pnDovPp-jJVE"
      },
      "cell_type": "markdown",
      "source": [
        "v1 `ocp.load_*` API can load checkpoints saved with v0 API. But before discussing the details, let us first understand how saved checkpoints are laid out."
      ]
    },
    {
      "metadata": {
        "id": "_5FvXQ_CkCVq"
      },
      "cell_type": "markdown",
      "source": [
        "### Checkpoint Layouts"
      ]
    },
    {
      "metadata": {
        "id": "qwb6eHABzO-J"
      },
      "cell_type": "markdown",
      "source": [
        "#### Checkpointables in subdirectories"
      ]
    },
    {
      "metadata": {
        "id": "wy78qp2YlK4Q"
      },
      "cell_type": "markdown",
      "source": [
        "Most commonly, Orbax saves a checkpoint in a directory, which in turn contains subdirectories containing checkpointables (items).\n",
        "\n",
        "e.g. The checkpoint in **step_1234** contains checkpointables in subdirectories named as **state** and **my_json_data**.\n",
        "\n",
        "```\n",
        "root_dir/\n",
        "    step_1234/\n",
        "        _CHECKPOINT_METADATA\n",
        "        state/\n",
        "            _METADATA\n",
        "            manifest.ocdbt\n",
        "            ocdbt.process_0/\n",
        "        pytree/\n",
        "            _METADATA\n",
        "            manifest.ocdbt\n",
        "            ocdbt.process_0/\n",
        "        my_json_data/\n",
        "            my_data.json\n",
        "```\n",
        "A `CheckpointManager` pointing to `root_dir/` saves checkpoints for each step in the above format.\n",
        "\n",
        "Similarly, `Checkpointer(CompositeCheckpointHandler)` can save a checkpoint like `step_1234/`, though the directory can be arbitrary (not constrained to correspond to a specific step).\n",
        "\n",
        "Let's save a checkpoint with the V0 API to demonstrate."
      ]
    },
    {
      "metadata": {
        "executionInfo": {
          "elapsed": 100,
          "status": "ok",
          "timestamp": 1746669218840,
          "user": {
            "displayName": "",
            "userId": ""
          },
          "user_tz": 420
        },
        "id": "wedc2Q5vix3t"
      },
      "cell_type": "code",
      "source": [
        "# Save checkpoint with checkpointables in state and pytree subdirs.\n",
        "\n",
        "from etils import epath\n",
        "import numpy as np\n",
        "from orbax import checkpoint as ocp_v0\n",
        "\n",
        "root_dir = epath.Path('/tmp/root_dir')\n",
        "root_dir.rmtree(missing_ok=True)  # Clean up if it already exists.\n",
        "data = {\n",
        "  'params': np.ones(2),\n",
        "}\n",
        "\n",
        "args = ocp_v0.args.Composite(**{\n",
        "  checkpointable_name: ocp_v0.args.StandardSave(data)\n",
        "  for checkpointable_name in ['state', 'pytree']\n",
        "})\n",
        "with ocp_v0.CheckpointManager(root_dir) as mngr:\n",
        "  step = 0\n",
        "  mngr.save(step, args=args)\n",
        "  \n",
        "step_dir = root_dir / f'{step}'\n"
      ],
      "outputs": [
        {
          "output_type": "stream",
          "name": "stderr",
          "text": [
            "INFO:2025-07-18 10:11:04,772:jax._src.xla_bridge:821: Unable to initialize backend 'pathways': Could not initialize backend 'pathways'\n",
            "INFO:2025-07-18 10:11:04,773:jax._src.xla_bridge:821: Unable to initialize backend 'proxy': INVALID_ARGUMENT: IFRT proxy server address must be '\u003ctransport-type\u003e://\u003cbackend-address\u003e' (e.g., 'grpc://localhost'), but got \n",
            "INFO:2025-07-18 10:11:04,783:jax._src.xla_bridge:821: Unable to initialize backend 'mlcr': Could not initialize backend 'mlcr'\n",
            "INFO:2025-07-18 10:11:04,784:jax._src.xla_bridge:821: Unable to initialize backend 'sliceme': Could not initialize backend 'sliceme'\n"
          ]
        }
      ],
      "execution_count": 1
    },
    {
      "metadata": {
        "executionInfo": {
          "elapsed": 54,
          "status": "ok",
          "timestamp": 1746669222049,
          "user": {
            "displayName": "",
            "userId": ""
          },
          "user_tz": 420
        },
        "id": "jWVbrSWykzvn",
        "outputId": "09664273-d835-47c3-f3cf-d24c9d82ccac"
      },
      "cell_type": "code",
      "source": [
        "!ls /tmp/root_dir/0"
      ],
      "outputs": [
        {
          "output_type": "stream",
          "name": "stdout",
          "text": [
            "_CHECKPOINT_METADATA\n",
            "pytree\n",
            "state\n"
          ]
        }
      ],
      "execution_count": 4
    },
    {
      "metadata": {
        "id": "EKhhK_qOyuR_"
      },
      "cell_type": "markdown",
      "source": [
        "A checkpoint stored in above layout can be loaded using `ocp.load_checkpointables(...)` function."
      ]
    },
    {
      "metadata": {
        "executionInfo": {
          "elapsed": 53,
          "status": "ok",
          "timestamp": 1746669225299,
          "user": {
            "displayName": "",
            "userId": ""
          },
          "user_tz": 420
        },
        "id": "poIGzBC3c9fK",
        "outputId": "9ca190b2-8060-43f5-a1e3-80235dda9a7b"
      },
      "cell_type": "code",
      "source": [
        "# Load all checkpointables from a directory where subdirs contain checkpointables.\n",
        "import orbax.checkpoint.experimental.v1 as ocp\n",
        "\n",
        "loaded = ocp.load_checkpointables(step_dir)\n",
        "# Use the checkpointables.\n",
        "state = loaded['state']\n",
        "pytree = loaded['pytree']\n",
        "\n",
        "print('state=', state)\n",
        "print('pytree=', pytree)"
      ],
      "outputs": [
        {
          "output_type": "stream",
          "name": "stdout",
          "text": [
            "state= {'params': array([1., 1.])}\n",
            "pytree= {'params': array([1., 1.])}\n"
          ]
        }
      ],
      "execution_count": 5
    },
    {
      "metadata": {
        "id": "UfhvqYjic9fK"
      },
      "cell_type": "markdown",
      "source": [
        "#### Checkpoint in directory with no subdirectory"
      ]
    },
    {
      "metadata": {
        "id": "6slag8lmc9fK"
      },
      "cell_type": "markdown",
      "source": [
        "Alternatively, users can save checkpoints directly to a directory without any checkpointables (subdirectory).\n",
        "\n",
        "e.g. The following layout contains an pytree checkpoint without any names like `state` as above.\n",
        "```\n",
        "my_checkpoint/\n",
        "        _CHECKPOINT_METADATA\n",
        "        _METADATA\n",
        "        manifest.ocdbt\n",
        "        ocdbt.process_0/\n",
        "```\n",
        "v0 `Checkpointer` (without `CompositeCheckpointHandler`) can be used to save in such layouts."
      ]
    },
    {
      "metadata": {
        "executionInfo": {
          "elapsed": 55,
          "status": "ok",
          "timestamp": 1746669848818,
          "user": {
            "displayName": "",
            "userId": ""
          },
          "user_tz": 420
        },
        "id": "3Zs-c_CRl9sR"
      },
      "cell_type": "code",
      "source": [
        "# Save a checkpoint directly to a directory.\n",
        "\n",
        "my_checkpoint_dir = epath.Path('/tmp/custom_checkpoint/my_checkpoint')\n",
        "my_checkpoint_dir.rmtree(missing_ok=True)\n",
        "\n",
        "with ocp_v0.StandardCheckpointer() as checkpointer:\n",
        "  checkpointer.save(my_checkpoint_dir, data)"
      ],
      "outputs": [],
      "execution_count": 6
    },
    {
      "metadata": {
        "executionInfo": {
          "elapsed": 54,
          "status": "ok",
          "timestamp": 1746669859683,
          "user": {
            "displayName": "",
            "userId": ""
          },
          "user_tz": 420
        },
        "id": "jvxZCZQtmr_2",
        "outputId": "9153bde8-1588-4639-c307-75f12d9f4ca3"
      },
      "cell_type": "code",
      "source": [
        "!ls /tmp/custom_checkpoint/my_checkpoint"
      ],
      "outputs": [
        {
          "output_type": "stream",
          "name": "stdout",
          "text": [
            "_CHECKPOINT_METADATA\n",
            "d\n",
            "descriptor\n",
            "manifest.ocdbt\n",
            "_METADATA\n",
            "ocdbt.process_0\n"
          ]
        }
      ],
      "execution_count": 7
    },
    {
      "metadata": {
        "id": "VTCowqsjc9fK"
      },
      "cell_type": "markdown",
      "source": [
        "An pytree checkpoint in the above layout can be loaded using `ocp.load_pytree(...)` function."
      ]
    },
    {
      "metadata": {
        "executionInfo": {
          "elapsed": 54,
          "status": "ok",
          "timestamp": 1746669874167,
          "user": {
            "displayName": "",
            "userId": ""
          },
          "user_tz": 420
        },
        "id": "y8VUQ6lLc9fK",
        "outputId": "21d6beb1-91be-4775-d538-f93dee5dee7d"
      },
      "cell_type": "code",
      "source": [
        "# Load a pytree from a directory with no checkpointables.\n",
        "\n",
        "loaded = ocp.load_pytree(my_checkpoint_dir, checkpointable_name=None)\n",
        "# Use the loaded pytree.\n",
        "print('loaded=', loaded)"
      ],
      "outputs": [
        {
          "output_type": "stream",
          "name": "stdout",
          "text": [
            "loaded= {'params': array([1., 1.])}\n"
          ]
        }
      ],
      "execution_count": 8
    },
    {
      "metadata": {
        "id": "f726laB4lK4Q"
      },
      "cell_type": "markdown",
      "source": [
        "### Compatibility Matrix"
      ]
    },
    {
      "metadata": {
        "id": "LCFONl_uFaw7"
      },
      "cell_type": "markdown",
      "source": [
        "#### Loading pytree checkpoint with `load_pytree(...)`"
      ]
    },
    {
      "metadata": {
        "id": "K-Br79sdlK4Q"
      },
      "cell_type": "markdown",
      "source": [
        "| Restore API | Response\n",
        ":------- | :-------- |\n",
        "|ocp.load_pytree(`step_1234`)|Loads PyTree under subdirectory, `pytree`|\n",
        "|ocp.load_pytree(`step_1234`, `checkpointable_name='pytree'`)|Loads PyTree under subdirectory, `pytree`|\n",
        "|ocp.load_pytree(`step_1234`, `checkpointable_name='state'`)|Loads PyTree under subdirectory, `state`|\n",
        "|ocp.load_pytree(`my_checkpoint`, `checkpointable_name=None`)|Loads PyTree directly from `my_checkpoint`|"
      ]
    },
    {
      "metadata": {
        "id": "sDLDmT4dwHEc"
      },
      "cell_type": "markdown",
      "source": [
        "Following calls will lead to error.\n",
        "\n",
        "| Restore API | Response\n",
        ":------- | :-------- |\n",
        "|ocp.load_pytree(`root_dir`)|Error: expecting a subdir named `pytree`|\n",
        "|ocp.load_pytree(`root_dir`, `checkpointable_name='pytree'`)|Error: expecting a subdir named `pytree`|\n",
        "|ocp.load_pytree(`root_dir`, `checkpointable_name=None`)|Error: expecting pytree metadata file|\n",
        "|ocp.load_pytree(`step_1234`, `checkpointable_name=None`)|Error: expecting pytree metadata file|\n",
        "|ocp.load_pytree(`my_checkpoint`)|Error: expecting a subdir named `pytree`|\n",
        "|ocp.load_pytree(`my_checkpoint`, `checkpointable_name='pytree'`)|Error: expecting a subdir named `pytree`|"
      ]
    },
    {
      "metadata": {
        "id": "35t78qAnI66H"
      },
      "cell_type": "markdown",
      "source": [
        "#### Loading checkpointables with `load_checkpointables(...)`"
      ]
    },
    {
      "metadata": {
        "id": "fYWAk7oeJ7PD"
      },
      "cell_type": "markdown",
      "source": [
        "| Restore API | Response\n",
        ":------- | :-------- |\n",
        "|ocp.load_checkpointables(`step_1234`)|Loads all checkpointables from respective subdirs|\n",
        "|ocp.load_checkpointables(`step_1234`, `dict(state=abstract_tree, my_json_data=None)`)|Loads `state` and `my_json_data` checkpointables from respective subdirs|"
      ]
    },
    {
      "metadata": {
        "id": "dKkX96LUw3X7"
      },
      "cell_type": "markdown",
      "source": [
        "Following calls will lead to error.\n",
        "\n",
        "| Restore API | Response\n",
        ":------- | :-------- |\n",
        "|ocp.load_checkpointables(`root_dir`)|Error: suggesting to try a subdir instead|\n",
        "|ocp.load_checkpointables(`my_checkpoint`)|Error: suggesting to use load_pytree instead|\n",
        "|ocp.load_checkpointables(`root_dir`, `dict(state=abstract_tree, pytree=abstract_tree)`)|Error: suggesting to try a subdir instead|\n",
        "|ocp.load_checkpointables(`my_checkpoint`, `dict(state=abstract_tree, pytree=abstract_tree)`)|Error: suggesting to use load_pytree instead|\n"
      ]
    },
    {
      "metadata": {
        "id": "KfxKisqk-RCU"
      },
      "cell_type": "markdown",
      "source": [
        "## Migrating from v0 CheckpointManager to v1 Checkpointer"
      ]
    },
    {
      "metadata": {
        "id": "wxjdRYyMOlgi"
      },
      "cell_type": "markdown",
      "source": [
        "If you were using `v0 CheckpointManager` in your training loop then switch to `v1\n",
        "Checkpointer`.\n",
        "\n",
        "Please consult the following table for complete list of compatible methods."
      ]
    },
    {
      "metadata": {
        "id": "Dcei3NmL-X02"
      },
      "cell_type": "markdown",
      "source": [
        "| v0 CheckpointManager | v1 Checkpointer\n",
        ":------- | :-------- |\n",
        "|`directory`|`directory`|\n",
        "|`all_steps(...)`|`checkpoints`|\n",
        "|`latest_step()`|`latest`|\n",
        "|`reload()`|`reload()`|\n",
        "|`should_save(step)`|`should_save(step)`|\n",
        "|`save(...)`|`save_pytree(...)`, `save_checkpointables(...)`|\n",
        "||and `save_*_async(...)`|\n",
        "|`restore(...)`|`load_pytree(...)`, `load_checkpointables(...)` |\n",
        "||and `load_*_async(...)`|\n",
        "|`item_metadata(step)`|`pytree_metadata(step)`,|\n",
        "||`checkpointables_metadata(step)`|\n",
        "|`metrics(step)`|`pytree_metadata(step).metrics`,|\n",
        "||`checkpointables_metadata(step).metrics`|\n",
        "|`metadata(step)`|`pytree_metadata(step)`,|\n",
        "||`checkpointables_metadata(step)`|\n",
        "|`metadata(None)` or `metadata()`|`root_metadata()`|\n",
        "|`wait_until_finished`|Call `AsyncResponse.result()`|\n",
        "||returned from `save_*_async(...)` and `load_*_async(...)`.|\n",
        "|`check_for_errors()`|Call `AsyncResponse.result()`|\n",
        "||returned from `save_*_async(...)` and `load_*_async(...)`.|\n",
        "|`close()`|`close()`|\n",
        "|`is_saving_in_progress()`|TODO(b/422440404)|\n",
        "|`best_step()`|TODO(b/422440665)|\n",
        "|`reached_preemption(...)`|TODO(b/422439834)|\n",
        "|`delete(step)`|TODO(b/422439951)|\n"
      ]
    }
  ],
  "metadata": {
    "colab": {
      "provenance": []
    },
    "kernelspec": {
      "display_name": "Python 3",
      "name": "python3"
    },
    "language_info": {
      "name": "python"
    }
  },
  "nbformat": 4,
  "nbformat_minor": 0
}
