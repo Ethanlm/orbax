{
  "cells": [
    {
      "cell_type": "markdown",
      "metadata": {
        "id": "cqxCJj3zlK4Q"
      },
      "source": [
        "# Orbax v0 to v1 Migration Guide"
      ]
    },
    {
      "cell_type": "markdown",
      "metadata": {
        "id": "P52zJZ0ei194"
      },
      "source": [
        "## How to use v1 API to load checkpoints saved with v0 API"
      ]
    },
    {
      "cell_type": "markdown",
      "metadata": {
        "id": "pnDovPp-jJVE"
      },
      "source": [
        "v1 `ocp.load_*` API can load checkpoints saved with v0 API. But before discussing the details, let us first understand how saved checkpoints are laid out."
      ]
    },
    {
      "cell_type": "markdown",
      "metadata": {
        "id": "_5FvXQ_CkCVq"
      },
      "source": [
        "### Checkpoint Layouts"
      ]
    },
    {
      "cell_type": "markdown",
      "metadata": {
        "id": "qwb6eHABzO-J"
      },
      "source": [
        "#### Checkpointables in subdirectories"
      ]
    },
    {
      "cell_type": "markdown",
      "metadata": {
        "id": "wy78qp2YlK4Q"
      },
      "source": [
        "Most commonly, Orbax saves a checkpoint in a directory, which in turn contains subdirectories containing checkpointables (items).\n",
        "\n",
        "e.g. The checkpoint in **step_1234** contains checkpointables in subdirectories named as **state** and **my_json_data**.\n",
        "\n",
        "```\n",
        "root_dir/\n",
        "    step_1234/\n",
        "        _CHECKPOINT_METADATA\n",
        "        state/\n",
        "            _METADATA\n",
        "            manifest.ocdbt\n",
        "            ocdbt.process_0/\n",
        "        pytree/\n",
        "            _METADATA\n",
        "            manifest.ocdbt\n",
        "            ocdbt.process_0/\n",
        "        my_json_data/\n",
        "            my_data.json\n",
        "```\n",
        "`CheckpointManager` and `CompositeCheckpointHandler` save checkpoints the above layout. Let's save checkpoint with v0 api."
      ]
    },
    {
      "cell_type": "code",
      "execution_count": 18,
      "metadata": {
        "executionInfo": {
          "elapsed": 100,
          "status": "ok",
          "timestamp": 1746669218840,
          "user": {
            "displayName": "",
            "userId": ""
          },
          "user_tz": 420
        },
        "id": "wedc2Q5vix3t"
      },
      "outputs": [],
      "source": [
        "# Save checkpoint with checkpointables in state and pytree subdirs.\n",
        "\n",
        "from etils import epath\n",
        "import numpy as np\n",
        "from orbax import checkpoint as ocp_v0\n",
        "\n",
        "root_dir = epath.Path('/tmp/root_dir')\n",
        "root_dir.rmtree(missing_ok=True)\n",
        "step_dir = root_dir / 'step_1234'\n",
        "data = {\n",
        "  'params': np.ones(2),\n",
        "}\n",
        "\n",
        "args = ocp_v0.args.Composite(**{\n",
        "  checkpointable_name: ocp_v0.args.StandardSave(data)\n",
        "  for checkpointable_name in ['state', 'pytree']\n",
        "})\n",
        "with ocp_v0.Checkpointer(\n",
        "    ocp_v0.CompositeCheckpointHandler()\n",
        ") as checkpointer:\n",
        "  checkpointer.save(step_dir, args)\n"
      ]
    },
    {
      "cell_type": "code",
      "execution_count": 19,
      "metadata": {
        "executionInfo": {
          "elapsed": 54,
          "status": "ok",
          "timestamp": 1746669222049,
          "user": {
            "displayName": "",
            "userId": ""
          },
          "user_tz": 420
        },
        "id": "jWVbrSWykzvn",
        "outputId": "09664273-d835-47c3-f3cf-d24c9d82ccac"
      },
      "outputs": [
        {
          "name": "stdout",
          "output_type": "stream",
          "text": [
            "_CHECKPOINT_METADATA\n",
            "pytree\n",
            "state\n"
          ]
        }
      ],
      "source": [
        "!ls /tmp/root_dir/step_1234/"
      ]
    },
    {
      "cell_type": "markdown",
      "metadata": {
        "id": "EKhhK_qOyuR_"
      },
      "source": [
        "A checkpoint stored in above layout can be loaded using `ocp.load_checkpointables(...)` function."
      ]
    },
    {
      "cell_type": "code",
      "execution_count": 20,
      "metadata": {
        "executionInfo": {
          "elapsed": 53,
          "status": "ok",
          "timestamp": 1746669225299,
          "user": {
            "displayName": "",
            "userId": ""
          },
          "user_tz": 420
        },
        "id": "poIGzBC3c9fK",
        "outputId": "9ca190b2-8060-43f5-a1e3-80235dda9a7b"
      },
      "outputs": [
        {
          "name": "stdout",
          "output_type": "stream",
          "text": [
            "state= {'params': array([1., 1.])}\n",
            "pytree= {'params': array([1., 1.])}\n"
          ]
        }
      ],
      "source": [
        "# Load all checkpointables from a directory where subdirs contain checkpointables.\n",
        "import orbax.checkpoint.experimental.v1 as ocp\n",
        "\n",
        "loaded = ocp.load_checkpointables(step_dir)\n",
        "# Use the checkpointables.\n",
        "state = loaded['state']\n",
        "pytree = loaded['pytree']\n",
        "\n",
        "print('state=', state)\n",
        "print('pytree=', pytree)"
      ]
    },
    {
      "cell_type": "markdown",
      "metadata": {
        "id": "UfhvqYjic9fK"
      },
      "source": [
        "#### Checkpoint in directory with no subdirectory"
      ]
    },
    {
      "cell_type": "markdown",
      "metadata": {
        "id": "6slag8lmc9fK"
      },
      "source": [
        "Alternatively, users can save checkpoints directly to a directory without any checkpointables (subdirectory).\n",
        "\n",
        "e.g. The following layout contains an pytree checkpoint without any names like `state` as above.\n",
        "```\n",
        "my_checkpoint/\n",
        "        _CHECKPOINT_METADATA\n",
        "        _METADATA\n",
        "        manifest.ocdbt\n",
        "        ocdbt.process_0/\n",
        "```\n",
        "v0 `Checkpointer` (without `CompositeCheckpointHandler`) can be used to save in such layouts."
      ]
    },
    {
      "cell_type": "code",
      "execution_count": 43,
      "metadata": {
        "executionInfo": {
          "elapsed": 55,
          "status": "ok",
          "timestamp": 1746669848818,
          "user": {
            "displayName": "",
            "userId": ""
          },
          "user_tz": 420
        },
        "id": "3Zs-c_CRl9sR"
      },
      "outputs": [],
      "source": [
        "# Save a checkpoint directly to a directory.\n",
        "\n",
        "my_checkpoint_dir = epath.Path('/tmp/custom_checkpoint/my_checkpoint')\n",
        "my_checkpoint_dir.rmtree(missing_ok=True)\n",
        "\n",
        "with ocp_v0.StandardCheckpointer() as checkpointer:\n",
        "  checkpointer.save(my_checkpoint_dir, data)"
      ]
    },
    {
      "cell_type": "code",
      "execution_count": 44,
      "metadata": {
        "executionInfo": {
          "elapsed": 54,
          "status": "ok",
          "timestamp": 1746669859683,
          "user": {
            "displayName": "",
            "userId": ""
          },
          "user_tz": 420
        },
        "id": "jvxZCZQtmr_2",
        "outputId": "9153bde8-1588-4639-c307-75f12d9f4ca3"
      },
      "outputs": [
        {
          "name": "stdout",
          "output_type": "stream",
          "text": [
            "_CHECKPOINT_METADATA\n",
            "d\n",
            "descriptor\n",
            "manifest.ocdbt\n",
            "_METADATA\n",
            "ocdbt.process_0\n"
          ]
        }
      ],
      "source": [
        "!ls /tmp/custom_checkpoint/my_checkpoint"
      ]
    },
    {
      "cell_type": "markdown",
      "metadata": {
        "id": "VTCowqsjc9fK"
      },
      "source": [
        "An pytree checkpoint in the above layout can be loaded using `ocp.load_pytree(...)` function."
      ]
    },
    {
      "cell_type": "code",
      "execution_count": 46,
      "metadata": {
        "executionInfo": {
          "elapsed": 54,
          "status": "ok",
          "timestamp": 1746669874167,
          "user": {
            "displayName": "",
            "userId": ""
          },
          "user_tz": 420
        },
        "id": "y8VUQ6lLc9fK",
        "outputId": "21d6beb1-91be-4775-d538-f93dee5dee7d"
      },
      "outputs": [
        {
          "name": "stdout",
          "output_type": "stream",
          "text": [
            "loaded= {'params': array([1., 1.])}\n"
          ]
        }
      ],
      "source": [
        "# Load a pytree from a directory with no checkpointables.\n",
        "\n",
        "loaded = ocp.load_pytree(my_checkpoint_dir, checkpointable_name=None)\n",
        "# Use the loaded pytree.\n",
        "print('loaded=', loaded)"
      ]
    },
    {
      "cell_type": "markdown",
      "metadata": {
        "id": "f726laB4lK4Q"
      },
      "source": [
        "### Compatibility Matrix"
      ]
    },
    {
      "cell_type": "markdown",
      "metadata": {
        "id": "LCFONl_uFaw7"
      },
      "source": [
        "#### Loading pytree checkpoint with `load_pytree(...)`"
      ]
    },
    {
      "cell_type": "markdown",
      "metadata": {
        "id": "K-Br79sdlK4Q"
      },
      "source": [
        "| Restore API | Response\n",
        ":------- | :-------- |\n",
        "|ocp.load_pytree(`step_1234`)|Loads checkpointable under subdirectory, `pytree`|\n",
        "|ocp.load_pytree(`step_1234`, `checkpointable_name='pytree'`)|Loads checkpointable under subdirectory, `pytree`|\n",
        "|ocp.load_pytree(`step_1234`, `checkpointable_name='state'`)|Loads checkpointable under subdirectory, `state`|\n",
        "|ocp.load_pytree(`my_checkpoint`, `checkpointable_name=None`)|Loads checkpoint from `my_checkpoint`|"
      ]
    },
    {
      "cell_type": "markdown",
      "metadata": {
        "id": "sDLDmT4dwHEc"
      },
      "source": [
        "Following calls will lead to error.\n",
        "\n",
        "| Restore API | Response\n",
        ":------- | :-------- |\n",
        "|ocp.load_pytree(`root_dir`)|Error: expecting a subdir named `pytree`|\n",
        "|ocp.load_pytree(`root_dir`, `checkpointable_name='pytree'`)|Error: expecting a subdir named `pytree`|\n",
        "|ocp.load_pytree(`root_dir`, `checkpointable_name=None`)|Error: expecting pytree metadata file|\n",
        "|ocp.load_pytree(`step_1234`, `checkpointable_name=None`)|Error: expecting pytree metadata file|\n",
        "|ocp.load_pytree(`my_checkpoint`)|Error: expecting a subdir named `pytree`|\n",
        "|ocp.load_pytree(`my_checkpoint`, `checkpointable_name='pytree'`)|Error: expecting a subdir named `pytree`|"
      ]
    },
    {
      "cell_type": "markdown",
      "metadata": {
        "id": "35t78qAnI66H"
      },
      "source": [
        "#### Loading checkpointables with `load_checkpointables(...)`"
      ]
    },
    {
      "cell_type": "markdown",
      "metadata": {
        "id": "fYWAk7oeJ7PD"
      },
      "source": [
        "| Restore API | Response\n",
        ":------- | :-------- |\n",
        "|ocp.load_checkpointables(`step_1234`)|Loads all checkpointables from respective subdirs|\n",
        "|ocp.load_checkpointables(`step_1234`, `dict(state=abstract_tree, my_json_data=None)`)|Loads `state` and `my_json_data` checkpointables from respective subdirs|"
      ]
    },
    {
      "cell_type": "markdown",
      "metadata": {
        "id": "dKkX96LUw3X7"
      },
      "source": [
        "Following calls will lead to error.\n",
        "\n",
        "| Restore API | Response\n",
        ":------- | :-------- |\n",
        "|ocp.load_checkpointables(`root_dir`)|Error: suggesting to try a subdir instead|\n",
        "|ocp.load_checkpointables(`my_checkpoint`)|Error: suggesting to use load_pytree instead|\n",
        "|ocp.load_checkpointables(`root_dir`, `dict(state=abstract_tree, pytree=abstract_tree)`)|Error: suggesting to try a subdir instead|\n",
        "|ocp.load_checkpointables(`my_checkpoint`, `dict(state=abstract_tree, pytree=abstract_tree)`)|Error: suggesting to use load_pytree instead|\n"
      ]
    }
  ],
  "metadata": {
    "colab": {
      "provenance": []
    },
    "kernelspec": {
      "display_name": "Python 3",
      "name": "python3"
    },
    "language_info": {
      "name": "python"
    }
  },
  "nbformat": 4,
  "nbformat_minor": 0
}
