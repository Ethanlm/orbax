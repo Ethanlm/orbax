{
  "cells": [
    {
      "cell_type": "markdown",
      "metadata": {
        "id": "wULp4LYApA0M"
      },
      "source": [
        "# Orbax export work together with DTensor\n",
        "\n",
        "[DTensor](https://www.tensorflow.org/guide/dtensor_overview), an extension to TensorFlow for synchronous distributed computing, provides a global programming model that allows developers to compose applications that operate on Tensors globally while managing the distribution across devices internally.\n",
        "\n",
        "We can export JAX multi-host models to TF SavedModel using DTensor.\n"
      ]
    },
    {
      "cell_type": "markdown",
      "metadata": {
        "id": "zCPl9Zlgt9H-"
      },
      "source": [
        "## Setup\n",
        "\n",
        "Here we use CPU to emulate 8-core virtual cores for testing."
      ]
    },
    {
      "cell_type": "code",
      "execution_count": null,
      "metadata": {
        "id": "YskfCxXdwzgy"
      },
      "outputs": [],
      "source": [
        "# emulate the multi-core from the single CPU.\n",
        "import os\n",
        "flags = os.environ.get('XLA_FLAGS', '')\n",
        "os.environ['XLA_FLAGS'] = flags + \" --xla_force_host_platform_device_count=8\"\n",
        "print(os.environ['XLA_FLAGS'])"
      ]
    },
    {
      "cell_type": "code",
      "execution_count": null,
      "metadata": {
        "id": "N40ORLClt2O0"
      },
      "outputs": [],
      "source": [
        "import jax\n",
        "print(jax.devices())"
      ]
    },
    {
      "cell_type": "markdown",
      "metadata": {
        "id": "Vac44dMUD0fa"
      },
      "source": [
        "## Export sharded JAX model with [DTensor](https://www.tensorflow.org/guide/dtensor_overview)"
      ]
    },
    {
      "cell_type": "markdown",
      "metadata": {
        "id": "h5bvPV5CqS30"
      },
      "source": [
        "Here is the simple example demonstrate how to do. First, we need initializes accelerators and communication fabrics for DTensor."
      ]
    },
    {
      "cell_type": "code",
      "execution_count": null,
      "metadata": {
        "id": "aI2WF4ddqbxN"
      },
      "outputs": [],
      "source": [
        "from orbax.export import dtensor_utils\n",
        "if dtensor_utils.dtensor_initialized():\n",
        "  dtensor_utils.shutdown_dtensor()\n",
        "dtensor_utils.initialize_dtensor(reset_context=True)\n",
        "assert(dtensor_utils.dtensor_initialized())"
      ]
    },
    {
      "cell_type": "markdown",
      "metadata": {
        "id": "SHbMXeGRJ7hn"
      },
      "source": [
        "Define the JAX model function, model parameters and inputs."
      ]
    },
    {
      "cell_type": "code",
      "execution_count": null,
      "metadata": {
        "id": "YAhQA1IxuqXm"
      },
      "outputs": [],
      "source": [
        "import jax\n",
        "import jax.numpy as jnp\n",
        "dim_x = 16000\n",
        "dim_y = 8000\n",
        "batch = 1\n",
        "\n",
        "k1, k2, k3 = jax.random.split(jax.random.PRNGKey(0), 3)\n",
        "example3_params =  {\n",
        "    'w': jax.random.uniform(k1, (dim_x, dim_y)), 'b': jax.random.uniform(k2, (dim_y,))\n",
        "}\n",
        "example3_inputs = jax.random.uniform(k3, (batch, dim_x))\n",
        "\n",
        "# model f(x) = a * sin(x) + b * x + c, here (a, b, c) are model parameters\n",
        "def example3_model_fn(params, x):  # The JAX model function to export.\n",
        "  w, b = params['w'], params['b']\n",
        "  return jnp.matmul(x, w) + b"
      ]
    },
    {
      "cell_type": "markdown",
      "metadata": {
        "id": "gza7cBjzKNlq"
      },
      "source": [
        "Define the JAX sharding and create the sharding JAX array."
      ]
    },
    {
      "cell_type": "code",
      "execution_count": null,
      "metadata": {
        "id": "JF1UD14fKQtW"
      },
      "outputs": [],
      "source": [
        "import numpy as np\n",
        "from jax.sharding import PartitionSpec as P\n",
        "from jax.experimental import pjit\n",
        "\n",
        "mesh_shape = (1, 8)\n",
        "devices = np.asarray(jax.devices()).reshape(*mesh_shape)\n",
        "mesh = jax.sharding.Mesh(devices, ('x', 'y'))\n",
        "params_pspecs = {'w': P('x', 'y'), 'b': P('y')}\n",
        "\n",
        "sharded_params = {}\n",
        "sharded_params['w'] = jax.device_put(example3_params['w'], jax.sharding.NamedSharding(mesh, params_pspecs['w']))\n",
        "sharded_params['b'] = jax.device_put(example3_params['b'], jax.sharding.NamedSharding(mesh, params_pspecs['b']))\n",
        "\n",
        "sharded_inputs = jax.device_put(example3_inputs, jax.sharding.NamedSharding(mesh, None))\n",
        "\n",
        "sharded_model_fn = pjit.pjit(example3_model_fn, in_shardings=(params_pspecs, None), out_shardings=None)"
      ]
    },
    {
      "cell_type": "markdown",
      "metadata": {
        "id": "i_ZFuDxdLsKC"
      },
      "source": [
        "Here we use orbax export and DTensor API export the tf.SavedModel."
      ]
    },
    {
      "cell_type": "code",
      "execution_count": null,
      "metadata": {
        "id": "9NfjSIWGjQfH"
      },
      "outputs": [],
      "source": [
        "import tempfile\n",
        "import tensorflow as tf\n",
        "from orbax.export.validate import ValidationManager\n",
        "from orbax.export import ExportManager\n",
        "from orbax import export as obx_export\n",
        "from orbax.export import JaxModule\n",
        "from orbax.export import ServingConfig\n",
        "\n",
        "export_dir =  tempfile.mkdtemp()\n",
        "\n",
        "with mesh, dtensor_utils.maybe_enable_dtensor_export_on(mesh):\n",
        "  jax_module = JaxModule(sharded_params, sharded_model_fn, pspecs=params_pspecs)\n",
        "\n",
        "  serving_configs = [\n",
        "    ServingConfig(\n",
        "      'serving_default',\n",
        "      input_signature= [tf.TensorSpec(shape=[batch, dim_x], dtype=tf.float32, name='x')],\n",
        "    ),\n",
        "  ]\n",
        "  export_mgr = ExportManager(jax_module, serving_configs)\n",
        "  export_mgr.save(export_dir)"
      ]
    },
    {
      "cell_type": "code",
      "execution_count": null,
      "metadata": {
        "id": "WmZSzYdFdgqk"
      },
      "outputs": [],
      "source": [
        "loaded_model = tf.saved_model.load(export_dir)"
      ]
    },
    {
      "cell_type": "code",
      "execution_count": null,
      "metadata": {
        "id": "Vm4yWYEbeEQi"
      },
      "outputs": [],
      "source": [
        "tf_inputs = tf.convert_to_tensor(example3_inputs)"
      ]
    },
    {
      "cell_type": "code",
      "execution_count": null,
      "metadata": {
        "id": "7mbj_BlzO-2X"
      },
      "outputs": [],
      "source": [
        "loaded_model(tf_inputs)"
      ]
    },
    {
      "cell_type": "code",
      "execution_count": null,
      "metadata": {
        "id": "NWjancnD337p"
      },
      "outputs": [],
      "source": []
    }
  ],
  "metadata": {
    "colab": {
      "last_runtime": {
        "build_target": "//third_party/py/jaxonnxruntime:jort_ml_notebook",
        "kind": "private"
      },
      "private_outputs": true,
      "provenance": [
        {
          "file_id": "1QNxBBBN16Br9Xj-a7LvtJzJWjOBhjFps",
          "timestamp": 1686159333109
        }
      ]
    },
    "kernelspec": {
      "display_name": "Python 3",
      "name": "python3"
    },
    "language_info": {
      "name": "python"
    }
  },
  "nbformat": 4,
  "nbformat_minor": 0
}
