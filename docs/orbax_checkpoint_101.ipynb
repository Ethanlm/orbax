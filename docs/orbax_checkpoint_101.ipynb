{
  "cells": [
    {
      "cell_type": "markdown",
      "metadata": {
        "id": "GYCcRRZas1PS"
      },
      "source": [
        "# Checkpointing with Orbax"
      ]
    },
    {
      "cell_type": "markdown",
      "metadata": {
        "id": "_-dvMEjPw5fl"
      },
      "source": [
        "## A Simple Recipe"
      ]
    },
    {
      "cell_type": "markdown",
      "metadata": {
        "id": "VyfEdKvwswys"
      },
      "source": [
        "The following example shows how you can synchronously save and restore a PyTree.\n",
        "\n"
      ]
    },
    {
      "cell_type": "code",
      "execution_count": null,
      "metadata": {
        "id": "NDPLLgWQtLSL"
      },
      "outputs": [],
      "source": [
        "from etils import epath\n",
        "import orbax.checkpoint as ocp\n",
        "import numpy as np"
      ]
    },
    {
      "cell_type": "markdown",
      "metadata": {
        "id": "TUmW2-ynt8Uh"
      },
      "source": [
        "Ensure that the top-level directory already exists before saving."
      ]
    },
    {
      "cell_type": "code",
      "execution_count": null,
      "metadata": {
        "id": "dC3IOhlEt7ne"
      },
      "outputs": [],
      "source": [
        "path = epath.Path('/tmp/my-checkpoints/')\n",
        "if path.exists():\n",
        "  path.rmtree()\n",
        "path.mkdir()"
      ]
    },
    {
      "cell_type": "markdown",
      "metadata": {
        "id": "LAFJDHPLuN7V"
      },
      "source": [
        "Create a basic [PyTree](https://jax.readthedocs.io/en/latest/pytrees.html). This is simply a nested tree-like structure, which can include dicts, lists, or more complicated objects. For the leaves of the tree, Orbax is capable of handling many different types. For our purposes, we will simply use a nested dict of some simple arrays.\n"
      ]
    },
    {
      "cell_type": "code",
      "execution_count": null,
      "metadata": {
        "id": "d4CzPwbiuEKq"
      },
      "outputs": [],
      "source": [
        "my_tree = {\n",
        "    'a': np.arange(8),\n",
        "    'b': {\n",
        "        'c': 42,\n",
        "        'd': np.arange(16),\n",
        "    }\n",
        "}"
      ]
    },
    {
      "cell_type": "markdown",
      "metadata": {
        "id": "ZcjGuIwdvZzF"
      },
      "source": [
        "To save and restore, we create a `Checkpointer` object. The `Checkpointer` must be constructed with a `CheckpointHandler` - essentially as a configuration providing the `Checkpointer` with the logic needed to save and restore your object.\n",
        "\n",
        "For PyTrees, the most common checkpointable object, we can use the convenient shorthand of `PyTreeCheckpointer`, which is the same as `Checkpointer(PyTreeCheckpointHandler())`"
      ]
    },
    {
      "cell_type": "code",
      "execution_count": null,
      "metadata": {
        "executionInfo": {
          "elapsed": 7268,
          "status": "ok",
          "timestamp": 1686157742116,
          "user": {
            "displayName": "Colin Gaffney",
            "userId": "07059701413830988300"
          },
          "user_tz": 420
        },
        "id": "UmE--WLDskhL",
        "outputId": "95324543-a722-4bf9-9502-e8fd0e2c72f4"
      },
      "outputs": [
        {
          "data": {
            "text/plain": [
              "{'a': array([0, 1, 2, 3, 4, 5, 6, 7]),\n",
              " 'b': {'c': array(42),\n",
              "  'd': array([ 0,  1,  2,  3,  4,  5,  6,  7,  8,  9, 10, 11, 12, 13, 14, 15])}}"
            ]
          },
          "execution_count": 4,
          "metadata": {},
          "output_type": "execute_result"
        }
      ],
      "source": [
        "checkpointer = ocp.PyTreeCheckpointer()\n",
        "# 'checkpoint_name' must not already exist.\n",
        "checkpointer.save(path / 'checkpoint_name', my_tree)\n",
        "checkpointer.restore(path / 'checkpoint_name/')"
      ]
    },
    {
      "cell_type": "markdown",
      "metadata": {
        "id": "VBvlI59iwaq8"
      },
      "source": [
        "We can manually inspect the checkpoint files output by the save operation. Each parameter is stored as a separate directory. A final `checkpoint` file is produced which stores the structure of the PyTree. This file can also store actual parameter values, if so configured."
      ]
    },
    {
      "cell_type": "code",
      "execution_count": null,
      "metadata": {
        "executionInfo": {
          "elapsed": 1,
          "status": "ok",
          "timestamp": 1686157742234,
          "user": {
            "displayName": "Colin Gaffney",
            "userId": "07059701413830988300"
          },
          "user_tz": 420
        },
        "id": "fyKD273pwMJu",
        "outputId": "6aac35e0-133b-46b7-b427-58a8de0c3038"
      },
      "outputs": [
        {
          "data": {
            "text/plain": [
              "['/tmp/checkpoint/checkpoint_name/a',\n",
              " '/tmp/checkpoint/checkpoint_name/b.c',\n",
              " '/tmp/checkpoint/checkpoint_name/b.d',\n",
              " '/tmp/checkpoint/checkpoint_name/checkpoint']"
            ]
          },
          "execution_count": 5,
          "metadata": {},
          "output_type": "execute_result"
        }
      ],
      "source": [
        "[str(f) for f in (path / 'checkpoint_name').iterdir()]"
      ]
    },
    {
      "cell_type": "markdown",
      "metadata": {
        "id": "RK2PmRAow8Ty"
      },
      "source": [
        "## Managing Checkpoints"
      ]
    },
    {
      "cell_type": "markdown",
      "metadata": {
        "id": "sYxNt2Zrw_Yt"
      },
      "source": [
        "Sometimes, you may have multiple different objects that you want to checkpoint. You may also wish to benefit from more high-level management logic to keep track of your checkpoints while training progresses."
      ]
    },
    {
      "cell_type": "code",
      "execution_count": null,
      "metadata": {
        "id": "d3DSYn5_ynhi"
      },
      "outputs": [],
      "source": [
        "path = epath.Path('/tmp/checkpoint_manager')\n",
        "state = {\n",
        "  'a': np.arange(8),\n",
        "  'b': np.arange(16),\n",
        "}\n",
        "extra_params = [42, 43]"
      ]
    },
    {
      "cell_type": "code",
      "execution_count": null,
      "metadata": {
        "id": "kWKXe6vCx3O9"
      },
      "outputs": [],
      "source": [
        "# Keeps a maximum of 3 checkpoints, and only saves every other step.\n",
        "options = ocp.CheckpointManagerOptions(\n",
        "    max_to_keep=3,\n",
        "    save_interval_steps=2\n",
        ")\n",
        "mngr = ocp.CheckpointManager(\n",
        "    path,\n",
        "    {\n",
        "        'state': ocp.PyTreeCheckpointer(), \n",
        "        'extra_params': ocp.PyTreeCheckpointer()\n",
        "    },\n",
        "    options=options)\n",
        "\n",
        "for step in range(11):  # [0, 1, ..., 10]\n",
        "  mngr.save(step, {'state': state, 'extra_params': extra_params})\n",
        "restored = mngr.restore(10)\n",
        "restored_state, restored_extra_params = restored['state'], restored['extra_params']"
      ]
    },
    {
      "cell_type": "code",
      "execution_count": null,
      "metadata": {
        "executionInfo": {
          "elapsed": 3,
          "status": "ok",
          "timestamp": 1686157742939,
          "user": {
            "displayName": "Colin Gaffney",
            "userId": "07059701413830988300"
          },
          "user_tz": 420
        },
        "id": "q5NkveVgysr9",
        "outputId": "8e0ed01e-2078-4055-e3e0-f3e884632909"
      },
      "outputs": [
        {
          "data": {
            "text/plain": [
              "[6, 8, 10]"
            ]
          },
          "execution_count": 8,
          "metadata": {},
          "output_type": "execute_result"
        }
      ],
      "source": [
        "mngr.all_steps()"
      ]
    },
    {
      "cell_type": "code",
      "execution_count": null,
      "metadata": {
        "executionInfo": {
          "elapsed": 2,
          "status": "ok",
          "timestamp": 1686157743083,
          "user": {
            "displayName": "Colin Gaffney",
            "userId": "07059701413830988300"
          },
          "user_tz": 420
        },
        "id": "dPTf7D2pyva4",
        "outputId": "225236b4-4c20-4797-c636-50b63d3a9fa7"
      },
      "outputs": [
        {
          "data": {
            "text/plain": [
              "10"
            ]
          },
          "execution_count": 9,
          "metadata": {},
          "output_type": "execute_result"
        }
      ],
      "source": [
        "mngr.latest_step()"
      ]
    },
    {
      "cell_type": "code",
      "execution_count": null,
      "metadata": {
        "executionInfo": {
          "elapsed": 2,
          "status": "ok",
          "timestamp": 1686157743322,
          "user": {
            "displayName": "Colin Gaffney",
            "userId": "07059701413830988300"
          },
          "user_tz": 420
        },
        "id": "vU7nsnC-ywDs",
        "outputId": "c7e93953-07c4-4503-aeac-8558c996258c"
      },
      "outputs": [
        {
          "data": {
            "text/plain": [
              "False"
            ]
          },
          "execution_count": 10,
          "metadata": {},
          "output_type": "execute_result"
        }
      ],
      "source": [
        "mngr.should_save(11)"
      ]
    },
    {
      "cell_type": "markdown",
      "metadata": {
        "id": "t3trISVvzasj"
      },
      "source": [
        "## A Standard Recipe"
      ]
    },
    {
      "cell_type": "markdown",
      "metadata": {
        "id": "6kIBdZZgzc0R"
      },
      "source": [
        "In most cases, users will wish to save and restore a PyTree representing a model state over the course of many training steps. Many users will also wish to do this is a multi-host, multi-device environment."
      ]
    },
    {
      "cell_type": "markdown",
      "metadata": {
        "id": "CiYSn5nEzly-"
      },
      "source": [
        "First, we will create a PyTree state with sharded `jax.Array` as leaves."
      ]
    },
    {
      "cell_type": "code",
      "execution_count": null,
      "metadata": {
        "executionInfo": {
          "elapsed": 78,
          "status": "ok",
          "timestamp": 1686158594850,
          "user": {
            "displayName": "Colin Gaffney",
            "userId": "07059701413830988300"
          },
          "user_tz": 420
        },
        "id": "kbdURa01zvVy",
        "outputId": "a42fa377-fe5b-45a6-e729-a1734535577a"
      },
      "outputs": [
        {
          "data": {
            "text/plain": [
              "{'a': NamedSharding(mesh={'model': 8}, spec=PartitionSpec('model',)),\n",
              " 'b': NamedSharding(mesh={'model': 8}, spec=PartitionSpec('model',))}"
            ]
          },
          "execution_count": 33,
          "metadata": {},
          "output_type": "execute_result"
        }
      ],
      "source": [
        "import jax\n",
        "\n",
        "path = epath.Path('/tmp/checkpoint_manager_sharded')\n",
        "\n",
        "sharding = jax.sharding.NamedSharding(\n",
        "    jax.sharding.Mesh(jax.devices(), ('model',)),\n",
        "    jax.sharding.PartitionSpec('model',)\n",
        ")\n",
        "create_sharded_array = lambda x: jax.device_put(x, sharding)\n",
        "train_state = {\n",
        "    'a': np.arange(16),\n",
        "    'b': np.ones(16),\n",
        "}\n",
        "train_state = jax.tree_map(create_sharded_array, train_state)\n",
        "jax.tree_util.tree_map(lambda x: x.sharding, train_state)"
      ]
    },
    {
      "cell_type": "code",
      "execution_count": null,
      "metadata": {
        "id": "qwhFWzvLzg5b"
      },
      "outputs": [],
      "source": [
        "num_steps = 10\n",
        "options = ocp.CheckpointManagerOptions(\n",
        "    max_to_keep=3,\n",
        "    save_interval_steps=2\n",
        ")\n",
        "mngr = ocp.CheckpointManager(\n",
        "    path, \n",
        "    ocp.PyTreeCheckpointer(), \n",
        "    options=options\n",
        ")\n",
        "\n",
        "@jax.jit\n",
        "def train_fn(state):\n",
        "  return jax.tree_util.tree_map(lambda x: x + 1, state)\n",
        "\n",
        "for step in range(num_steps):\n",
        "  train_state = train_fn(train_state)\n",
        "  mngr.save(step, train_state)"
      ]
    },
    {
      "cell_type": "code",
      "execution_count": null,
      "metadata": {
        "executionInfo": {
          "elapsed": 52,
          "status": "ok",
          "timestamp": 1686158595492,
          "user": {
            "displayName": "Colin Gaffney",
            "userId": "07059701413830988300"
          },
          "user_tz": 420
        },
        "id": "sZOLdSHj3DqI",
        "outputId": "df73f678-8f5a-4357-c988-8fda22863cab"
      },
      "outputs": [
        {
          "data": {
            "text/plain": [
              "{'a': array([ 9, 10, 11, 12, 13, 14, 15, 16, 17, 18, 19, 20, 21, 22, 23, 24],\n",
              "       dtype=int32),\n",
              " 'b': array([10., 10., 10., 10., 10., 10., 10., 10., 10., 10., 10., 10., 10.,\n",
              "        10., 10., 10.], dtype=float32)}"
            ]
          },
          "execution_count": 35,
          "metadata": {},
          "output_type": "execute_result"
        }
      ],
      "source": [
        "mngr.restore(mngr.latest_step())"
      ]
    },
    {
      "cell_type": "markdown",
      "metadata": {
        "id": "Q5bT61h-2LiQ"
      },
      "source": [
        "Let's imagine now that we are starting a new training run, and would like to restore the checkpoint previously saved. In this case, we only know the tree structure of the checkpoint, and not the actual array values. We would also like to load the arrays with different sharding constraints than how they were originally saved."
      ]
    },
    {
      "cell_type": "code",
      "execution_count": null,
      "metadata": {
        "id": "WEo_AE_k06S1"
      },
      "outputs": [],
      "source": [
        "train_state = jax.tree_util.tree_map(np.zeros_like, train_state)\n",
        "sharding = jax.sharding.NamedSharding(\n",
        "    jax.sharding.Mesh(jax.devices(), ('model',)),\n",
        "    jax.sharding.PartitionSpec(None,)\n",
        ")\n",
        "create_sharded_array = lambda x: jax.device_put(x, sharding)\n",
        "train_state = jax.tree_util.tree_map(create_sharded_array, train_state)"
      ]
    },
    {
      "cell_type": "markdown",
      "metadata": {
        "id": "XVmkVuMK7GuG"
      },
      "source": [
        "Construct arguments needed for restoration."
      ]
    },
    {
      "cell_type": "code",
      "execution_count": null,
      "metadata": {
        "executionInfo": {
          "elapsed": 2,
          "status": "ok",
          "timestamp": 1686159252388,
          "user": {
            "displayName": "Colin Gaffney",
            "userId": "07059701413830988300"
          },
          "user_tz": 420
        },
        "id": "ZJhmmD0G7FGg",
        "outputId": "4bfcee0a-5d0a-47fd-dae5-e93c29dd89fe"
      },
      "outputs": [
        {
          "data": {
            "text/plain": [
              "{'a': ArrayRestoreArgs(lazy=False, restore_type=\u003cclass '....ArrayImpl'\u003e, dtype=dtype('int32'), mesh=None, mesh_axes=None, sharding=NamedSharding(mesh={'model': 8}, spec=PartitionSpec(None,)), global_shape=(16,)),\n",
              " 'b': ArrayRestoreArgs(lazy=False, restore_type=\u003cclass '....ArrayImpl'\u003e, dtype=dtype('float32'), mesh=None, mesh_axes=None, sharding=NamedSharding(mesh={'model': 8}, spec=PartitionSpec(None,)), global_shape=(16,))}"
            ]
          },
          "execution_count": 47,
          "metadata": {},
          "output_type": "execute_result"
        }
      ],
      "source": [
        "shardings = jax.tree_map(lambda x: x.sharding, train_state)\n",
        "restore_args = ocp.checkpoint_utils.construct_restore_args(\n",
        "    train_state, shardings)\n",
        "restore_args"
      ]
    },
    {
      "cell_type": "markdown",
      "metadata": {
        "id": "9-8TmJu67Kr_"
      },
      "source": [
        "Alternatively, the arguments can be constructed manually for fine-grained control."
      ]
    },
    {
      "cell_type": "code",
      "execution_count": null,
      "metadata": {
        "id": "lY5BIAri4CbA"
      },
      "outputs": [],
      "source": [
        "directly_constructed_restore_args = jax.tree_util.tree_map(\n",
        "  lambda x: ocp.ArrayRestoreArgs(\n",
        "      # Restore as object. Could also be np.ndarray, int, or others.\n",
        "      restore_type=jax.Array,\n",
        "      # Cast the restored array to a specific dtype.\n",
        "      dtype=np.float32,\n",
        "      sharding=x.sharding,\n",
        "      # Padding or truncation may occur. Ensure that the shape matches the\n",
        "      # saved shape!\n",
        "      global_shape=x.shape,\n",
        "  ),\n",
        "  train_state)"
      ]
    },
    {
      "cell_type": "code",
      "execution_count": null,
      "metadata": {
        "id": "695TeDGW4OQi"
      },
      "outputs": [],
      "source": [
        "restored = mngr.restore(\n",
        "    mngr.latest_step(), \n",
        "    items=train_state,\n",
        "    restore_kwargs={'restore_args': restore_args},\n",
        ")"
      ]
    },
    {
      "cell_type": "code",
      "execution_count": null,
      "metadata": {
        "executionInfo": {
          "elapsed": 2,
          "status": "ok",
          "timestamp": 1686158654948,
          "user": {
            "displayName": "Colin Gaffney",
            "userId": "07059701413830988300"
          },
          "user_tz": 420
        },
        "id": "axUVKyvz4tJn",
        "outputId": "cf908f9c-7a25-4e44-f5d5-c47b8f61aa4c"
      },
      "outputs": [
        {
          "data": {
            "text/plain": [
              "{'a': Array([ 9, 10, 11, 12, 13, 14, 15, 16, 17, 18, 19, 20, 21, 22, 23, 24],      dtype=int32),\n",
              " 'b': Array([10., 10., 10., 10., 10., 10., 10., 10., 10., 10., 10., 10., 10.,\n",
              "        10., 10., 10.], dtype=float32)}"
            ]
          },
          "execution_count": 44,
          "metadata": {},
          "output_type": "execute_result"
        }
      ],
      "source": [
        "restored"
      ]
    },
    {
      "cell_type": "code",
      "execution_count": null,
      "metadata": {
        "executionInfo": {
          "elapsed": 58,
          "status": "ok",
          "timestamp": 1686158656068,
          "user": {
            "displayName": "Colin Gaffney",
            "userId": "07059701413830988300"
          },
          "user_tz": 420
        },
        "id": "MpWx0PG24t28",
        "outputId": "c175afe6-ace1-49fe-ebac-f14aae4d80b6"
      },
      "outputs": [
        {
          "data": {
            "text/plain": [
              "{'a': NamedSharding(mesh={'model': 8}, spec=PartitionSpec(None,)),\n",
              " 'b': NamedSharding(mesh={'model': 8}, spec=PartitionSpec(None,))}"
            ]
          },
          "execution_count": 45,
          "metadata": {},
          "output_type": "execute_result"
        }
      ],
      "source": [
        "jax.tree_util.tree_map(lambda x: x.sharding, restored)"
      ]
    }
  ],
  "metadata": {
    "colab": {
      "last_runtime": {
        "build_target": "//learning/grp/tools/ml_python:ml_notebook",
        "kind": "private"
      },
      "provenance": [
        {
          "file_id": "1QNxBBBN16Br9Xj-a7LvtJzJWjOBhjFps",
          "timestamp": 1686159333109
        }
      ]
    },
    "kernelspec": {
      "display_name": "Python 3",
      "name": "python3"
    },
    "language_info": {
      "name": "python"
    }
  },
  "nbformat": 4,
  "nbformat_minor": 0
}
