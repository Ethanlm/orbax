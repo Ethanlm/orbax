{
  "nbformat": 4,
  "nbformat_minor": 0,
  "metadata": {
    "colab": {
      "name": "orbax.checkpoint.ipynb",
      "provenance": [],
      "authorship_tag": "ABX9TyMcb//42M6+sPZ8kkzIoq4O",
      "include_colab_link": true
    },
    "kernelspec": {
      "name": "python3",
      "display_name": "Python 3"
    },
    "language_info": {
      "name": "python"
    }
  },
  "cells": [
    {
      "cell_type": "markdown",
      "metadata": {
        "id": "view-in-github",
        "colab_type": "text"
      },
      "source": [
        "<a href=\"https://colab.research.google.com/github/google/orbax/blob/main/orbax.checkpoint.ipynb\" target=\"_parent\"><img src=\"https://colab.research.google.com/assets/colab-badge.svg\" alt=\"Open In Colab\"/></a>"
      ]
    },
    {
      "cell_type": "markdown",
      "source": [
        "<a href=\"https://colab.research.google.com/github/google/CommonLoopUtils/blob/master/clu_synopsis.ipynb\" ><img src=\"https://colab.research.google.com/assets/colab-badge.svg\" alt=\"Open In Colab\"/></a>"
      ],
      "metadata": {
        "id": "cHNXMEaDbfuB"
      }
    },
    {
      "cell_type": "code",
      "execution_count": 1,
      "metadata": {
        "colab": {
          "base_uri": "https://localhost:8080/"
        },
        "id": "dM9A2zDKX1G4",
        "outputId": "349b8ebd-6a0c-40f0-a03d-045e124187fc"
      },
      "outputs": [
        {
          "output_type": "stream",
          "name": "stdout",
          "text": [
            "Looking in indexes: https://pypi.org/simple, https://us-python.pkg.dev/colab-wheels/public/simple/\n",
            "Collecting orbax\n",
            "  Downloading orbax-0.0.3-py3-none-any.whl (43 kB)\n",
            "\u001b[K     |████████████████████████████████| 43 kB 1.2 MB/s \n",
            "\u001b[?25hRequirement already satisfied: absl-py in /usr/local/lib/python3.7/dist-packages (from orbax) (1.1.0)\n",
            "Requirement already satisfied: jaxlib in /usr/local/lib/python3.7/dist-packages (from orbax) (0.3.14+cuda11.cudnn805)\n",
            "Collecting dataclasses\n",
            "  Downloading dataclasses-0.6-py3-none-any.whl (14 kB)\n",
            "Requirement already satisfied: numpy in /usr/local/lib/python3.7/dist-packages (from orbax) (1.21.6)\n",
            "Requirement already satisfied: jax in /usr/local/lib/python3.7/dist-packages (from orbax) (0.3.14)\n",
            "Requirement already satisfied: pyyaml in /usr/local/lib/python3.7/dist-packages (from orbax) (3.13)\n",
            "Requirement already satisfied: cached-property in /usr/local/lib/python3.7/dist-packages (from orbax) (1.5.2)\n",
            "Collecting flax\n",
            "  Downloading flax-0.5.2-py3-none-any.whl (197 kB)\n",
            "\u001b[K     |████████████████████████████████| 197 kB 17.9 MB/s \n",
            "\u001b[?25hRequirement already satisfied: tensorflow in /usr/local/lib/python3.7/dist-packages (from orbax) (2.8.2+zzzcolab20220527125636)\n",
            "Collecting tensorstore>=0.1.20\n",
            "  Downloading tensorstore-0.1.21-cp37-cp37m-manylinux_2_17_x86_64.manylinux2014_x86_64.whl (9.1 MB)\n",
            "\u001b[K     |████████████████████████████████| 9.1 MB 45.1 MB/s \n",
            "\u001b[?25hRequirement already satisfied: matplotlib in /usr/local/lib/python3.7/dist-packages (from flax->orbax) (3.2.2)\n",
            "Collecting rich~=11.1\n",
            "  Downloading rich-11.2.0-py3-none-any.whl (217 kB)\n",
            "\u001b[K     |████████████████████████████████| 217 kB 67.4 MB/s \n",
            "\u001b[?25hRequirement already satisfied: typing-extensions>=4.1.1 in /usr/local/lib/python3.7/dist-packages (from flax->orbax) (4.1.1)\n",
            "Collecting pyyaml\n",
            "  Downloading PyYAML-6.0-cp37-cp37m-manylinux_2_5_x86_64.manylinux1_x86_64.manylinux_2_12_x86_64.manylinux2010_x86_64.whl (596 kB)\n",
            "\u001b[K     |████████████████████████████████| 596 kB 57.3 MB/s \n",
            "\u001b[?25hCollecting optax\n",
            "  Downloading optax-0.1.3-py3-none-any.whl (145 kB)\n",
            "\u001b[K     |████████████████████████████████| 145 kB 54.4 MB/s \n",
            "\u001b[?25hRequirement already satisfied: msgpack in /usr/local/lib/python3.7/dist-packages (from flax->orbax) (1.0.4)\n",
            "Requirement already satisfied: etils[epath] in /usr/local/lib/python3.7/dist-packages (from jax->orbax) (0.6.0)\n",
            "Requirement already satisfied: opt-einsum in /usr/local/lib/python3.7/dist-packages (from jax->orbax) (3.3.0)\n",
            "Requirement already satisfied: scipy>=1.5 in /usr/local/lib/python3.7/dist-packages (from jax->orbax) (1.7.3)\n",
            "Collecting colorama<0.5.0,>=0.4.0\n",
            "  Downloading colorama-0.4.5-py2.py3-none-any.whl (16 kB)\n",
            "Collecting commonmark<0.10.0,>=0.9.0\n",
            "  Downloading commonmark-0.9.1-py2.py3-none-any.whl (51 kB)\n",
            "\u001b[K     |████████████████████████████████| 51 kB 7.6 MB/s \n",
            "\u001b[?25hRequirement already satisfied: pygments<3.0.0,>=2.6.0 in /usr/local/lib/python3.7/dist-packages (from rich~=11.1->flax->orbax) (2.6.1)\n",
            "Requirement already satisfied: zipp in /usr/local/lib/python3.7/dist-packages (from etils[epath]->jax->orbax) (3.8.0)\n",
            "Requirement already satisfied: importlib_resources in /usr/local/lib/python3.7/dist-packages (from etils[epath]->jax->orbax) (5.8.0)\n",
            "Requirement already satisfied: flatbuffers<3.0,>=1.12 in /usr/local/lib/python3.7/dist-packages (from jaxlib->orbax) (2.0)\n",
            "Requirement already satisfied: cycler>=0.10 in /usr/local/lib/python3.7/dist-packages (from matplotlib->flax->orbax) (0.11.0)\n",
            "Requirement already satisfied: kiwisolver>=1.0.1 in /usr/local/lib/python3.7/dist-packages (from matplotlib->flax->orbax) (1.4.3)\n",
            "Requirement already satisfied: pyparsing!=2.0.4,!=2.1.2,!=2.1.6,>=2.0.1 in /usr/local/lib/python3.7/dist-packages (from matplotlib->flax->orbax) (3.0.9)\n",
            "Requirement already satisfied: python-dateutil>=2.1 in /usr/local/lib/python3.7/dist-packages (from matplotlib->flax->orbax) (2.8.2)\n",
            "Requirement already satisfied: six>=1.5 in /usr/local/lib/python3.7/dist-packages (from python-dateutil>=2.1->matplotlib->flax->orbax) (1.15.0)\n",
            "Collecting chex>=0.0.4\n",
            "  Downloading chex-0.1.3-py3-none-any.whl (72 kB)\n",
            "\u001b[K     |████████████████████████████████| 72 kB 621 kB/s \n",
            "\u001b[?25hRequirement already satisfied: toolz>=0.9.0 in /usr/local/lib/python3.7/dist-packages (from chex>=0.0.4->optax->flax->orbax) (0.12.0)\n",
            "Requirement already satisfied: dm-tree>=0.1.5 in /usr/local/lib/python3.7/dist-packages (from chex>=0.0.4->optax->flax->orbax) (0.1.7)\n",
            "Requirement already satisfied: tensorboard<2.9,>=2.8 in /usr/local/lib/python3.7/dist-packages (from tensorflow->orbax) (2.8.0)\n",
            "Requirement already satisfied: tensorflow-io-gcs-filesystem>=0.23.1 in /usr/local/lib/python3.7/dist-packages (from tensorflow->orbax) (0.26.0)\n",
            "Requirement already satisfied: grpcio<2.0,>=1.24.3 in /usr/local/lib/python3.7/dist-packages (from tensorflow->orbax) (1.47.0)\n",
            "Requirement already satisfied: termcolor>=1.1.0 in /usr/local/lib/python3.7/dist-packages (from tensorflow->orbax) (1.1.0)\n",
            "Requirement already satisfied: gast>=0.2.1 in /usr/local/lib/python3.7/dist-packages (from tensorflow->orbax) (0.5.3)\n",
            "Requirement already satisfied: tensorflow-estimator<2.9,>=2.8 in /usr/local/lib/python3.7/dist-packages (from tensorflow->orbax) (2.8.0)\n",
            "Requirement already satisfied: astunparse>=1.6.0 in /usr/local/lib/python3.7/dist-packages (from tensorflow->orbax) (1.6.3)\n",
            "Requirement already satisfied: libclang>=9.0.1 in /usr/local/lib/python3.7/dist-packages (from tensorflow->orbax) (14.0.1)\n",
            "Requirement already satisfied: google-pasta>=0.1.1 in /usr/local/lib/python3.7/dist-packages (from tensorflow->orbax) (0.2.0)\n",
            "Requirement already satisfied: h5py>=2.9.0 in /usr/local/lib/python3.7/dist-packages (from tensorflow->orbax) (3.1.0)\n",
            "Requirement already satisfied: wrapt>=1.11.0 in /usr/local/lib/python3.7/dist-packages (from tensorflow->orbax) (1.14.1)\n",
            "Requirement already satisfied: keras-preprocessing>=1.1.1 in /usr/local/lib/python3.7/dist-packages (from tensorflow->orbax) (1.1.2)\n",
            "Requirement already satisfied: setuptools in /usr/local/lib/python3.7/dist-packages (from tensorflow->orbax) (57.4.0)\n",
            "Requirement already satisfied: keras<2.9,>=2.8.0rc0 in /usr/local/lib/python3.7/dist-packages (from tensorflow->orbax) (2.8.0)\n",
            "Requirement already satisfied: protobuf<3.20,>=3.9.2 in /usr/local/lib/python3.7/dist-packages (from tensorflow->orbax) (3.17.3)\n",
            "Requirement already satisfied: wheel<1.0,>=0.23.0 in /usr/local/lib/python3.7/dist-packages (from astunparse>=1.6.0->tensorflow->orbax) (0.37.1)\n",
            "Requirement already satisfied: tensorboard-data-server<0.7.0,>=0.6.0 in /usr/local/lib/python3.7/dist-packages (from tensorboard<2.9,>=2.8->tensorflow->orbax) (0.6.1)\n",
            "Requirement already satisfied: requests<3,>=2.21.0 in /usr/local/lib/python3.7/dist-packages (from tensorboard<2.9,>=2.8->tensorflow->orbax) (2.23.0)\n",
            "Requirement already satisfied: tensorboard-plugin-wit>=1.6.0 in /usr/local/lib/python3.7/dist-packages (from tensorboard<2.9,>=2.8->tensorflow->orbax) (1.8.1)\n",
            "Requirement already satisfied: google-auth<3,>=1.6.3 in /usr/local/lib/python3.7/dist-packages (from tensorboard<2.9,>=2.8->tensorflow->orbax) (1.35.0)\n",
            "Requirement already satisfied: markdown>=2.6.8 in /usr/local/lib/python3.7/dist-packages (from tensorboard<2.9,>=2.8->tensorflow->orbax) (3.3.7)\n",
            "Requirement already satisfied: werkzeug>=0.11.15 in /usr/local/lib/python3.7/dist-packages (from tensorboard<2.9,>=2.8->tensorflow->orbax) (1.0.1)\n",
            "Requirement already satisfied: google-auth-oauthlib<0.5,>=0.4.1 in /usr/local/lib/python3.7/dist-packages (from tensorboard<2.9,>=2.8->tensorflow->orbax) (0.4.6)\n",
            "Requirement already satisfied: cachetools<5.0,>=2.0.0 in /usr/local/lib/python3.7/dist-packages (from google-auth<3,>=1.6.3->tensorboard<2.9,>=2.8->tensorflow->orbax) (4.2.4)\n",
            "Requirement already satisfied: rsa<5,>=3.1.4 in /usr/local/lib/python3.7/dist-packages (from google-auth<3,>=1.6.3->tensorboard<2.9,>=2.8->tensorflow->orbax) (4.8)\n",
            "Requirement already satisfied: pyasn1-modules>=0.2.1 in /usr/local/lib/python3.7/dist-packages (from google-auth<3,>=1.6.3->tensorboard<2.9,>=2.8->tensorflow->orbax) (0.2.8)\n",
            "Requirement already satisfied: requests-oauthlib>=0.7.0 in /usr/local/lib/python3.7/dist-packages (from google-auth-oauthlib<0.5,>=0.4.1->tensorboard<2.9,>=2.8->tensorflow->orbax) (1.3.1)\n",
            "Requirement already satisfied: importlib-metadata>=4.4 in /usr/local/lib/python3.7/dist-packages (from markdown>=2.6.8->tensorboard<2.9,>=2.8->tensorflow->orbax) (4.12.0)\n",
            "Requirement already satisfied: pyasn1<0.5.0,>=0.4.6 in /usr/local/lib/python3.7/dist-packages (from pyasn1-modules>=0.2.1->google-auth<3,>=1.6.3->tensorboard<2.9,>=2.8->tensorflow->orbax) (0.4.8)\n",
            "Requirement already satisfied: certifi>=2017.4.17 in /usr/local/lib/python3.7/dist-packages (from requests<3,>=2.21.0->tensorboard<2.9,>=2.8->tensorflow->orbax) (2022.6.15)\n",
            "Requirement already satisfied: chardet<4,>=3.0.2 in /usr/local/lib/python3.7/dist-packages (from requests<3,>=2.21.0->tensorboard<2.9,>=2.8->tensorflow->orbax) (3.0.4)\n",
            "Requirement already satisfied: idna<3,>=2.5 in /usr/local/lib/python3.7/dist-packages (from requests<3,>=2.21.0->tensorboard<2.9,>=2.8->tensorflow->orbax) (2.10)\n",
            "Requirement already satisfied: urllib3!=1.25.0,!=1.25.1,<1.26,>=1.21.1 in /usr/local/lib/python3.7/dist-packages (from requests<3,>=2.21.0->tensorboard<2.9,>=2.8->tensorflow->orbax) (1.24.3)\n",
            "Requirement already satisfied: oauthlib>=3.0.0 in /usr/local/lib/python3.7/dist-packages (from requests-oauthlib>=0.7.0->google-auth-oauthlib<0.5,>=0.4.1->tensorboard<2.9,>=2.8->tensorflow->orbax) (3.2.0)\n",
            "Installing collected packages: commonmark, colorama, chex, rich, pyyaml, optax, tensorstore, flax, dataclasses, orbax\n",
            "  Attempting uninstall: pyyaml\n",
            "    Found existing installation: PyYAML 3.13\n",
            "    Uninstalling PyYAML-3.13:\n",
            "      Successfully uninstalled PyYAML-3.13\n",
            "Successfully installed chex-0.1.3 colorama-0.4.5 commonmark-0.9.1 dataclasses-0.6 flax-0.5.2 optax-0.1.3 orbax-0.0.3 pyyaml-6.0 rich-11.2.0 tensorstore-0.1.21\n"
          ]
        }
      ],
      "source": [
        "!pip install orbax"
      ]
    },
    {
      "cell_type": "code",
      "execution_count": 2,
      "metadata": {
        "id": "uJhi2HT6W9i3"
      },
      "outputs": [],
      "source": [
        "import orbax.checkpoint\n",
        "import time\n",
        "from collections import namedtuple\n",
        "import orbax.checkpoint as orbax\n",
        "import jax\n",
        "from jax.experimental.maps import Mesh\n",
        "from jax.experimental.pjit import pjit, PartitionSpec\n",
        "import numpy as np\n",
        "import tensorflow as tf\n",
        "from jax.experimental.global_device_array import GlobalDeviceArray"
      ]
    },
    {
      "cell_type": "code",
      "source": [
        "# Enable GDA\n",
        "jax.config.update('jax_parallel_functions_output_gda', True)\n",
        "devices = np.asarray(jax.devices())\n",
        "\n",
        "mesh = Mesh(devices, ('data',))\n",
        "axes = PartitionSpec('data',)"
      ],
      "metadata": {
        "id": "-6BK58qYZ6fD"
      },
      "execution_count": 5,
      "outputs": []
    },
    {
      "cell_type": "code",
      "source": [
        "#@title checkpoints_directory\n",
        "\n",
        "directory = '/cns/gg-d/home/cpgaffney/colab' #@param {type:\"string\"}\n",
        "\n",
        "print(directory)"
      ],
      "metadata": {
        "id": "ZjPaq18rYgDM",
        "outputId": "e2723f18-ea20-4293-bafa-c9c6234455f8",
        "colab": {
          "base_uri": "https://localhost:8080/"
        }
      },
      "execution_count": 6,
      "outputs": [
        {
          "output_type": "stream",
          "name": "stdout",
          "text": [
            "/cns/gg-d/home/cpgaffney/colab\n"
          ]
        }
      ]
    },
    {
      "cell_type": "markdown",
      "source": [
        "# A Very Basic Example"
      ],
      "metadata": {
        "id": "8ADSHBafjGnO"
      }
    },
    {
      "cell_type": "code",
      "source": [
        "options = orbax.CheckpointManagerOptions(save_interval_steps=1, max_to_keep=3)\n",
        "mngr = orbax.CheckpointManager(\n",
        "    directory, orbax.Checkpointer(orbax.PyTreeCheckpointHandler()), options)"
      ],
      "metadata": {
        "colab": {
          "height": 201,
          "base_uri": "https://localhost:8080/"
        },
        "id": "egh94fWsY8u3",
        "outputId": "8de2d96f-b687-43bd-de5c-d58ac9305c2d"
      },
      "execution_count": 7,
      "outputs": [
        {
          "output_type": "error",
          "ename": "AttributeError",
          "evalue": "ignored",
          "traceback": [
            "\u001b[0;31m---------------------------------------------------------------------------\u001b[0m",
            "\u001b[0;31mAttributeError\u001b[0m                            Traceback (most recent call last)",
            "\u001b[0;32m<ipython-input-7-639534849376>\u001b[0m in \u001b[0;36m<module>\u001b[0;34m()\u001b[0m\n\u001b[1;32m      1\u001b[0m \u001b[0moptions\u001b[0m \u001b[0;34m=\u001b[0m \u001b[0morbax\u001b[0m\u001b[0;34m.\u001b[0m\u001b[0mCheckpointManagerOptions\u001b[0m\u001b[0;34m(\u001b[0m\u001b[0msave_interval_steps\u001b[0m\u001b[0;34m=\u001b[0m\u001b[0;36m1\u001b[0m\u001b[0;34m,\u001b[0m \u001b[0mmax_to_keep\u001b[0m\u001b[0;34m=\u001b[0m\u001b[0;36m3\u001b[0m\u001b[0;34m)\u001b[0m\u001b[0;34m\u001b[0m\u001b[0;34m\u001b[0m\u001b[0m\n\u001b[1;32m      2\u001b[0m mngr = orbax.CheckpointManager(\n\u001b[0;32m----> 3\u001b[0;31m     directory, orbax.Checkpointer(orbax.PyTreeCheckpointHandler()), options)\n\u001b[0m",
            "\u001b[0;31mAttributeError\u001b[0m: module 'orbax.checkpoint' has no attribute 'Checkpointer'"
          ]
        }
      ]
    },
    {
      "cell_type": "markdown",
      "source": [
        "The CheckpointManager is constructed with `Checkpointer` and `CheckpointHandler` objects. We will discuss these further below, but at a high level, the `Checkpointer` controls the *manner in which* the object is saved while the `CheckpointHandler` deals with type-specific logic and provides extra options for customization."
      ],
      "metadata": {
        "id": "W6NhiTjsqvfY"
      }
    },
    {
      "cell_type": "markdown",
      "source": [
        "First, we'll need to perform some setup to create a train state that mimics in a very basic form how a real model might look. We use GDA for this is example, but it is also possible to use scalars or numpy arrays, assuming they are *replicated* or *not sharded*."
      ],
      "metadata": {
        "id": "WZkkIUOpjMV0"
      }
    },
    {
      "cell_type": "code",
      "source": [
        "def create_initial_state():\n",
        "  state = {\n",
        "      'layer_0': {\n",
        "          'bias': np.zeros(16),\n",
        "          'kernel': np.arange(16),\n",
        "      },\n",
        "      'layer_1': {\n",
        "          'bias': np.zeros(8),\n",
        "          'kernel': np.arange(8),\n",
        "      },\n",
        "  }\n",
        "\n",
        "  create_gda = pjit(lambda x: x, in_axis_resources=axes, out_axis_resources=axes)\n",
        "  with Mesh(mesh.devices, mesh.axis_names):\n",
        "    state = jax.tree_map(create_gda, state)\n",
        "\n",
        "  state['step'] = 0\n",
        "  return state"
      ],
      "metadata": {
        "id": "1L1LBgvhZihS"
      },
      "execution_count": null,
      "outputs": []
    },
    {
      "cell_type": "markdown",
      "source": [
        "Here's our mock training step. At every step, we save a checkpoint. Since we specified `max_to_keep=3` in our options, we expect to only have the latest 3 checkpoints at the end of training."
      ],
      "metadata": {
        "id": "i-DZFqWUjqnR"
      }
    },
    {
      "cell_type": "code",
      "source": [
        "state = create_initial_state()\n",
        "\n",
        "def train(step, state):\n",
        "  # do some training, modify state\n",
        "  state['step'] = step\n",
        "\n",
        "  mngr.save(step, state)\n",
        "\n",
        "  return state\n",
        "\n",
        "for step in range(5):\n",
        "  state = train(step, state)\n",
        "\n",
        "print(f'Steps: {mngr.all_steps()}')"
      ],
      "metadata": {
        "colab": {
          "height": 411
        },
        "id": "81UiMOv-bj8j",
        "outputId": "c32efe0b-fafa-488e-892c-b6e65ea2bab4"
      },
      "execution_count": null,
      "outputs": [
        {
          "output_type": "stream",
          "name": "stderr",
          "text": [
            "/export/hda3/borglet/remote_hdd_fs_dirs/0.colab_kernel_brain_frameworks_tpu_dd_cpgaffney.kernel.cpgaffney.5085162931049.14b334fb3717c109/mount/server/ml_notebook.runfiles/google3/third_party/py/jax/_src/tree_util.py:527: UserWarning: jax.tree_map is deprecated, and will be removed in a future release. Use jax.tree_util.tree_map instead.\n",
            "  warnings.warn(f\"jax.{f.__name__} is deprecated, and will be removed in a future release. \"\n"
          ]
        },
        {
          "output_type": "error",
          "ename": "NameError",
          "evalue": "ignored",
          "traceback": [
            "\u001b[1;31m---------------------------------------------------------------------------\u001b[0m",
            "\u001b[1;31mNameError\u001b[0m                                 Traceback (most recent call last)",
            "\u001b[1;32m<ipython-input-60-2a5d838bf8a1>\u001b[0m in \u001b[0;36m<module>\u001b[1;34m()\u001b[0m\n\u001b[0;32m     10\u001b[0m \u001b[1;33m\u001b[0m\u001b[0m\n\u001b[0;32m     11\u001b[0m \u001b[1;32mfor\u001b[0m \u001b[0mstep\u001b[0m \u001b[1;32min\u001b[0m \u001b[0mrange\u001b[0m\u001b[1;33m(\u001b[0m\u001b[1;36m5\u001b[0m\u001b[1;33m)\u001b[0m\u001b[1;33m:\u001b[0m\u001b[1;33m\u001b[0m\u001b[1;33m\u001b[0m\u001b[0m\n\u001b[1;32m---> 12\u001b[1;33m   \u001b[0mstate\u001b[0m \u001b[1;33m=\u001b[0m \u001b[0mtrain\u001b[0m\u001b[1;33m(\u001b[0m\u001b[0mstep\u001b[0m\u001b[1;33m,\u001b[0m \u001b[0mstate\u001b[0m\u001b[1;33m)\u001b[0m\u001b[1;33m\u001b[0m\u001b[1;33m\u001b[0m\u001b[0m\n\u001b[0m\u001b[0;32m     13\u001b[0m \u001b[1;33m\u001b[0m\u001b[0m\n\u001b[0;32m     14\u001b[0m \u001b[0mprint\u001b[0m\u001b[1;33m(\u001b[0m\u001b[1;34mf'Steps: {mngr.all_steps()}'\u001b[0m\u001b[1;33m)\u001b[0m\u001b[1;33m\u001b[0m\u001b[1;33m\u001b[0m\u001b[0m\n",
            "\u001b[1;32m<ipython-input-60-2a5d838bf8a1>\u001b[0m in \u001b[0;36mtrain\u001b[1;34m(step, state)\u001b[0m\n\u001b[0;32m      5\u001b[0m   \u001b[0mstate\u001b[0m\u001b[1;33m[\u001b[0m\u001b[1;34m'step'\u001b[0m\u001b[1;33m]\u001b[0m \u001b[1;33m=\u001b[0m \u001b[0mstep\u001b[0m\u001b[1;33m\u001b[0m\u001b[1;33m\u001b[0m\u001b[0m\n\u001b[0;32m      6\u001b[0m \u001b[1;33m\u001b[0m\u001b[0m\n\u001b[1;32m----> 7\u001b[1;33m   \u001b[0mmngr\u001b[0m\u001b[1;33m.\u001b[0m\u001b[0msave\u001b[0m\u001b[1;33m(\u001b[0m\u001b[0mstep\u001b[0m\u001b[1;33m,\u001b[0m \u001b[0mstate\u001b[0m\u001b[1;33m)\u001b[0m\u001b[1;33m\u001b[0m\u001b[1;33m\u001b[0m\u001b[0m\n\u001b[0m\u001b[0;32m      8\u001b[0m \u001b[1;33m\u001b[0m\u001b[0m\n\u001b[0;32m      9\u001b[0m   \u001b[1;32mreturn\u001b[0m \u001b[0mstate\u001b[0m\u001b[1;33m\u001b[0m\u001b[1;33m\u001b[0m\u001b[0m\n",
            "\u001b[1;31mNameError\u001b[0m: name 'mngr' is not defined"
          ],
          "debug": {
            "argv": [
              "/export/hda3/borglet/remote_hdd_fs_dirs/0.colab_kernel_brain_frameworks_tpu_dd_cpgaffney.kernel.cpgaffney.5085162931049.14b334fb3717c109/mount/server/ml_notebook",
              "kernel",
              "-f",
              "/tmp/ipy-be-oqg_qw8f/profile_colab/security/kernel-abc3df9f-f0bc-45be-b0bb-127d0393bea1.json",
              "--profile-dir",
              "/tmp/ipy-be-oqg_qw8f/profile_colab",
              "--profile=colab",
              "--ipython-dir=/tmp/ipy-be-_djth8i6",
              "--no-secure"
            ],
            "build": "Built on Mon Jul 11 18:57:33 2022 (1657591053)\nBuilt by brain-frameworks-releaser@lghp7.prod.google.com:/google/src/cloud/buildrabbit-username/buildrabbit-client/google3\nBuilt as //learning/deepmind/public/tools/ml_python:ml_notebook\nBuild ID: 037f251f-970b-477a-b15f-16b55bee09a0\nBuilt from changelist 460336967 in a mint client based on //depot/google3\nBuild label: ml_notebook_no_par_mpm_2022-07-11-18_00_RC00\nBuild platform: gcc-4.X.Y-crosstool-v18-llvm-grtev4-k8\nBuild tool: Blaze, release blaze-2022.06.30-1 (mainline @458092208)\nBuilt with par options [--compress, --compress]\nCurrently running under Python 3.9.12: embedded.\n",
            "user": "cpgaffney"
          }
        }
      ]
    },
    {
      "cell_type": "markdown",
      "source": [
        "# A More Complicated Example"
      ],
      "metadata": {
        "id": "g8bTdGJ4j-sQ"
      }
    },
    {
      "cell_type": "markdown",
      "source": [
        "In the following example, we will checkpoint multiple objects, and also use metrics to track our best checkpoint so far. \n",
        "\n",
        "We will also allow the state to be saved asynchronously using `AsyncCheckpointer`. This means checkpointing will happen in a background thread, leaving us free to continue training or other tasks in the main thread."
      ],
      "metadata": {
        "id": "4LnkNt3ulCQm"
      }
    },
    {
      "cell_type": "code",
      "source": [
        "options = orbax.CheckpointManagerOptions(\n",
        "    save_interval_steps=1,\n",
        "    max_to_keep=3,\n",
        "    best_fn=lambda metrics: metrics['loss'],\n",
        "    best_mode='min')\n",
        "mngr = orbax.CheckpointManager(\n",
        "    directory, {\n",
        "        'state': orbax.AsyncCheckpointer(orbax.PyTreeCheckpointHandler()),\n",
        "        'metadata': orbax.Checkpointer(orbax.JsonCheckpointHandler())\n",
        "    }, options)"
      ],
      "metadata": {
        "id": "vMES1J-ni-WJ"
      },
      "execution_count": null,
      "outputs": []
    },
    {
      "cell_type": "code",
      "source": [
        "state = create_initial_state()\n",
        "metadata = {\n",
        "    'version': 1.1,\n",
        "    'exp_name': 'my_test_exp',\n",
        "    'timestamp': 0,\n",
        "}\n",
        "\n",
        "\n",
        "def get_metrics(step):\n",
        "  return {'accuracy': 1.0, 'loss': step * 1.5}\n",
        "\n",
        "\n",
        "def train(step, state):\n",
        "  # do some training, modify state\n",
        "  metrics = get_metrics(step)\n",
        "  state['step'] = step\n",
        "  metadata['timestamp'] = time.time()\n",
        "\n",
        "  # save with default arguments for all params except 'step', which uses flax\n",
        "  state_save_args = jax.tree_map(lambda _: orbax.SaveArgs(), state)\n",
        "  state['step'] = SaveArgs(use_flax=True)\n",
        "\n",
        "  mngr.save(\n",
        "      step,\n",
        "      items={\n",
        "          'state': state,\n",
        "          'metadata': metadata\n",
        "      },\n",
        "      # save_kwargs must be a dict with the same keys as items.\n",
        "      # not all keys in items have to be provided, in which case default kwargs\n",
        "      # are used\n",
        "      # each value must be a dict with keyword args passed to the underlying\n",
        "      # CheckpointHandler for that item (see CheckpointManager object construction)\n",
        "      save_kwargs={'state': {\n",
        "          'save_args': state_save_args\n",
        "      }},\n",
        "      metrics=metrics)\n",
        "\n",
        "  return state\n",
        "\n",
        "\n",
        "for step in range(5):\n",
        "  state = train(step, state)\n",
        "\n",
        "mngr.wait_until_finished()\n",
        "print(f'Steps: {mngr.all_steps()}')"
      ],
      "metadata": {
        "id": "G4Gv7L4olc_n"
      },
      "execution_count": null,
      "outputs": []
    },
    {
      "cell_type": "markdown",
      "source": [
        "Let's unpack what's happening. \n",
        "\n",
        "For starters, we now track metrics, which can be used to keep only the best checkpoints saved, while deleting the rest. Since our loss is getting progressively worse, and `best_mode='min'`, we will keep the first checkpoints, rather than the most recent ones. The metrics may be an arbitrary PyTree; it is up to you to define how it is interpreted. \n",
        "\n",
        "Our metadata will be saved synchronously, but our state will be saved in a background thread. After calling `save`, all files for the state may not have been written yet. In the meantime, we may continue training. However, we need to call `wait_until_finished` before ending our training program to block for any outstanding save operations. Calling `save` again will do this automatically - you cannot have multiple saves for multiple steps running concurrently.\n",
        "\n",
        "We also have extra arguments to customize saving for the `step` parameter within the train state. Because this is only an integer, using the default storage mechanism, [Tensorstore](https://google.github.io/tensorstore/) might be somewhat overkill. It would be more efficient to store it, along with any other similarly small parameters, into a single file using [flax.serialization](https://flax.readthedocs.io/en/latest/flax.serialization.html). The parameters passed here should match the optional arguments for the provided `CheckpointHandler`. See below for further details."
      ],
      "metadata": {
        "id": "IuRKldW3olfe"
      }
    },
    {
      "cell_type": "markdown",
      "source": [
        "# Checkpointer"
      ],
      "metadata": {
        "id": "4LhlleItrj-Z"
      }
    },
    {
      "cell_type": "markdown",
      "source": [
        "`Checkpointer` allows you to save an object to a specified directory without providing any of the structure or extra features that `CheckpointManager` does."
      ],
      "metadata": {
        "id": "haVQ6YJ1ro4B"
      }
    },
    {
      "cell_type": "code",
      "source": [
        "state = create_initial_state()\n",
        "ckptr = orbax.Checkpointer(PyTreeCheckpointHandler())\n",
        "\n",
        "existing_checkpoint_dir = tf.io.gfile.join(directory, '0', 'state')\n",
        "restore_args = jax.tree_map(lambda _: orbax.RestoreArgs(mesh=mesh, mesh_axes=axes))\n",
        "restore_args['step'] = orbax.RestoreArgs(as_gda=False)\n",
        "restored = ckptr.restore(existing_checkpoint_dir, restore_args=restore_args)\n",
        "print(restored)"
      ],
      "metadata": {
        "id": "AyQkbTDOrn_t"
      },
      "execution_count": null,
      "outputs": []
    },
    {
      "cell_type": "markdown",
      "source": [
        "As shown in this example, this object may be useful for restoring a pre-exisiting checkpoint without requiring a `CheckpointManager`."
      ],
      "metadata": {
        "id": "i-JTtxeNtO95"
      }
    },
    {
      "cell_type": "markdown",
      "source": [
        "# CheckpointHandler"
      ],
      "metadata": {
        "id": "M-_hqQoTtrAK"
      }
    },
    {
      "cell_type": "markdown",
      "source": [
        "**`CheckpointHandler` should not be used independently of `Checkpointer` or `CheckpointManager`.** \n",
        "\n",
        "Additional documentation coming soon. See go/orbax/checkpoint."
      ],
      "metadata": {
        "id": "6dBp6ACStu1C"
      }
    },
    {
      "cell_type": "markdown",
      "source": [
        "TODO(cpgaffney) Add sections on usage of the transformations library and (later) how to customize CheckpoitnHandler."
      ],
      "metadata": {
        "id": "dkcDNjLPzBfZ"
      }
    }
  ]
}